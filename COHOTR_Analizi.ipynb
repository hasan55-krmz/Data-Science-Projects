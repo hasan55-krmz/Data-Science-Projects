{
 "cells": [
  {
   "cell_type": "markdown",
   "metadata": {},
   "source": [
    "# COHORT ANALİZİ\n",
    "\n",
    "#### ** Kohort analizi fikri, kullanıcıları belirli kriterlere göre gruplara ayırmak ve bu grupların davranışlarının zaman içinde nasıl değiştiğini incelemektir. Kohort analizi, pazarlama çabalarınızın temel performans göstergelerini (dönüşüm, elde tutma oranları, yatırım getirisi vb.) nasıl etkilediğini anlamanıza yardımcı olur.\n",
    "\n",
    "#### Müşterileri gruplandırıp grupları birbirine göre ve kendi içinde incelememize yardımcı olmaktadır\n",
    "\n"
   ]
  },
  {
   "cell_type": "markdown",
   "metadata": {},
   "source": [
    "#### Bu çalışmada da \"online retail\" veri seti üzerinde kohort analizi ypmaya çalışcağaım\n",
    "\n",
    "#### Online retail veir seti satış verilerini barıdndırmaktadır. Her bir gözlem ürün bazında bilgi içermektedir. Yani bir gözlem alınan bir ürünün hangi kişi tarafından  ve kişinin hangi alışverişi olduğunu ifade eden fatura numaraları ve tarihlerini vb. bilgileri  barındırmaktadır.\n",
    "\n",
    "* **InvoiceNo:** Satılan ürünü içeren faturanın numarasını ifade etmektedir.\n",
    "* **StockCode:** Her bir ürünün numarasını ifade etmektedir.\n",
    "* **Description:** Ürünlerin Tanımı\n",
    "* **Quantity:** ilgili alınan ürünün ne kadar alındığını ifade eder\n",
    "* **InvoiceDate:** Ne zaman alındığını, fatura tarihini ifade eder\n",
    "* **UnitPrice:** İlgili alınan ürünün hangi fiyattan alındığını ifade eder\n",
    "* **CustomerID:** İlgili ürünü alan müşterinin numarasıdır (ID)\n",
    "* **Country:** İlgili ürünü alan müşterinin Ülkesi"
   ]
  },
  {
   "cell_type": "code",
   "execution_count": 122,
   "metadata": {
    "jupyter": {
     "source_hidden": true
    }
   },
   "outputs": [],
   "source": [
    "pd.pandas.set_option('display.max_row', 50)\n",
    "pd.set_option('display.float_format', lambda x: '%.3f' % x)\n",
    "pd.set_option('display.width', 170)"
   ]
  },
  {
   "cell_type": "markdown",
   "metadata": {},
   "source": [
    "## Kütüpheneler ve Verinin Okunması-İncelenmesi"
   ]
  },
  {
   "cell_type": "code",
   "execution_count": 87,
   "metadata": {},
   "outputs": [],
   "source": [
    "#### Temel dataframe işlemleri ve matematik işlemleri\n",
    "import numpy as np\n",
    "import pandas as pd\n",
    "\n",
    "#### Görselleştirme\n",
    "import seaborn as sns\n",
    "import matplotlib.pyplot as plt\n",
    "from operator import attrgetter\n",
    "import matplotlib.colors as mcolors\n",
    "\n",
    "#### Diğerleri\n",
    "pd.set_option('display.max_rows', 10)\n",
    "import matplotlib.pyplot as plt\n",
    "import warnings\n",
    "warnings.filterwarnings(\"ignore\")\n",
    "from operator import attrgetter"
   ]
  },
  {
   "cell_type": "code",
   "execution_count": 3,
   "metadata": {},
   "outputs": [],
   "source": [
    "### Veri Setinin Okunması\n",
    "df_ = pd.read_excel('online_retail.xlsx',\n",
    "                   dtype={'CustomerID': str,\n",
    "                          'InvoiceID': str},\n",
    "                   parse_dates=['InvoiceDate'])\n",
    "df = df_.copy()"
   ]
  },
  {
   "cell_type": "markdown",
   "metadata": {},
   "source": [
    "### Veriyi biraz inceleyelim"
   ]
  },
  {
   "cell_type": "code",
   "execution_count": 222,
   "metadata": {},
   "outputs": [
    {
     "data": {
      "text/html": [
       "<div>\n",
       "<style scoped>\n",
       "    .dataframe tbody tr th:only-of-type {\n",
       "        vertical-align: middle;\n",
       "    }\n",
       "\n",
       "    .dataframe tbody tr th {\n",
       "        vertical-align: top;\n",
       "    }\n",
       "\n",
       "    .dataframe thead th {\n",
       "        text-align: right;\n",
       "    }\n",
       "</style>\n",
       "<table border=\"1\" class=\"dataframe\">\n",
       "  <thead>\n",
       "    <tr style=\"text-align: right;\">\n",
       "      <th></th>\n",
       "      <th>InvoiceNo</th>\n",
       "      <th>StockCode</th>\n",
       "      <th>Description</th>\n",
       "      <th>Quantity</th>\n",
       "      <th>InvoiceDate</th>\n",
       "      <th>UnitPrice</th>\n",
       "      <th>CustomerID</th>\n",
       "      <th>Country</th>\n",
       "    </tr>\n",
       "  </thead>\n",
       "  <tbody>\n",
       "    <tr>\n",
       "      <th>0</th>\n",
       "      <td>536365</td>\n",
       "      <td>85123A</td>\n",
       "      <td>WHITE HANGING HEART T-LIGHT HOLDER</td>\n",
       "      <td>6</td>\n",
       "      <td>2010-12-01 08:26:00</td>\n",
       "      <td>2.550</td>\n",
       "      <td>17850</td>\n",
       "      <td>United Kingdom</td>\n",
       "    </tr>\n",
       "    <tr>\n",
       "      <th>1</th>\n",
       "      <td>536365</td>\n",
       "      <td>71053</td>\n",
       "      <td>WHITE METAL LANTERN</td>\n",
       "      <td>6</td>\n",
       "      <td>2010-12-01 08:26:00</td>\n",
       "      <td>3.390</td>\n",
       "      <td>17850</td>\n",
       "      <td>United Kingdom</td>\n",
       "    </tr>\n",
       "    <tr>\n",
       "      <th>2</th>\n",
       "      <td>536365</td>\n",
       "      <td>84406B</td>\n",
       "      <td>CREAM CUPID HEARTS COAT HANGER</td>\n",
       "      <td>8</td>\n",
       "      <td>2010-12-01 08:26:00</td>\n",
       "      <td>2.750</td>\n",
       "      <td>17850</td>\n",
       "      <td>United Kingdom</td>\n",
       "    </tr>\n",
       "    <tr>\n",
       "      <th>3</th>\n",
       "      <td>536365</td>\n",
       "      <td>84029G</td>\n",
       "      <td>KNITTED UNION FLAG HOT WATER BOTTLE</td>\n",
       "      <td>6</td>\n",
       "      <td>2010-12-01 08:26:00</td>\n",
       "      <td>3.390</td>\n",
       "      <td>17850</td>\n",
       "      <td>United Kingdom</td>\n",
       "    </tr>\n",
       "    <tr>\n",
       "      <th>4</th>\n",
       "      <td>536365</td>\n",
       "      <td>84029E</td>\n",
       "      <td>RED WOOLLY HOTTIE WHITE HEART.</td>\n",
       "      <td>6</td>\n",
       "      <td>2010-12-01 08:26:00</td>\n",
       "      <td>3.390</td>\n",
       "      <td>17850</td>\n",
       "      <td>United Kingdom</td>\n",
       "    </tr>\n",
       "  </tbody>\n",
       "</table>\n",
       "</div>"
      ],
      "text/plain": [
       "  InvoiceNo StockCode                          Description  Quantity         InvoiceDate  UnitPrice CustomerID         Country\n",
       "0    536365    85123A   WHITE HANGING HEART T-LIGHT HOLDER         6 2010-12-01 08:26:00      2.550      17850  United Kingdom\n",
       "1    536365     71053                  WHITE METAL LANTERN         6 2010-12-01 08:26:00      3.390      17850  United Kingdom\n",
       "2    536365    84406B       CREAM CUPID HEARTS COAT HANGER         8 2010-12-01 08:26:00      2.750      17850  United Kingdom\n",
       "3    536365    84029G  KNITTED UNION FLAG HOT WATER BOTTLE         6 2010-12-01 08:26:00      3.390      17850  United Kingdom\n",
       "4    536365    84029E       RED WOOLLY HOTTIE WHITE HEART.         6 2010-12-01 08:26:00      3.390      17850  United Kingdom"
      ]
     },
     "execution_count": 222,
     "metadata": {},
     "output_type": "execute_result"
    }
   ],
   "source": [
    "df = df_.copy()\n",
    "df.head()"
   ]
  },
  {
   "cell_type": "code",
   "execution_count": 225,
   "metadata": {},
   "outputs": [
    {
     "data": {
      "text/plain": [
       "(541909, 8)"
      ]
     },
     "execution_count": 225,
     "metadata": {},
     "output_type": "execute_result"
    }
   ],
   "source": [
    "df.shape"
   ]
  },
  {
   "cell_type": "code",
   "execution_count": null,
   "metadata": {},
   "outputs": [],
   "source": []
  },
  {
   "cell_type": "markdown",
   "metadata": {},
   "source": [
    "#### Kaç Eşsiz Müşteri ve Kaç farklı alışveriş olmuş bakalım"
   ]
  },
  {
   "cell_type": "code",
   "execution_count": 219,
   "metadata": {},
   "outputs": [
    {
     "name": "stdout",
     "output_type": "stream",
     "text": [
      "Eşsiz Müşteri sayısı : 4372\n",
      "Alışveriş sayısı: 25900\n",
      "Eşsiz Ürün sayısı: 4070\n"
     ]
    }
   ],
   "source": [
    "print(f\"Eşsiz Müşteri sayısı :\",df[\"CustomerID\"].nunique())\n",
    "print(f\"Alışveriş sayısı:\",df[\"InvoiceNo\"].nunique())\n",
    "print(f\"Eşsiz Ürün sayısı:\",df[\"StockCode\"].nunique())\n"
   ]
  },
  {
   "cell_type": "code",
   "execution_count": null,
   "metadata": {},
   "outputs": [],
   "source": []
  },
  {
   "cell_type": "markdown",
   "metadata": {},
   "source": [
    "## 1. Retention Matrisinin Oluşturulması\n",
    "\n",
    "**Retention matrisi ile her bir ayda gelen müşteri gruplarının hepsinin aynı zaman peryodları açısından veya da kendi özelinde sonraki periyotlarıdaki gelme durumlarını incelemeye yönelik bilgileri ortaya koyar**"
   ]
  },
  {
   "cell_type": "markdown",
   "metadata": {},
   "source": [
    "### Adım 1:Herbir müşteri için eşsiz fatura sayısının bleirlenmesi. Müşterilerin her birinin ne kaç defa alışveriş yaprığını bulmaya çalışıyoruz."
   ]
  },
  {
   "cell_type": "code",
   "execution_count": 145,
   "metadata": {},
   "outputs": [
    {
     "data": {
      "text/plain": [
       "CustomerID\n",
       "12346     2\n",
       "12347     7\n",
       "12348     4\n",
       "12349     1\n",
       "12350     1\n",
       "         ..\n",
       "18280     1\n",
       "18281     1\n",
       "18282     3\n",
       "18283    16\n",
       "18287     3\n",
       "Name: InvoiceNo, Length: 4372, dtype: int64"
      ]
     },
     "execution_count": 145,
     "metadata": {},
     "output_type": "execute_result"
    }
   ],
   "source": [
    "n_invoice= df.groupby(\"CustomerID\")[\"InvoiceNo\"].nunique()\n",
    "n_invoice"
   ]
  },
  {
   "cell_type": "markdown",
   "metadata": {},
   "source": [
    "### Adım2: Tüm veri setinde bir kereden fazla alışveriş yapan müşteri oranı."
   ]
  },
  {
   "cell_type": "code",
   "execution_count": 158,
   "metadata": {},
   "outputs": [
    {
     "name": "stdout",
     "output_type": "stream",
     "text": [
      "Müşterilerin %69.967978042086'i 1 defadan fazla alışveriş yapmıştır. Bu da 3059 adet müşteriyi ifade etmektedir\n"
     ]
    }
   ],
   "source": [
    "rate = sum(n_invoice>1)/df['CustomerID'].nunique()\n",
    "print(f\"Müşterilerin %{float(rate*100)}'i 1 defadan fazla alışveriş yapmıştır. Bu da {sum(n_invoice>1)} adet müşteriyi ifade etmektedir\")"
   ]
  },
  {
   "cell_type": "markdown",
   "metadata": {},
   "source": [
    "### Adım3: Sipariş aylarının yakalanması."
   ]
  },
  {
   "cell_type": "code",
   "execution_count": 159,
   "metadata": {},
   "outputs": [],
   "source": [
    "df['order_month'] = df['InvoiceDate'].dt.to_period('M')"
   ]
  },
  {
   "cell_type": "code",
   "execution_count": 160,
   "metadata": {},
   "outputs": [
    {
     "data": {
      "text/plain": [
       "0         2010-12\n",
       "1         2010-12\n",
       "2         2010-12\n",
       "3         2010-12\n",
       "4         2010-12\n",
       "           ...   \n",
       "541904    2011-12\n",
       "541905    2011-12\n",
       "541906    2011-12\n",
       "541907    2011-12\n",
       "541908    2011-12\n",
       "Name: order_month, Length: 541909, dtype: period[M]"
      ]
     },
     "execution_count": 160,
     "metadata": {},
     "output_type": "execute_result"
    }
   ],
   "source": [
    "df[\"order_month\"]"
   ]
  },
  {
   "cell_type": "markdown",
   "metadata": {},
   "source": [
    "### Adım4: Cohort değişkeninin oluşturulması.\n",
    "\n",
    "* Müşterilerin ilk saın alma tarihlerini tutmaya çalışıyoruz"
   ]
  },
  {
   "cell_type": "code",
   "execution_count": 161,
   "metadata": {},
   "outputs": [],
   "source": [
    "# her bir müşterinin ilk alışveriş yaptığı tarihi tutmaya çalıştım\n",
    "df['cohort'] = df.groupby('CustomerID')['InvoiceDate'].transform('min')"
   ]
  },
  {
   "cell_type": "code",
   "execution_count": 162,
   "metadata": {},
   "outputs": [
    {
     "data": {
      "text/plain": [
       "0         2010-12\n",
       "1         2010-12\n",
       "2         2010-12\n",
       "3         2010-12\n",
       "4         2010-12\n",
       "           ...   \n",
       "541904    2011-08\n",
       "541905    2011-08\n",
       "541906    2011-08\n",
       "541907    2011-08\n",
       "541908    2011-08\n",
       "Name: cohort, Length: 541909, dtype: period[M]"
      ]
     },
     "execution_count": 162,
     "metadata": {},
     "output_type": "execute_result"
    }
   ],
   "source": [
    "# Tarahi ay-yıl formatına çevirdim\n",
    "df[\"cohort\"]=df[\"cohort\"].dt.to_period('M')\n",
    "df[\"cohort\"]"
   ]
  },
  {
   "cell_type": "markdown",
   "metadata": {},
   "source": [
    "### Adım5: Aylık müşteri sayılarının çıkarılması.\n",
    "\n",
    "* Aylara göre kaç tekil yen  müşteri geldiğini  tutmaya çalışyıyorum."
   ]
  },
  {
   "cell_type": "code",
   "execution_count": 173,
   "metadata": {},
   "outputs": [
    {
     "data": {
      "text/plain": [
       "cohort\n",
       "2010-12    948\n",
       "2011-01    421\n",
       "2011-02    380\n",
       "2011-03    440\n",
       "2011-04    299\n",
       "2011-05    279\n",
       "2011-06    235\n",
       "2011-07    191\n",
       "2011-08    167\n",
       "2011-09    298\n",
       "2011-10    352\n",
       "2011-11    321\n",
       "2011-12     41\n",
       "Freq: M, Name: CustomerID, dtype: int64"
      ]
     },
     "execution_count": 173,
     "metadata": {},
     "output_type": "execute_result"
    }
   ],
   "source": [
    "n_customer=df.groupby([\"cohort\"])[\"CustomerID\"].nunique().head(13)\n",
    "n_customer"
   ]
  },
  {
   "cell_type": "code",
   "execution_count": 226,
   "metadata": {},
   "outputs": [
    {
     "data": {
      "image/png": "[encoded data removed]",
      "text/plain": [
       "<Figure size 360x360 with 1 Axes>"
      ]
     },
     "metadata": {},
     "output_type": "display_data"
    }
   ],
   "source": [
    "sns.relplot(n_customer.index.astype(str),n_customer[0:], kind=\"line\",color=\"b\")\n",
    "plt.xticks(rotation=90);"
   ]
  },
  {
   "cell_type": "markdown",
   "metadata": {},
   "source": [
    "**Cohortların aylara göre müşteri sayılarını bulmaya çalıştım. Yani  örneğin 2010-11 de gelen müşteriler hangi ayda kaç tanesi alışveriş yapmış bunu bulmaya çalıştım**"
   ]
  },
  {
   "cell_type": "code",
   "execution_count": 194,
   "metadata": {},
   "outputs": [
    {
     "data": {
      "text/html": [
       "<div>\n",
       "<style scoped>\n",
       "    .dataframe tbody tr th:only-of-type {\n",
       "        vertical-align: middle;\n",
       "    }\n",
       "\n",
       "    .dataframe tbody tr th {\n",
       "        vertical-align: top;\n",
       "    }\n",
       "\n",
       "    .dataframe thead th {\n",
       "        text-align: right;\n",
       "    }\n",
       "</style>\n",
       "<table border=\"1\" class=\"dataframe\">\n",
       "  <thead>\n",
       "    <tr style=\"text-align: right;\">\n",
       "      <th></th>\n",
       "      <th>cohort</th>\n",
       "      <th>order_month</th>\n",
       "      <th>n_customers</th>\n",
       "    </tr>\n",
       "  </thead>\n",
       "  <tbody>\n",
       "    <tr>\n",
       "      <th>0</th>\n",
       "      <td>2010-12</td>\n",
       "      <td>2010-12</td>\n",
       "      <td>948</td>\n",
       "    </tr>\n",
       "    <tr>\n",
       "      <th>1</th>\n",
       "      <td>2010-12</td>\n",
       "      <td>2011-01</td>\n",
       "      <td>362</td>\n",
       "    </tr>\n",
       "    <tr>\n",
       "      <th>2</th>\n",
       "      <td>2010-12</td>\n",
       "      <td>2011-02</td>\n",
       "      <td>317</td>\n",
       "    </tr>\n",
       "    <tr>\n",
       "      <th>3</th>\n",
       "      <td>2010-12</td>\n",
       "      <td>2011-03</td>\n",
       "      <td>367</td>\n",
       "    </tr>\n",
       "    <tr>\n",
       "      <th>4</th>\n",
       "      <td>2010-12</td>\n",
       "      <td>2011-04</td>\n",
       "      <td>341</td>\n",
       "    </tr>\n",
       "  </tbody>\n",
       "</table>\n",
       "</div>"
      ],
      "text/plain": [
       "    cohort order_month  n_customers\n",
       "0  2010-12     2010-12          948\n",
       "1  2010-12     2011-01          362\n",
       "2  2010-12     2011-02          317\n",
       "3  2010-12     2011-03          367\n",
       "4  2010-12     2011-04          341"
      ]
     },
     "execution_count": 194,
     "metadata": {},
     "output_type": "execute_result"
    }
   ],
   "source": [
    "df_cohort=df.groupby([\"cohort\",\"order_month\"]).agg(n_customers=('CustomerID', 'nunique')).reset_index(drop=False)\n",
    "df_cohort.head()"
   ]
  },
  {
   "cell_type": "code",
   "execution_count": 212,
   "metadata": {},
   "outputs": [
    {
     "data": {
      "image/png": "[encoded data removed]",
      "text/plain": [
       "<Figure size 433.125x360 with 1 Axes>"
      ]
     },
     "metadata": {},
     "output_type": "display_data"
    }
   ],
   "source": [
    "fig.set_size_inches(18, 10)\n",
    "sns.relplot(df_cohort[\"order_month\"].astype(str),df_cohort[\"n_customers\"], data = df_cohort, kind=\"line\",hue=\"cohort\")\n",
    "plt.xticks(rotation=90);"
   ]
  },
  {
   "cell_type": "markdown",
   "metadata": {},
   "source": [
    " **Grafiğe baktığımızda her ayda gelen müşterilerin alışveriş yapanlarının sayısı bir sonaraki ayda ciddi düşüş yaşamaktadır**"
   ]
  },
  {
   "cell_type": "markdown",
   "metadata": {},
   "source": [
    "### Adım6: Periyod numarasının çıkarılması\n",
    "\n",
    "* Herhangi bir ayda ilk defa  gelen müşterilerin sonraki ilgili bir ayda kaç aylık müşteri olduklarına yönelik bir hesaplama"
   ]
  },
  {
   "cell_type": "code",
   "execution_count": 214,
   "metadata": {},
   "outputs": [
    {
     "data": {
      "text/html": [
       "<div>\n",
       "<style scoped>\n",
       "    .dataframe tbody tr th:only-of-type {\n",
       "        vertical-align: middle;\n",
       "    }\n",
       "\n",
       "    .dataframe tbody tr th {\n",
       "        vertical-align: top;\n",
       "    }\n",
       "\n",
       "    .dataframe thead th {\n",
       "        text-align: right;\n",
       "    }\n",
       "</style>\n",
       "<table border=\"1\" class=\"dataframe\">\n",
       "  <thead>\n",
       "    <tr style=\"text-align: right;\">\n",
       "      <th></th>\n",
       "      <th>cohort</th>\n",
       "      <th>order_month</th>\n",
       "      <th>n_customers</th>\n",
       "      <th>period_number</th>\n",
       "    </tr>\n",
       "  </thead>\n",
       "  <tbody>\n",
       "    <tr>\n",
       "      <th>0</th>\n",
       "      <td>2010-12</td>\n",
       "      <td>2010-12</td>\n",
       "      <td>948</td>\n",
       "      <td>0</td>\n",
       "    </tr>\n",
       "    <tr>\n",
       "      <th>1</th>\n",
       "      <td>2010-12</td>\n",
       "      <td>2011-01</td>\n",
       "      <td>362</td>\n",
       "      <td>1</td>\n",
       "    </tr>\n",
       "    <tr>\n",
       "      <th>2</th>\n",
       "      <td>2010-12</td>\n",
       "      <td>2011-02</td>\n",
       "      <td>317</td>\n",
       "      <td>2</td>\n",
       "    </tr>\n",
       "    <tr>\n",
       "      <th>3</th>\n",
       "      <td>2010-12</td>\n",
       "      <td>2011-03</td>\n",
       "      <td>367</td>\n",
       "      <td>3</td>\n",
       "    </tr>\n",
       "    <tr>\n",
       "      <th>4</th>\n",
       "      <td>2010-12</td>\n",
       "      <td>2011-04</td>\n",
       "      <td>341</td>\n",
       "      <td>4</td>\n",
       "    </tr>\n",
       "    <tr>\n",
       "      <th>...</th>\n",
       "      <td>...</td>\n",
       "      <td>...</td>\n",
       "      <td>...</td>\n",
       "      <td>...</td>\n",
       "    </tr>\n",
       "    <tr>\n",
       "      <th>86</th>\n",
       "      <td>2011-10</td>\n",
       "      <td>2011-11</td>\n",
       "      <td>93</td>\n",
       "      <td>1</td>\n",
       "    </tr>\n",
       "    <tr>\n",
       "      <th>87</th>\n",
       "      <td>2011-10</td>\n",
       "      <td>2011-12</td>\n",
       "      <td>46</td>\n",
       "      <td>2</td>\n",
       "    </tr>\n",
       "    <tr>\n",
       "      <th>88</th>\n",
       "      <td>2011-11</td>\n",
       "      <td>2011-11</td>\n",
       "      <td>321</td>\n",
       "      <td>0</td>\n",
       "    </tr>\n",
       "    <tr>\n",
       "      <th>89</th>\n",
       "      <td>2011-11</td>\n",
       "      <td>2011-12</td>\n",
       "      <td>43</td>\n",
       "      <td>1</td>\n",
       "    </tr>\n",
       "    <tr>\n",
       "      <th>90</th>\n",
       "      <td>2011-12</td>\n",
       "      <td>2011-12</td>\n",
       "      <td>41</td>\n",
       "      <td>0</td>\n",
       "    </tr>\n",
       "  </tbody>\n",
       "</table>\n",
       "<p>91 rows × 4 columns</p>\n",
       "</div>"
      ],
      "text/plain": [
       "     cohort order_month  n_customers  period_number\n",
       "0   2010-12     2010-12          948              0\n",
       "1   2010-12     2011-01          362              1\n",
       "2   2010-12     2011-02          317              2\n",
       "3   2010-12     2011-03          367              3\n",
       "4   2010-12     2011-04          341              4\n",
       "..      ...         ...          ...            ...\n",
       "86  2011-10     2011-11           93              1\n",
       "87  2011-10     2011-12           46              2\n",
       "88  2011-11     2011-11          321              0\n",
       "89  2011-11     2011-12           43              1\n",
       "90  2011-12     2011-12           41              0\n",
       "\n",
       "[91 rows x 4 columns]"
      ]
     },
     "execution_count": 214,
     "metadata": {},
     "output_type": "execute_result"
    }
   ],
   "source": [
    "df_cohort['period_number'] = (df_cohort.order_month - df_cohort.cohort).apply(attrgetter('n'))\n",
    "df_cohort"
   ]
  },
  {
   "cell_type": "code",
   "execution_count": null,
   "metadata": {},
   "outputs": [],
   "source": []
  },
  {
   "cell_type": "markdown",
   "metadata": {},
   "source": [
    "### Adım7: Cohort pivotunun oluşturulması"
   ]
  },
  {
   "cell_type": "code",
   "execution_count": 100,
   "metadata": {},
   "outputs": [],
   "source": [
    "cohort_pivot = df_cohort.pivot_table(index='cohort',\n",
    "                                     columns='period_number',\n",
    "                                     values='n_customers')\n",
    "\n",
    "\n",
    "cohort_size = cohort_pivot.iloc[:, 0]\n"
   ]
  },
  {
   "cell_type": "code",
   "execution_count": 101,
   "metadata": {},
   "outputs": [
    {
     "data": {
      "text/html": [
       "<div>\n",
       "<style scoped>\n",
       "    .dataframe tbody tr th:only-of-type {\n",
       "        vertical-align: middle;\n",
       "    }\n",
       "\n",
       "    .dataframe tbody tr th {\n",
       "        vertical-align: top;\n",
       "    }\n",
       "\n",
       "    .dataframe thead th {\n",
       "        text-align: right;\n",
       "    }\n",
       "</style>\n",
       "<table border=\"1\" class=\"dataframe\">\n",
       "  <thead>\n",
       "    <tr style=\"text-align: right;\">\n",
       "      <th>period_number</th>\n",
       "      <th>0</th>\n",
       "      <th>1</th>\n",
       "      <th>2</th>\n",
       "      <th>3</th>\n",
       "      <th>4</th>\n",
       "      <th>5</th>\n",
       "      <th>6</th>\n",
       "      <th>7</th>\n",
       "      <th>8</th>\n",
       "      <th>9</th>\n",
       "      <th>10</th>\n",
       "      <th>11</th>\n",
       "      <th>12</th>\n",
       "    </tr>\n",
       "    <tr>\n",
       "      <th>cohort</th>\n",
       "      <th></th>\n",
       "      <th></th>\n",
       "      <th></th>\n",
       "      <th></th>\n",
       "      <th></th>\n",
       "      <th></th>\n",
       "      <th></th>\n",
       "      <th></th>\n",
       "      <th></th>\n",
       "      <th></th>\n",
       "      <th></th>\n",
       "      <th></th>\n",
       "      <th></th>\n",
       "    </tr>\n",
       "  </thead>\n",
       "  <tbody>\n",
       "    <tr>\n",
       "      <th>2010-12</th>\n",
       "      <td>948.0</td>\n",
       "      <td>362.0</td>\n",
       "      <td>317.0</td>\n",
       "      <td>367.0</td>\n",
       "      <td>341.0</td>\n",
       "      <td>376.0</td>\n",
       "      <td>360.0</td>\n",
       "      <td>336.0</td>\n",
       "      <td>336.0</td>\n",
       "      <td>374.0</td>\n",
       "      <td>354.0</td>\n",
       "      <td>474.0</td>\n",
       "      <td>260.0</td>\n",
       "    </tr>\n",
       "    <tr>\n",
       "      <th>2011-01</th>\n",
       "      <td>421.0</td>\n",
       "      <td>101.0</td>\n",
       "      <td>119.0</td>\n",
       "      <td>102.0</td>\n",
       "      <td>138.0</td>\n",
       "      <td>126.0</td>\n",
       "      <td>110.0</td>\n",
       "      <td>108.0</td>\n",
       "      <td>131.0</td>\n",
       "      <td>146.0</td>\n",
       "      <td>155.0</td>\n",
       "      <td>63.0</td>\n",
       "      <td>NaN</td>\n",
       "    </tr>\n",
       "    <tr>\n",
       "      <th>2011-02</th>\n",
       "      <td>380.0</td>\n",
       "      <td>94.0</td>\n",
       "      <td>73.0</td>\n",
       "      <td>106.0</td>\n",
       "      <td>102.0</td>\n",
       "      <td>94.0</td>\n",
       "      <td>97.0</td>\n",
       "      <td>107.0</td>\n",
       "      <td>98.0</td>\n",
       "      <td>119.0</td>\n",
       "      <td>35.0</td>\n",
       "      <td>NaN</td>\n",
       "      <td>NaN</td>\n",
       "    </tr>\n",
       "    <tr>\n",
       "      <th>2011-03</th>\n",
       "      <td>440.0</td>\n",
       "      <td>84.0</td>\n",
       "      <td>112.0</td>\n",
       "      <td>96.0</td>\n",
       "      <td>102.0</td>\n",
       "      <td>78.0</td>\n",
       "      <td>116.0</td>\n",
       "      <td>105.0</td>\n",
       "      <td>127.0</td>\n",
       "      <td>39.0</td>\n",
       "      <td>NaN</td>\n",
       "      <td>NaN</td>\n",
       "      <td>NaN</td>\n",
       "    </tr>\n",
       "    <tr>\n",
       "      <th>2011-04</th>\n",
       "      <td>299.0</td>\n",
       "      <td>68.0</td>\n",
       "      <td>66.0</td>\n",
       "      <td>63.0</td>\n",
       "      <td>62.0</td>\n",
       "      <td>71.0</td>\n",
       "      <td>69.0</td>\n",
       "      <td>78.0</td>\n",
       "      <td>25.0</td>\n",
       "      <td>NaN</td>\n",
       "      <td>NaN</td>\n",
       "      <td>NaN</td>\n",
       "      <td>NaN</td>\n",
       "    </tr>\n",
       "    <tr>\n",
       "      <th>...</th>\n",
       "      <td>...</td>\n",
       "      <td>...</td>\n",
       "      <td>...</td>\n",
       "      <td>...</td>\n",
       "      <td>...</td>\n",
       "      <td>...</td>\n",
       "      <td>...</td>\n",
       "      <td>...</td>\n",
       "      <td>...</td>\n",
       "      <td>...</td>\n",
       "      <td>...</td>\n",
       "      <td>...</td>\n",
       "      <td>...</td>\n",
       "    </tr>\n",
       "    <tr>\n",
       "      <th>2011-08</th>\n",
       "      <td>167.0</td>\n",
       "      <td>42.0</td>\n",
       "      <td>42.0</td>\n",
       "      <td>42.0</td>\n",
       "      <td>23.0</td>\n",
       "      <td>NaN</td>\n",
       "      <td>NaN</td>\n",
       "      <td>NaN</td>\n",
       "      <td>NaN</td>\n",
       "      <td>NaN</td>\n",
       "      <td>NaN</td>\n",
       "      <td>NaN</td>\n",
       "      <td>NaN</td>\n",
       "    </tr>\n",
       "    <tr>\n",
       "      <th>2011-09</th>\n",
       "      <td>298.0</td>\n",
       "      <td>89.0</td>\n",
       "      <td>97.0</td>\n",
       "      <td>36.0</td>\n",
       "      <td>NaN</td>\n",
       "      <td>NaN</td>\n",
       "      <td>NaN</td>\n",
       "      <td>NaN</td>\n",
       "      <td>NaN</td>\n",
       "      <td>NaN</td>\n",
       "      <td>NaN</td>\n",
       "      <td>NaN</td>\n",
       "      <td>NaN</td>\n",
       "    </tr>\n",
       "    <tr>\n",
       "      <th>2011-10</th>\n",
       "      <td>352.0</td>\n",
       "      <td>93.0</td>\n",
       "      <td>46.0</td>\n",
       "      <td>NaN</td>\n",
       "      <td>NaN</td>\n",
       "      <td>NaN</td>\n",
       "      <td>NaN</td>\n",
       "      <td>NaN</td>\n",
       "      <td>NaN</td>\n",
       "      <td>NaN</td>\n",
       "      <td>NaN</td>\n",
       "      <td>NaN</td>\n",
       "      <td>NaN</td>\n",
       "    </tr>\n",
       "    <tr>\n",
       "      <th>2011-11</th>\n",
       "      <td>321.0</td>\n",
       "      <td>43.0</td>\n",
       "      <td>NaN</td>\n",
       "      <td>NaN</td>\n",
       "      <td>NaN</td>\n",
       "      <td>NaN</td>\n",
       "      <td>NaN</td>\n",
       "      <td>NaN</td>\n",
       "      <td>NaN</td>\n",
       "      <td>NaN</td>\n",
       "      <td>NaN</td>\n",
       "      <td>NaN</td>\n",
       "      <td>NaN</td>\n",
       "    </tr>\n",
       "    <tr>\n",
       "      <th>2011-12</th>\n",
       "      <td>41.0</td>\n",
       "      <td>NaN</td>\n",
       "      <td>NaN</td>\n",
       "      <td>NaN</td>\n",
       "      <td>NaN</td>\n",
       "      <td>NaN</td>\n",
       "      <td>NaN</td>\n",
       "      <td>NaN</td>\n",
       "      <td>NaN</td>\n",
       "      <td>NaN</td>\n",
       "      <td>NaN</td>\n",
       "      <td>NaN</td>\n",
       "      <td>NaN</td>\n",
       "    </tr>\n",
       "  </tbody>\n",
       "</table>\n",
       "<p>13 rows × 13 columns</p>\n",
       "</div>"
      ],
      "text/plain": [
       "period_number     0      1      2      3      4      5      6      7      8   \\\n",
       "cohort                                                                         \n",
       "2010-12        948.0  362.0  317.0  367.0  341.0  376.0  360.0  336.0  336.0   \n",
       "2011-01        421.0  101.0  119.0  102.0  138.0  126.0  110.0  108.0  131.0   \n",
       "2011-02        380.0   94.0   73.0  106.0  102.0   94.0   97.0  107.0   98.0   \n",
       "2011-03        440.0   84.0  112.0   96.0  102.0   78.0  116.0  105.0  127.0   \n",
       "2011-04        299.0   68.0   66.0   63.0   62.0   71.0   69.0   78.0   25.0   \n",
       "...              ...    ...    ...    ...    ...    ...    ...    ...    ...   \n",
       "2011-08        167.0   42.0   42.0   42.0   23.0    NaN    NaN    NaN    NaN   \n",
       "2011-09        298.0   89.0   97.0   36.0    NaN    NaN    NaN    NaN    NaN   \n",
       "2011-10        352.0   93.0   46.0    NaN    NaN    NaN    NaN    NaN    NaN   \n",
       "2011-11        321.0   43.0    NaN    NaN    NaN    NaN    NaN    NaN    NaN   \n",
       "2011-12         41.0    NaN    NaN    NaN    NaN    NaN    NaN    NaN    NaN   \n",
       "\n",
       "period_number     9      10     11     12  \n",
       "cohort                                     \n",
       "2010-12        374.0  354.0  474.0  260.0  \n",
       "2011-01        146.0  155.0   63.0    NaN  \n",
       "2011-02        119.0   35.0    NaN    NaN  \n",
       "2011-03         39.0    NaN    NaN    NaN  \n",
       "2011-04          NaN    NaN    NaN    NaN  \n",
       "...              ...    ...    ...    ...  \n",
       "2011-08          NaN    NaN    NaN    NaN  \n",
       "2011-09          NaN    NaN    NaN    NaN  \n",
       "2011-10          NaN    NaN    NaN    NaN  \n",
       "2011-11          NaN    NaN    NaN    NaN  \n",
       "2011-12          NaN    NaN    NaN    NaN  \n",
       "\n",
       "[13 rows x 13 columns]"
      ]
     },
     "execution_count": 101,
     "metadata": {},
     "output_type": "execute_result"
    }
   ],
   "source": [
    "cohort_pivot"
   ]
  },
  {
   "cell_type": "markdown",
   "metadata": {},
   "source": [
    "### Adım8 Retention_matrix'in oluşturulması\n",
    "\n",
    "* **7.Adımda oluşturmuş olduğun cohort pivotunu satır bazında 1-0 arasına ölçeklendiriyorum**"
   ]
  },
  {
   "cell_type": "code",
   "execution_count": 215,
   "metadata": {},
   "outputs": [
    {
     "data": {
      "text/html": [
       "<div>\n",
       "<style scoped>\n",
       "    .dataframe tbody tr th:only-of-type {\n",
       "        vertical-align: middle;\n",
       "    }\n",
       "\n",
       "    .dataframe tbody tr th {\n",
       "        vertical-align: top;\n",
       "    }\n",
       "\n",
       "    .dataframe thead th {\n",
       "        text-align: right;\n",
       "    }\n",
       "</style>\n",
       "<table border=\"1\" class=\"dataframe\">\n",
       "  <thead>\n",
       "    <tr style=\"text-align: right;\">\n",
       "      <th>period_number</th>\n",
       "      <th>0</th>\n",
       "      <th>1</th>\n",
       "      <th>2</th>\n",
       "      <th>3</th>\n",
       "      <th>4</th>\n",
       "      <th>5</th>\n",
       "      <th>6</th>\n",
       "      <th>7</th>\n",
       "      <th>8</th>\n",
       "      <th>9</th>\n",
       "      <th>10</th>\n",
       "      <th>11</th>\n",
       "      <th>12</th>\n",
       "    </tr>\n",
       "    <tr>\n",
       "      <th>cohort</th>\n",
       "      <th></th>\n",
       "      <th></th>\n",
       "      <th></th>\n",
       "      <th></th>\n",
       "      <th></th>\n",
       "      <th></th>\n",
       "      <th></th>\n",
       "      <th></th>\n",
       "      <th></th>\n",
       "      <th></th>\n",
       "      <th></th>\n",
       "      <th></th>\n",
       "      <th></th>\n",
       "    </tr>\n",
       "  </thead>\n",
       "  <tbody>\n",
       "    <tr>\n",
       "      <th>2010-12</th>\n",
       "      <td>1.000</td>\n",
       "      <td>0.382</td>\n",
       "      <td>0.334</td>\n",
       "      <td>0.387</td>\n",
       "      <td>0.360</td>\n",
       "      <td>0.397</td>\n",
       "      <td>0.380</td>\n",
       "      <td>0.354</td>\n",
       "      <td>0.354</td>\n",
       "      <td>0.395</td>\n",
       "      <td>0.373</td>\n",
       "      <td>0.500</td>\n",
       "      <td>0.274</td>\n",
       "    </tr>\n",
       "    <tr>\n",
       "      <th>2011-01</th>\n",
       "      <td>1.000</td>\n",
       "      <td>0.240</td>\n",
       "      <td>0.283</td>\n",
       "      <td>0.242</td>\n",
       "      <td>0.328</td>\n",
       "      <td>0.299</td>\n",
       "      <td>0.261</td>\n",
       "      <td>0.257</td>\n",
       "      <td>0.311</td>\n",
       "      <td>0.347</td>\n",
       "      <td>0.368</td>\n",
       "      <td>0.150</td>\n",
       "      <td>nan</td>\n",
       "    </tr>\n",
       "    <tr>\n",
       "      <th>2011-02</th>\n",
       "      <td>1.000</td>\n",
       "      <td>0.247</td>\n",
       "      <td>0.192</td>\n",
       "      <td>0.279</td>\n",
       "      <td>0.268</td>\n",
       "      <td>0.247</td>\n",
       "      <td>0.255</td>\n",
       "      <td>0.282</td>\n",
       "      <td>0.258</td>\n",
       "      <td>0.313</td>\n",
       "      <td>0.092</td>\n",
       "      <td>nan</td>\n",
       "      <td>nan</td>\n",
       "    </tr>\n",
       "    <tr>\n",
       "      <th>2011-03</th>\n",
       "      <td>1.000</td>\n",
       "      <td>0.191</td>\n",
       "      <td>0.255</td>\n",
       "      <td>0.218</td>\n",
       "      <td>0.232</td>\n",
       "      <td>0.177</td>\n",
       "      <td>0.264</td>\n",
       "      <td>0.239</td>\n",
       "      <td>0.289</td>\n",
       "      <td>0.089</td>\n",
       "      <td>nan</td>\n",
       "      <td>nan</td>\n",
       "      <td>nan</td>\n",
       "    </tr>\n",
       "    <tr>\n",
       "      <th>2011-04</th>\n",
       "      <td>1.000</td>\n",
       "      <td>0.227</td>\n",
       "      <td>0.221</td>\n",
       "      <td>0.211</td>\n",
       "      <td>0.207</td>\n",
       "      <td>0.237</td>\n",
       "      <td>0.231</td>\n",
       "      <td>0.261</td>\n",
       "      <td>0.084</td>\n",
       "      <td>nan</td>\n",
       "      <td>nan</td>\n",
       "      <td>nan</td>\n",
       "      <td>nan</td>\n",
       "    </tr>\n",
       "    <tr>\n",
       "      <th>2011-05</th>\n",
       "      <td>1.000</td>\n",
       "      <td>0.237</td>\n",
       "      <td>0.172</td>\n",
       "      <td>0.172</td>\n",
       "      <td>0.215</td>\n",
       "      <td>0.244</td>\n",
       "      <td>0.265</td>\n",
       "      <td>0.104</td>\n",
       "      <td>nan</td>\n",
       "      <td>nan</td>\n",
       "      <td>nan</td>\n",
       "      <td>nan</td>\n",
       "      <td>nan</td>\n",
       "    </tr>\n",
       "    <tr>\n",
       "      <th>2011-06</th>\n",
       "      <td>1.000</td>\n",
       "      <td>0.209</td>\n",
       "      <td>0.187</td>\n",
       "      <td>0.272</td>\n",
       "      <td>0.247</td>\n",
       "      <td>0.336</td>\n",
       "      <td>0.102</td>\n",
       "      <td>nan</td>\n",
       "      <td>nan</td>\n",
       "      <td>nan</td>\n",
       "      <td>nan</td>\n",
       "      <td>nan</td>\n",
       "      <td>nan</td>\n",
       "    </tr>\n",
       "    <tr>\n",
       "      <th>2011-07</th>\n",
       "      <td>1.000</td>\n",
       "      <td>0.209</td>\n",
       "      <td>0.204</td>\n",
       "      <td>0.230</td>\n",
       "      <td>0.272</td>\n",
       "      <td>0.115</td>\n",
       "      <td>nan</td>\n",
       "      <td>nan</td>\n",
       "      <td>nan</td>\n",
       "      <td>nan</td>\n",
       "      <td>nan</td>\n",
       "      <td>nan</td>\n",
       "      <td>nan</td>\n",
       "    </tr>\n",
       "    <tr>\n",
       "      <th>2011-08</th>\n",
       "      <td>1.000</td>\n",
       "      <td>0.251</td>\n",
       "      <td>0.251</td>\n",
       "      <td>0.251</td>\n",
       "      <td>0.138</td>\n",
       "      <td>nan</td>\n",
       "      <td>nan</td>\n",
       "      <td>nan</td>\n",
       "      <td>nan</td>\n",
       "      <td>nan</td>\n",
       "      <td>nan</td>\n",
       "      <td>nan</td>\n",
       "      <td>nan</td>\n",
       "    </tr>\n",
       "    <tr>\n",
       "      <th>2011-09</th>\n",
       "      <td>1.000</td>\n",
       "      <td>0.299</td>\n",
       "      <td>0.326</td>\n",
       "      <td>0.121</td>\n",
       "      <td>nan</td>\n",
       "      <td>nan</td>\n",
       "      <td>nan</td>\n",
       "      <td>nan</td>\n",
       "      <td>nan</td>\n",
       "      <td>nan</td>\n",
       "      <td>nan</td>\n",
       "      <td>nan</td>\n",
       "      <td>nan</td>\n",
       "    </tr>\n",
       "    <tr>\n",
       "      <th>2011-10</th>\n",
       "      <td>1.000</td>\n",
       "      <td>0.264</td>\n",
       "      <td>0.131</td>\n",
       "      <td>nan</td>\n",
       "      <td>nan</td>\n",
       "      <td>nan</td>\n",
       "      <td>nan</td>\n",
       "      <td>nan</td>\n",
       "      <td>nan</td>\n",
       "      <td>nan</td>\n",
       "      <td>nan</td>\n",
       "      <td>nan</td>\n",
       "      <td>nan</td>\n",
       "    </tr>\n",
       "    <tr>\n",
       "      <th>2011-11</th>\n",
       "      <td>1.000</td>\n",
       "      <td>0.134</td>\n",
       "      <td>nan</td>\n",
       "      <td>nan</td>\n",
       "      <td>nan</td>\n",
       "      <td>nan</td>\n",
       "      <td>nan</td>\n",
       "      <td>nan</td>\n",
       "      <td>nan</td>\n",
       "      <td>nan</td>\n",
       "      <td>nan</td>\n",
       "      <td>nan</td>\n",
       "      <td>nan</td>\n",
       "    </tr>\n",
       "    <tr>\n",
       "      <th>2011-12</th>\n",
       "      <td>1.000</td>\n",
       "      <td>nan</td>\n",
       "      <td>nan</td>\n",
       "      <td>nan</td>\n",
       "      <td>nan</td>\n",
       "      <td>nan</td>\n",
       "      <td>nan</td>\n",
       "      <td>nan</td>\n",
       "      <td>nan</td>\n",
       "      <td>nan</td>\n",
       "      <td>nan</td>\n",
       "      <td>nan</td>\n",
       "      <td>nan</td>\n",
       "    </tr>\n",
       "  </tbody>\n",
       "</table>\n",
       "</div>"
      ],
      "text/plain": [
       "period_number    0     1     2     3     4     5     6     7     8     9     10    11    12\n",
       "cohort                                                                                     \n",
       "2010-12       1.000 0.382 0.334 0.387 0.360 0.397 0.380 0.354 0.354 0.395 0.373 0.500 0.274\n",
       "2011-01       1.000 0.240 0.283 0.242 0.328 0.299 0.261 0.257 0.311 0.347 0.368 0.150   nan\n",
       "2011-02       1.000 0.247 0.192 0.279 0.268 0.247 0.255 0.282 0.258 0.313 0.092   nan   nan\n",
       "2011-03       1.000 0.191 0.255 0.218 0.232 0.177 0.264 0.239 0.289 0.089   nan   nan   nan\n",
       "2011-04       1.000 0.227 0.221 0.211 0.207 0.237 0.231 0.261 0.084   nan   nan   nan   nan\n",
       "2011-05       1.000 0.237 0.172 0.172 0.215 0.244 0.265 0.104   nan   nan   nan   nan   nan\n",
       "2011-06       1.000 0.209 0.187 0.272 0.247 0.336 0.102   nan   nan   nan   nan   nan   nan\n",
       "2011-07       1.000 0.209 0.204 0.230 0.272 0.115   nan   nan   nan   nan   nan   nan   nan\n",
       "2011-08       1.000 0.251 0.251 0.251 0.138   nan   nan   nan   nan   nan   nan   nan   nan\n",
       "2011-09       1.000 0.299 0.326 0.121   nan   nan   nan   nan   nan   nan   nan   nan   nan\n",
       "2011-10       1.000 0.264 0.131   nan   nan   nan   nan   nan   nan   nan   nan   nan   nan\n",
       "2011-11       1.000 0.134   nan   nan   nan   nan   nan   nan   nan   nan   nan   nan   nan\n",
       "2011-12       1.000   nan   nan   nan   nan   nan   nan   nan   nan   nan   nan   nan   nan"
      ]
     },
     "execution_count": 215,
     "metadata": {},
     "output_type": "execute_result"
    }
   ],
   "source": [
    "retention_matrix = cohort_pivot.divide(cohort_size, axis=0)\n",
    "retention_matrix"
   ]
  },
  {
   "cell_type": "markdown",
   "metadata": {},
   "source": [
    "\n",
    "## 2. Retention matrisinin ısı haritası ile görselleştirilmesi\n"
   ]
  },
  {
   "cell_type": "code",
   "execution_count": 218,
   "metadata": {},
   "outputs": [
    {
     "data": {
      "image/png": "[encoded data removed]",
      "text/plain": [
       "<Figure size 864x576 with 3 Axes>"
      ]
     },
     "metadata": {},
     "output_type": "display_data"
    }
   ],
   "source": [
    "\n",
    "sns.axes_style(\"white\")\n",
    "fig, ax = plt.subplots(1, 2,\n",
    "                       figsize=(12, 8),\n",
    "                       sharey=True,  # y eksenini paylas\n",
    "                       gridspec_kw={'width_ratios': [1, 11]}\n",
    "                       # to create the grid the subplots are placed on\n",
    "                       )\n",
    "\n",
    "# retention matrix\n",
    "sns.heatmap(retention_matrix,\n",
    "            annot=True,\n",
    "            fmt='.0%',  # grafikteki ifadelerin yüzdelik gösterimi\n",
    "            cmap='RdYlGn',  # colormap\n",
    "            ax=ax[1])  # subplot'taki grafikleri seçmek\n",
    "\n",
    "ax[1].set_title('Monthly Cohorts: User Retention', fontsize=16)\n",
    "ax[1].set(xlabel='# of periods', ylabel='')\n",
    "\n",
    "# cohort size\n",
    "cohort_size_df = pd.DataFrame(cohort_size).rename(columns={0: 'cohort_size'})\n",
    "white_cmap = mcolors.ListedColormap(['white'])\n",
    "sns.heatmap(cohort_size_df,\n",
    "            annot=True,\n",
    "            cbar=False,  # ikinci grafik için cbar istemiyoruz (sağ taraftaki renkli ölçeklendirme)\n",
    "            fmt='g',\n",
    "            cmap=white_cmap,\n",
    "            ax=ax[0])\n",
    "fig.tight_layout()\n",
    "plt.show()"
   ]
  },
  {
   "cell_type": "markdown",
   "metadata": {},
   "source": [
    "* #### *Buradaki her bir satır  farklı bir kohortu, yani farklı bir grubu ifade etmektedir. Örneğin ilk satır 2010-11 tarihinde ilk defa gelen müşterileri, ikinci satır ise 2011-01 tarihindeki ilk defa gelen müşterileri ifade etmektedir... Son satır ise 2011-12'inci ayda ilk gelen müşterileri ifade etmektedir. Dolayısı ile bu şekilde her bir satırı farklı bir grup olarak değerlendiririz.*"
   ]
  },
  {
   "cell_type": "markdown",
   "metadata": {},
   "source": [
    "* #### *Kohort analizi ile her bir grubun aynı zaman periyodundan karşılatırılmasını yapabiliriz. Örneğin Sütüun sütun bkıcak olursak, 2010-11 ayında ilke defa geeln müşterileirin 1 ay sonra ne yüzde kaçının geldiğini, aynı şekilde 2011-01 ayında ilk defa gelen müşterilerin 1 ay sonra yüzde kaçının tekrar geldiği gibi tüm grupları aynı zaman periyodundan incelemeye olanak sağlar "
   ]
  },
  {
   "cell_type": "markdown",
   "metadata": {},
   "source": [
    "* ####  Satır satır baktığımızda ise kohort  tablosu herhangi bir ayda gelen müşterinin sonraki aylarda ne oranla geldiklerini incelemeye olanak sağlar. Böylelikle 2010-12 ayında gelen müşterileirn sonraki aylarda yüzde kaçının tekrardan geldiği, yine 2011-01 ayında ilk defa gelen müşterilerin sonraki aylarda yüzde kaç oranında geldiği gibi her bir grubu kandi özelinde de inleme yapabiliriz."
   ]
  },
  {
   "cell_type": "markdown",
   "metadata": {},
   "source": [
    "* #### Dikeyden İnceleme :Örnekğin 2010-12 grubun  1 ay sonraki periyotta %38'i gelmiş. 2011-01in ise 1 ay sonraki periyotta %24'ü gelmiş ...."
   ]
  },
  {
   "cell_type": "markdown",
   "metadata": {},
   "source": [
    "* #### Yataydan İnceleme: Örneğin 2010-12 Grubu bir ay sonra %38 oranında gelmiş, 2 ay sonra %33, 3 ay sorna %36 oranında gelmiş..."
   ]
  },
  {
   "cell_type": "code",
   "execution_count": null,
   "metadata": {},
   "outputs": [],
   "source": []
  }
 ],
 "metadata": {
  "kernelspec": {
   "display_name": "Python 3",
   "language": "python",
   "name": "python3"
  },
  "language_info": {
   "codemirror_mode": {
    "name": "ipython",
    "version": 3
   },
   "file_extension": ".py",
   "mimetype": "text/x-python",
   "name": "python",
   "nbconvert_exporter": "python",
   "pygments_lexer": "ipython3",
   "version": "3.8.5"
  }
 },
 "nbformat": 4,
 "nbformat_minor": 4
}
