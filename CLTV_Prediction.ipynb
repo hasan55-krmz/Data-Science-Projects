{
 "cells": [
  {
   "cell_type": "markdown",
   "metadata": {},
   "source": [
    "# CLTV PREDİCTİON\n",
    "\n",
    "**Bir müşterinin bir firmayla olan tüm ilişki süresi boyunca firmadan yapacağı satın almaların beklenen karının bugünkü değerini göz önünde bulunduran müşteri yasam boyu değeri, işletmelerin en yüksek ve en düşük karlı müşterilerini tanımlayarak pazarlama strateji ve taktiklerine bu doğrultuda yön vermesini sağlayan bir ölçümdür.**\n",
    "\n",
    "**CLTV nin gelecek periytlar için tahmin edilerek müşterielr hakkında geleceğe yönelik kararlar da alınabilir. CLTV Predction yaparken BG-NBD ve Gama Gama modellerini kullanırız.**\n",
    "\n",
    "## ADIM 1.\n",
    "* ### *BG-NBD (Beta Geometric Negative Binomial Distribution) model*\n",
    "  *  Frequency, Recency ve Tenur değişkenleri ile BGNBD  modelini eğitiyoruz\n",
    "  *  Zamana göre beklenen satın alma miktarlarını tahmin etmeye yönelik\n",
    "  \n",
    "## ADIM 2. \n",
    "* ### *Gama Gama  model*\n",
    "  *  frequency ve monetary_avg değişkenleri ile gama-gama moelini eğitiyoruz\n",
    "  *  Bekelenen Ortalama getiriyi tahmin etmeye yönelik\n",
    "  \n",
    "## ADIM 3. \n",
    "* ### *BG-NBD model ve Gama Gama model ile Zamana göre CLTV tahmini yapılması\n",
    "   * İki model bir araya getirilerek Rececny, Frequency, Tenur(müşteri yaşı) ve Monetarty değerleri ile istenen zamana göre tahminleme yapılır"
   ]
  },
  {
   "cell_type": "code",
   "execution_count": 1,
   "metadata": {},
   "outputs": [],
   "source": [
    "######################################################################\n",
    "# Gerekli kütüphaneler, fonksiyonlat ve veri setini import ettim\n",
    "#######################################################################\n",
    "import pandas as pd\n",
    "\n",
    "import matplotlib.pyplot as plt\n",
    "import seaborn as sns\n",
    "\n",
    "from lifetimes import BetaGeoFitter\n",
    "from lifetimes import GammaGammaFitter\n",
    "from lifetimes.plotting import plot_period_transactions\n",
    "\n",
    "import time\n",
    "import datetime\n",
    "from datetime import timedelta\n"
   ]
  },
  {
   "cell_type": "code",
   "execution_count": null,
   "metadata": {},
   "outputs": [],
   "source": []
  },
  {
   "cell_type": "code",
   "execution_count": 2,
   "metadata": {},
   "outputs": [],
   "source": [
    "pd.set_option('display.max_columns', None)\n",
    "pd.set_option('display.max_rows', None)\n",
    "pd.set_option('display.float_format', lambda x: '%.5f' % x)"
   ]
  },
  {
   "cell_type": "code",
   "execution_count": 3,
   "metadata": {},
   "outputs": [],
   "source": [
    "# İleriki adımlarda kullanmak için iki tane fonksiyon yazdım: 1. aykırı değerleri yakalıyor, 2. ise aykırı değerleri sınır değerlerine baskılamaktadır.\n",
    "def outlier_thresholds(dataframe, variable):\n",
    "    quartile1 = dataframe[variable].quantile(0.01)# %1'inci değer\n",
    "    quartile3 = dataframe[variable].quantile(0.99)# %99'uncu değer\n",
    "    interquantile_range = quartile3 - quartile1\n",
    "    up_limit = quartile3 + 1.5 * interquantile_range\n",
    "    low_limit = quartile1 - 1.5 * interquantile_range\n",
    "    return low_limit, up_limit\n",
    "\n",
    "\n",
    "def replace_with_thresholds(dataframe, variable):\n",
    "    low_limit, up_limit = outlier_thresholds(dataframe, variable)\n",
    "    # dataframe.loc[(dataframe[variable] < low_limit), variable] = low_limit\n",
    "    dataframe.loc[(dataframe[variable] > up_limit), variable] = up_limit\n",
    "\n"
   ]
  },
  {
   "cell_type": "code",
   "execution_count": 4,
   "metadata": {},
   "outputs": [],
   "source": [
    "df_ = pd.read_excel(\"online_retail_II.xlsx\", sheet_name=\"Year 2010-2011\")\n"
   ]
  },
  {
   "cell_type": "code",
   "execution_count": 5,
   "metadata": {},
   "outputs": [],
   "source": [
    "df = df_.copy()"
   ]
  },
  {
   "cell_type": "markdown",
   "metadata": {},
   "source": [
    "# Veri Ön İşleme"
   ]
  },
  {
   "cell_type": "code",
   "execution_count": 6,
   "metadata": {},
   "outputs": [
    {
     "data": {
      "text/html": [
       "<div>\n",
       "<style scoped>\n",
       "    .dataframe tbody tr th:only-of-type {\n",
       "        vertical-align: middle;\n",
       "    }\n",
       "\n",
       "    .dataframe tbody tr th {\n",
       "        vertical-align: top;\n",
       "    }\n",
       "\n",
       "    .dataframe thead th {\n",
       "        text-align: right;\n",
       "    }\n",
       "</style>\n",
       "<table border=\"1\" class=\"dataframe\">\n",
       "  <thead>\n",
       "    <tr style=\"text-align: right;\">\n",
       "      <th></th>\n",
       "      <th>Invoice</th>\n",
       "      <th>StockCode</th>\n",
       "      <th>Description</th>\n",
       "      <th>Quantity</th>\n",
       "      <th>InvoiceDate</th>\n",
       "      <th>Price</th>\n",
       "      <th>Customer ID</th>\n",
       "      <th>Country</th>\n",
       "    </tr>\n",
       "  </thead>\n",
       "  <tbody>\n",
       "    <tr>\n",
       "      <th>0</th>\n",
       "      <td>536365</td>\n",
       "      <td>85123A</td>\n",
       "      <td>WHITE HANGING HEART T-LIGHT HOLDER</td>\n",
       "      <td>6</td>\n",
       "      <td>2010-12-01 08:26:00</td>\n",
       "      <td>2.55000</td>\n",
       "      <td>17850.00000</td>\n",
       "      <td>United Kingdom</td>\n",
       "    </tr>\n",
       "    <tr>\n",
       "      <th>1</th>\n",
       "      <td>536365</td>\n",
       "      <td>71053</td>\n",
       "      <td>WHITE METAL LANTERN</td>\n",
       "      <td>6</td>\n",
       "      <td>2010-12-01 08:26:00</td>\n",
       "      <td>3.39000</td>\n",
       "      <td>17850.00000</td>\n",
       "      <td>United Kingdom</td>\n",
       "    </tr>\n",
       "    <tr>\n",
       "      <th>2</th>\n",
       "      <td>536365</td>\n",
       "      <td>84406B</td>\n",
       "      <td>CREAM CUPID HEARTS COAT HANGER</td>\n",
       "      <td>8</td>\n",
       "      <td>2010-12-01 08:26:00</td>\n",
       "      <td>2.75000</td>\n",
       "      <td>17850.00000</td>\n",
       "      <td>United Kingdom</td>\n",
       "    </tr>\n",
       "    <tr>\n",
       "      <th>3</th>\n",
       "      <td>536365</td>\n",
       "      <td>84029G</td>\n",
       "      <td>KNITTED UNION FLAG HOT WATER BOTTLE</td>\n",
       "      <td>6</td>\n",
       "      <td>2010-12-01 08:26:00</td>\n",
       "      <td>3.39000</td>\n",
       "      <td>17850.00000</td>\n",
       "      <td>United Kingdom</td>\n",
       "    </tr>\n",
       "    <tr>\n",
       "      <th>4</th>\n",
       "      <td>536365</td>\n",
       "      <td>84029E</td>\n",
       "      <td>RED WOOLLY HOTTIE WHITE HEART.</td>\n",
       "      <td>6</td>\n",
       "      <td>2010-12-01 08:26:00</td>\n",
       "      <td>3.39000</td>\n",
       "      <td>17850.00000</td>\n",
       "      <td>United Kingdom</td>\n",
       "    </tr>\n",
       "  </tbody>\n",
       "</table>\n",
       "</div>"
      ],
      "text/plain": [
       "  Invoice StockCode                          Description  Quantity  \\\n",
       "0  536365    85123A   WHITE HANGING HEART T-LIGHT HOLDER         6   \n",
       "1  536365     71053                  WHITE METAL LANTERN         6   \n",
       "2  536365    84406B       CREAM CUPID HEARTS COAT HANGER         8   \n",
       "3  536365    84029G  KNITTED UNION FLAG HOT WATER BOTTLE         6   \n",
       "4  536365    84029E       RED WOOLLY HOTTIE WHITE HEART.         6   \n",
       "\n",
       "          InvoiceDate   Price  Customer ID         Country  \n",
       "0 2010-12-01 08:26:00 2.55000  17850.00000  United Kingdom  \n",
       "1 2010-12-01 08:26:00 3.39000  17850.00000  United Kingdom  \n",
       "2 2010-12-01 08:26:00 2.75000  17850.00000  United Kingdom  \n",
       "3 2010-12-01 08:26:00 3.39000  17850.00000  United Kingdom  \n",
       "4 2010-12-01 08:26:00 3.39000  17850.00000  United Kingdom  "
      ]
     },
     "execution_count": 6,
     "metadata": {},
     "output_type": "execute_result"
    }
   ],
   "source": [
    "#Veriyi inceledim\n",
    "df.head()\n"
   ]
  },
  {
   "cell_type": "code",
   "execution_count": 7,
   "metadata": {},
   "outputs": [],
   "source": [
    "#Verideki nan değerlerin oldğu gözlemleri attım\n",
    "df.dropna(inplace=True)\n",
    "\n",
    "# Veride C harfi içeren İnvoice'leirn buulunduğu gözlemleri attım. C harfi içereknelr iade olduğunu ifade etmekte\n",
    "df = df[~df[\"Invoice\"].str.contains(\"C\", na=False)]\n",
    "df = df[df[\"Quantity\"] > 0] # her işlemlde en az bir adet ürün almış olnları seçtim\n"
   ]
  },
  {
   "cell_type": "code",
   "execution_count": 8,
   "metadata": {},
   "outputs": [
    {
     "data": {
      "text/html": [
       "<div>\n",
       "<style scoped>\n",
       "    .dataframe tbody tr th:only-of-type {\n",
       "        vertical-align: middle;\n",
       "    }\n",
       "\n",
       "    .dataframe tbody tr th {\n",
       "        vertical-align: top;\n",
       "    }\n",
       "\n",
       "    .dataframe thead th {\n",
       "        text-align: right;\n",
       "    }\n",
       "</style>\n",
       "<table border=\"1\" class=\"dataframe\">\n",
       "  <thead>\n",
       "    <tr style=\"text-align: right;\">\n",
       "      <th></th>\n",
       "      <th>count</th>\n",
       "      <th>mean</th>\n",
       "      <th>std</th>\n",
       "      <th>min</th>\n",
       "      <th>25%</th>\n",
       "      <th>50%</th>\n",
       "      <th>75%</th>\n",
       "      <th>max</th>\n",
       "    </tr>\n",
       "  </thead>\n",
       "  <tbody>\n",
       "    <tr>\n",
       "      <th>Quantity</th>\n",
       "      <td>397925.00000</td>\n",
       "      <td>13.02179</td>\n",
       "      <td>180.41998</td>\n",
       "      <td>1.00000</td>\n",
       "      <td>2.00000</td>\n",
       "      <td>6.00000</td>\n",
       "      <td>12.00000</td>\n",
       "      <td>80995.00000</td>\n",
       "    </tr>\n",
       "    <tr>\n",
       "      <th>Price</th>\n",
       "      <td>397925.00000</td>\n",
       "      <td>3.11621</td>\n",
       "      <td>22.09677</td>\n",
       "      <td>0.00000</td>\n",
       "      <td>1.25000</td>\n",
       "      <td>1.95000</td>\n",
       "      <td>3.75000</td>\n",
       "      <td>8142.75000</td>\n",
       "    </tr>\n",
       "    <tr>\n",
       "      <th>Customer ID</th>\n",
       "      <td>397925.00000</td>\n",
       "      <td>15294.30860</td>\n",
       "      <td>1713.17274</td>\n",
       "      <td>12346.00000</td>\n",
       "      <td>13969.00000</td>\n",
       "      <td>15159.00000</td>\n",
       "      <td>16795.00000</td>\n",
       "      <td>18287.00000</td>\n",
       "    </tr>\n",
       "  </tbody>\n",
       "</table>\n",
       "</div>"
      ],
      "text/plain": [
       "                   count        mean        std         min         25%  \\\n",
       "Quantity    397925.00000    13.02179  180.41998     1.00000     2.00000   \n",
       "Price       397925.00000     3.11621   22.09677     0.00000     1.25000   \n",
       "Customer ID 397925.00000 15294.30860 1713.17274 12346.00000 13969.00000   \n",
       "\n",
       "                    50%         75%         max  \n",
       "Quantity        6.00000    12.00000 80995.00000  \n",
       "Price           1.95000     3.75000  8142.75000  \n",
       "Customer ID 15159.00000 16795.00000 18287.00000  "
      ]
     },
     "execution_count": 8,
     "metadata": {},
     "output_type": "execute_result"
    }
   ],
   "source": [
    "df.describe().T"
   ]
  },
  {
   "cell_type": "code",
   "execution_count": 9,
   "metadata": {},
   "outputs": [
    {
     "data": {
      "text/plain": [
       "Text(0.5, 1.0, 'Price')"
      ]
     },
     "execution_count": 9,
     "metadata": {},
     "output_type": "execute_result"
    },
    {
     "data": {
      "image/png": "[encoded data removed]",
      "text/plain": [
       "<Figure size 720x360 with 2 Axes>"
      ]
     },
     "metadata": {
      "needs_background": "light"
     },
     "output_type": "display_data"
    }
   ],
   "source": [
    "fig, ax = plt.subplots(1,2,figsize=(10,5))\n",
    "ax[0].boxplot(df[\"Quantity\"]);\n",
    "ax[0].set_title(\"Quantity\")\n",
    "ax[1].boxplot(df[\"Price\"]);\n",
    "ax[1].set_title(\"Price\")"
   ]
  },
  {
   "cell_type": "code",
   "execution_count": 10,
   "metadata": {},
   "outputs": [],
   "source": [
    "replace_with_thresholds(df, \"Quantity\") # Miktarda büyük aykırı değerleri üst limit olarak belirlenen değere baskıladı\n",
    "replace_with_thresholds(df, \"Price\") #Price da büyük aykırı değerleri üst limit olarak belirlenen değere baskıladı"
   ]
  },
  {
   "cell_type": "code",
   "execution_count": 11,
   "metadata": {},
   "outputs": [
    {
     "data": {
      "text/plain": [
       "Text(0.5, 1.0, 'Price')"
      ]
     },
     "execution_count": 11,
     "metadata": {},
     "output_type": "execute_result"
    },
    {
     "data": {
      "image/png": "[encoded data removed]",
      "text/plain": [
       "<Figure size 720x360 with 2 Axes>"
      ]
     },
     "metadata": {
      "needs_background": "light"
     },
     "output_type": "display_data"
    }
   ],
   "source": [
    "fig, ax = plt.subplots(1,2,figsize=(10,5))\n",
    "ax[0].boxplot(df[\"Quantity\"]);\n",
    "ax[0].set_title(\"Quantity\")\n",
    "ax[1].boxplot(df[\"Price\"]);\n",
    "ax[1].set_title(\"Price\")"
   ]
  },
  {
   "cell_type": "code",
   "execution_count": 12,
   "metadata": {},
   "outputs": [
    {
     "data": {
      "text/html": [
       "<div>\n",
       "<style scoped>\n",
       "    .dataframe tbody tr th:only-of-type {\n",
       "        vertical-align: middle;\n",
       "    }\n",
       "\n",
       "    .dataframe tbody tr th {\n",
       "        vertical-align: top;\n",
       "    }\n",
       "\n",
       "    .dataframe thead th {\n",
       "        text-align: right;\n",
       "    }\n",
       "</style>\n",
       "<table border=\"1\" class=\"dataframe\">\n",
       "  <thead>\n",
       "    <tr style=\"text-align: right;\">\n",
       "      <th></th>\n",
       "      <th>count</th>\n",
       "      <th>mean</th>\n",
       "      <th>std</th>\n",
       "      <th>min</th>\n",
       "      <th>25%</th>\n",
       "      <th>50%</th>\n",
       "      <th>75%</th>\n",
       "      <th>max</th>\n",
       "    </tr>\n",
       "  </thead>\n",
       "  <tbody>\n",
       "    <tr>\n",
       "      <th>Quantity</th>\n",
       "      <td>397925.00000</td>\n",
       "      <td>11.83371</td>\n",
       "      <td>25.53449</td>\n",
       "      <td>1.00000</td>\n",
       "      <td>2.00000</td>\n",
       "      <td>6.00000</td>\n",
       "      <td>12.00000</td>\n",
       "      <td>298.50000</td>\n",
       "    </tr>\n",
       "    <tr>\n",
       "      <th>Price</th>\n",
       "      <td>397925.00000</td>\n",
       "      <td>2.89320</td>\n",
       "      <td>3.22714</td>\n",
       "      <td>0.00000</td>\n",
       "      <td>1.25000</td>\n",
       "      <td>1.95000</td>\n",
       "      <td>3.75000</td>\n",
       "      <td>37.06000</td>\n",
       "    </tr>\n",
       "    <tr>\n",
       "      <th>Customer ID</th>\n",
       "      <td>397925.00000</td>\n",
       "      <td>15294.30860</td>\n",
       "      <td>1713.17274</td>\n",
       "      <td>12346.00000</td>\n",
       "      <td>13969.00000</td>\n",
       "      <td>15159.00000</td>\n",
       "      <td>16795.00000</td>\n",
       "      <td>18287.00000</td>\n",
       "    </tr>\n",
       "  </tbody>\n",
       "</table>\n",
       "</div>"
      ],
      "text/plain": [
       "                   count        mean        std         min         25%  \\\n",
       "Quantity    397925.00000    11.83371   25.53449     1.00000     2.00000   \n",
       "Price       397925.00000     2.89320    3.22714     0.00000     1.25000   \n",
       "Customer ID 397925.00000 15294.30860 1713.17274 12346.00000 13969.00000   \n",
       "\n",
       "                    50%         75%         max  \n",
       "Quantity        6.00000    12.00000   298.50000  \n",
       "Price           1.95000     3.75000    37.06000  \n",
       "Customer ID 15159.00000 16795.00000 18287.00000  "
      ]
     },
     "execution_count": 12,
     "metadata": {},
     "output_type": "execute_result"
    }
   ],
   "source": [
    "df.describe().T"
   ]
  },
  {
   "cell_type": "code",
   "execution_count": 13,
   "metadata": {},
   "outputs": [
    {
     "data": {
      "text/plain": [
       "United Kingdom          354345\n",
       "Germany                   9042\n",
       "France                    8343\n",
       "EIRE                      7238\n",
       "Spain                     2485\n",
       "Netherlands               2363\n",
       "Belgium                   2031\n",
       "Switzerland               1842\n",
       "Portugal                  1462\n",
       "Australia                 1185\n",
       "Norway                    1072\n",
       "Italy                      758\n",
       "Channel Islands            748\n",
       "Finland                    685\n",
       "Cyprus                     614\n",
       "Sweden                     451\n",
       "Austria                    398\n",
       "Denmark                    380\n",
       "Poland                     330\n",
       "Japan                      321\n",
       "Israel                     248\n",
       "Unspecified                244\n",
       "Singapore                  222\n",
       "Iceland                    182\n",
       "USA                        179\n",
       "Canada                     151\n",
       "Greece                     145\n",
       "Malta                      112\n",
       "United Arab Emirates        68\n",
       "European Community          60\n",
       "RSA                         58\n",
       "Lebanon                     45\n",
       "Lithuania                   35\n",
       "Brazil                      32\n",
       "Czech Republic              25\n",
       "Bahrain                     17\n",
       "Saudi Arabia                 9\n",
       "Name: Country, dtype: int64"
      ]
     },
     "execution_count": 13,
     "metadata": {},
     "output_type": "execute_result"
    }
   ],
   "source": [
    "# Hangi Ülkeden Kaç Müşteri Var\n",
    "df[\"Country\"].value_counts()"
   ]
  },
  {
   "cell_type": "code",
   "execution_count": 14,
   "metadata": {},
   "outputs": [
    {
     "data": {
      "text/html": [
       "<div>\n",
       "<style scoped>\n",
       "    .dataframe tbody tr th:only-of-type {\n",
       "        vertical-align: middle;\n",
       "    }\n",
       "\n",
       "    .dataframe tbody tr th {\n",
       "        vertical-align: top;\n",
       "    }\n",
       "\n",
       "    .dataframe thead th {\n",
       "        text-align: right;\n",
       "    }\n",
       "</style>\n",
       "<table border=\"1\" class=\"dataframe\">\n",
       "  <thead>\n",
       "    <tr style=\"text-align: right;\">\n",
       "      <th></th>\n",
       "      <th>Invoice</th>\n",
       "      <th>StockCode</th>\n",
       "      <th>Description</th>\n",
       "      <th>Quantity</th>\n",
       "      <th>InvoiceDate</th>\n",
       "      <th>Price</th>\n",
       "      <th>Customer ID</th>\n",
       "      <th>Country</th>\n",
       "    </tr>\n",
       "  </thead>\n",
       "  <tbody>\n",
       "    <tr>\n",
       "      <th>0</th>\n",
       "      <td>536365</td>\n",
       "      <td>85123A</td>\n",
       "      <td>WHITE HANGING HEART T-LIGHT HOLDER</td>\n",
       "      <td>6.00000</td>\n",
       "      <td>2010-12-01 08:26:00</td>\n",
       "      <td>2.55000</td>\n",
       "      <td>17850.00000</td>\n",
       "      <td>United Kingdom</td>\n",
       "    </tr>\n",
       "    <tr>\n",
       "      <th>1</th>\n",
       "      <td>536365</td>\n",
       "      <td>71053</td>\n",
       "      <td>WHITE METAL LANTERN</td>\n",
       "      <td>6.00000</td>\n",
       "      <td>2010-12-01 08:26:00</td>\n",
       "      <td>3.39000</td>\n",
       "      <td>17850.00000</td>\n",
       "      <td>United Kingdom</td>\n",
       "    </tr>\n",
       "    <tr>\n",
       "      <th>2</th>\n",
       "      <td>536365</td>\n",
       "      <td>84406B</td>\n",
       "      <td>CREAM CUPID HEARTS COAT HANGER</td>\n",
       "      <td>8.00000</td>\n",
       "      <td>2010-12-01 08:26:00</td>\n",
       "      <td>2.75000</td>\n",
       "      <td>17850.00000</td>\n",
       "      <td>United Kingdom</td>\n",
       "    </tr>\n",
       "    <tr>\n",
       "      <th>3</th>\n",
       "      <td>536365</td>\n",
       "      <td>84029G</td>\n",
       "      <td>KNITTED UNION FLAG HOT WATER BOTTLE</td>\n",
       "      <td>6.00000</td>\n",
       "      <td>2010-12-01 08:26:00</td>\n",
       "      <td>3.39000</td>\n",
       "      <td>17850.00000</td>\n",
       "      <td>United Kingdom</td>\n",
       "    </tr>\n",
       "    <tr>\n",
       "      <th>4</th>\n",
       "      <td>536365</td>\n",
       "      <td>84029E</td>\n",
       "      <td>RED WOOLLY HOTTIE WHITE HEART.</td>\n",
       "      <td>6.00000</td>\n",
       "      <td>2010-12-01 08:26:00</td>\n",
       "      <td>3.39000</td>\n",
       "      <td>17850.00000</td>\n",
       "      <td>United Kingdom</td>\n",
       "    </tr>\n",
       "  </tbody>\n",
       "</table>\n",
       "</div>"
      ],
      "text/plain": [
       "  Invoice StockCode                          Description  Quantity  \\\n",
       "0  536365    85123A   WHITE HANGING HEART T-LIGHT HOLDER   6.00000   \n",
       "1  536365     71053                  WHITE METAL LANTERN   6.00000   \n",
       "2  536365    84406B       CREAM CUPID HEARTS COAT HANGER   8.00000   \n",
       "3  536365    84029G  KNITTED UNION FLAG HOT WATER BOTTLE   6.00000   \n",
       "4  536365    84029E       RED WOOLLY HOTTIE WHITE HEART.   6.00000   \n",
       "\n",
       "          InvoiceDate   Price  Customer ID         Country  \n",
       "0 2010-12-01 08:26:00 2.55000  17850.00000  United Kingdom  \n",
       "1 2010-12-01 08:26:00 3.39000  17850.00000  United Kingdom  \n",
       "2 2010-12-01 08:26:00 2.75000  17850.00000  United Kingdom  \n",
       "3 2010-12-01 08:26:00 3.39000  17850.00000  United Kingdom  \n",
       "4 2010-12-01 08:26:00 3.39000  17850.00000  United Kingdom  "
      ]
     },
     "execution_count": 14,
     "metadata": {},
     "output_type": "execute_result"
    }
   ],
   "source": [
    "# Analiz Yaparken UK müşterileriyle devam etmek istedim. \n",
    "df = df[df[\"Country\"] ==\"United Kingdom\"]\n",
    "df.head()"
   ]
  },
  {
   "cell_type": "markdown",
   "metadata": {},
   "source": [
    "### Bu aşamaya kadar oluşan son veriyi inceleyelim"
   ]
  },
  {
   "cell_type": "code",
   "execution_count": 15,
   "metadata": {},
   "outputs": [
    {
     "data": {
      "text/html": [
       "<div>\n",
       "<style scoped>\n",
       "    .dataframe tbody tr th:only-of-type {\n",
       "        vertical-align: middle;\n",
       "    }\n",
       "\n",
       "    .dataframe tbody tr th {\n",
       "        vertical-align: top;\n",
       "    }\n",
       "\n",
       "    .dataframe thead th {\n",
       "        text-align: right;\n",
       "    }\n",
       "</style>\n",
       "<table border=\"1\" class=\"dataframe\">\n",
       "  <thead>\n",
       "    <tr style=\"text-align: right;\">\n",
       "      <th></th>\n",
       "      <th>Invoice</th>\n",
       "      <th>StockCode</th>\n",
       "      <th>Description</th>\n",
       "      <th>Quantity</th>\n",
       "      <th>InvoiceDate</th>\n",
       "      <th>Price</th>\n",
       "      <th>Customer ID</th>\n",
       "      <th>Country</th>\n",
       "      <th>TotalPrice</th>\n",
       "    </tr>\n",
       "  </thead>\n",
       "  <tbody>\n",
       "    <tr>\n",
       "      <th>0</th>\n",
       "      <td>536365</td>\n",
       "      <td>85123A</td>\n",
       "      <td>WHITE HANGING HEART T-LIGHT HOLDER</td>\n",
       "      <td>6.00000</td>\n",
       "      <td>2010-12-01 08:26:00</td>\n",
       "      <td>2.55000</td>\n",
       "      <td>17850.00000</td>\n",
       "      <td>United Kingdom</td>\n",
       "      <td>15.30000</td>\n",
       "    </tr>\n",
       "    <tr>\n",
       "      <th>1</th>\n",
       "      <td>536365</td>\n",
       "      <td>71053</td>\n",
       "      <td>WHITE METAL LANTERN</td>\n",
       "      <td>6.00000</td>\n",
       "      <td>2010-12-01 08:26:00</td>\n",
       "      <td>3.39000</td>\n",
       "      <td>17850.00000</td>\n",
       "      <td>United Kingdom</td>\n",
       "      <td>20.34000</td>\n",
       "    </tr>\n",
       "    <tr>\n",
       "      <th>2</th>\n",
       "      <td>536365</td>\n",
       "      <td>84406B</td>\n",
       "      <td>CREAM CUPID HEARTS COAT HANGER</td>\n",
       "      <td>8.00000</td>\n",
       "      <td>2010-12-01 08:26:00</td>\n",
       "      <td>2.75000</td>\n",
       "      <td>17850.00000</td>\n",
       "      <td>United Kingdom</td>\n",
       "      <td>22.00000</td>\n",
       "    </tr>\n",
       "    <tr>\n",
       "      <th>3</th>\n",
       "      <td>536365</td>\n",
       "      <td>84029G</td>\n",
       "      <td>KNITTED UNION FLAG HOT WATER BOTTLE</td>\n",
       "      <td>6.00000</td>\n",
       "      <td>2010-12-01 08:26:00</td>\n",
       "      <td>3.39000</td>\n",
       "      <td>17850.00000</td>\n",
       "      <td>United Kingdom</td>\n",
       "      <td>20.34000</td>\n",
       "    </tr>\n",
       "    <tr>\n",
       "      <th>4</th>\n",
       "      <td>536365</td>\n",
       "      <td>84029E</td>\n",
       "      <td>RED WOOLLY HOTTIE WHITE HEART.</td>\n",
       "      <td>6.00000</td>\n",
       "      <td>2010-12-01 08:26:00</td>\n",
       "      <td>3.39000</td>\n",
       "      <td>17850.00000</td>\n",
       "      <td>United Kingdom</td>\n",
       "      <td>20.34000</td>\n",
       "    </tr>\n",
       "  </tbody>\n",
       "</table>\n",
       "</div>"
      ],
      "text/plain": [
       "  Invoice StockCode                          Description  Quantity  \\\n",
       "0  536365    85123A   WHITE HANGING HEART T-LIGHT HOLDER   6.00000   \n",
       "1  536365     71053                  WHITE METAL LANTERN   6.00000   \n",
       "2  536365    84406B       CREAM CUPID HEARTS COAT HANGER   8.00000   \n",
       "3  536365    84029G  KNITTED UNION FLAG HOT WATER BOTTLE   6.00000   \n",
       "4  536365    84029E       RED WOOLLY HOTTIE WHITE HEART.   6.00000   \n",
       "\n",
       "          InvoiceDate   Price  Customer ID         Country  TotalPrice  \n",
       "0 2010-12-01 08:26:00 2.55000  17850.00000  United Kingdom    15.30000  \n",
       "1 2010-12-01 08:26:00 3.39000  17850.00000  United Kingdom    20.34000  \n",
       "2 2010-12-01 08:26:00 2.75000  17850.00000  United Kingdom    22.00000  \n",
       "3 2010-12-01 08:26:00 3.39000  17850.00000  United Kingdom    20.34000  \n",
       "4 2010-12-01 08:26:00 3.39000  17850.00000  United Kingdom    20.34000  "
      ]
     },
     "execution_count": 15,
     "metadata": {},
     "output_type": "execute_result"
    }
   ],
   "source": [
    "df[\"TotalPrice\"] = df[\"Quantity\"] * df[\"Price\"] # alınan ürünlerin toplam miktarı ile fiyatı çarpıldı. her bir ürün alımında  ne kadar para bırakıldı.\n",
    "df.head()"
   ]
  },
  {
   "cell_type": "code",
   "execution_count": 16,
   "metadata": {},
   "outputs": [
    {
     "data": {
      "text/plain": [
       "Timestamp('2011-12-11 12:49:00')"
      ]
     },
     "execution_count": 16,
     "metadata": {},
     "output_type": "execute_result"
    }
   ],
   "source": [
    " #Veri setinde en son işlem yapılan tarihten 2 gün sonrası referans alınarak işlemlere devam edilecek\n",
    "today_date =df[\"InvoiceDate\"].max()+timedelta(days=2)\n",
    "today_date"
   ]
  },
  {
   "cell_type": "code",
   "execution_count": null,
   "metadata": {},
   "outputs": [],
   "source": []
  },
  {
   "cell_type": "markdown",
   "metadata": {},
   "source": [
    "# RFM Tablosunun Hazırlanması"
   ]
  },
  {
   "cell_type": "code",
   "execution_count": 17,
   "metadata": {},
   "outputs": [],
   "source": [
    "rfm  = df.groupby(\"Customer ID\").agg({\"InvoiceDate\":[lambda date:(today_date-date.max()).days,lambda date:(today_date-date.min()).days],\n",
    "                                      \"Invoice\": lambda x: x.nunique(),\n",
    "                                      \"TotalPrice\":lambda  x: x.sum()})\n",
    "\n",
    "rfm.columns = rfm.columns.droplevel(0)\n",
    "rfm.columns = ['recency_cltv_p', 'T', 'frequency', 'monetary']\n",
    "\n",
    "#Her brr müşteri alışveriş başına ortalma bıraktığı para\n",
    "rfm[\"monetary\"] = rfm[\"monetary\"] / rfm[\"frequency\"] \n",
    "rfm.rename(columns={\"monetary\": \"monetary_avg\"}, inplace=True)\n",
    "\n",
    "#Recency değerini günlükten haftalığa çevirdim\n",
    "rfm[\"recency_weekly_p\"] = rfm[\"recency_cltv_p\"] / 7 \n",
    "# Tenur değerini günlükten haftalığa çevirdim\n",
    "rfm[\"T_weekly\"] = rfm[\"T\"] / 7 \n",
    "\n",
    "# hiç para bırakmayanları çıkardım\n",
    "rfm = rfm[rfm[\"monetary_avg\"] > 0] \n",
    "# İki defadan az alışveriş yapanları çıkardım\n",
    "rfm = rfm[(rfm['frequency'] > 1)]\n",
    "# Frequnecyi değerini integere çevirdim\n",
    "rfm[\"frequency\"] = rfm[\"frequency\"].astype(int) \n"
   ]
  },
  {
   "cell_type": "code",
   "execution_count": 18,
   "metadata": {},
   "outputs": [
    {
     "data": {
      "text/html": [
       "<div>\n",
       "<style scoped>\n",
       "    .dataframe tbody tr th:only-of-type {\n",
       "        vertical-align: middle;\n",
       "    }\n",
       "\n",
       "    .dataframe tbody tr th {\n",
       "        vertical-align: top;\n",
       "    }\n",
       "\n",
       "    .dataframe thead th {\n",
       "        text-align: right;\n",
       "    }\n",
       "</style>\n",
       "<table border=\"1\" class=\"dataframe\">\n",
       "  <thead>\n",
       "    <tr style=\"text-align: right;\">\n",
       "      <th></th>\n",
       "      <th>recency_cltv_p</th>\n",
       "      <th>T</th>\n",
       "      <th>frequency</th>\n",
       "      <th>monetary_avg</th>\n",
       "      <th>recency_weekly_p</th>\n",
       "      <th>T_weekly</th>\n",
       "    </tr>\n",
       "    <tr>\n",
       "      <th>Customer ID</th>\n",
       "      <th></th>\n",
       "      <th></th>\n",
       "      <th></th>\n",
       "      <th></th>\n",
       "      <th></th>\n",
       "      <th></th>\n",
       "    </tr>\n",
       "  </thead>\n",
       "  <tbody>\n",
       "    <tr>\n",
       "      <th>12747.00000</th>\n",
       "      <td>3</td>\n",
       "      <td>370</td>\n",
       "      <td>11</td>\n",
       "      <td>381.45545</td>\n",
       "      <td>0.42857</td>\n",
       "      <td>52.85714</td>\n",
       "    </tr>\n",
       "    <tr>\n",
       "      <th>12748.00000</th>\n",
       "      <td>2</td>\n",
       "      <td>375</td>\n",
       "      <td>210</td>\n",
       "      <td>154.19243</td>\n",
       "      <td>0.28571</td>\n",
       "      <td>53.57143</td>\n",
       "    </tr>\n",
       "    <tr>\n",
       "      <th>12749.00000</th>\n",
       "      <td>5</td>\n",
       "      <td>214</td>\n",
       "      <td>5</td>\n",
       "      <td>815.58800</td>\n",
       "      <td>0.71429</td>\n",
       "      <td>30.57143</td>\n",
       "    </tr>\n",
       "    <tr>\n",
       "      <th>12820.00000</th>\n",
       "      <td>4</td>\n",
       "      <td>328</td>\n",
       "      <td>4</td>\n",
       "      <td>235.58500</td>\n",
       "      <td>0.57143</td>\n",
       "      <td>46.85714</td>\n",
       "    </tr>\n",
       "    <tr>\n",
       "      <th>12822.00000</th>\n",
       "      <td>72</td>\n",
       "      <td>88</td>\n",
       "      <td>2</td>\n",
       "      <td>474.44000</td>\n",
       "      <td>10.28571</td>\n",
       "      <td>12.57143</td>\n",
       "    </tr>\n",
       "  </tbody>\n",
       "</table>\n",
       "</div>"
      ],
      "text/plain": [
       "             recency_cltv_p    T  frequency  monetary_avg  recency_weekly_p  \\\n",
       "Customer ID                                                                   \n",
       "12747.00000               3  370         11     381.45545           0.42857   \n",
       "12748.00000               2  375        210     154.19243           0.28571   \n",
       "12749.00000               5  214          5     815.58800           0.71429   \n",
       "12820.00000               4  328          4     235.58500           0.57143   \n",
       "12822.00000              72   88          2     474.44000          10.28571   \n",
       "\n",
       "             T_weekly  \n",
       "Customer ID            \n",
       "12747.00000  52.85714  \n",
       "12748.00000  53.57143  \n",
       "12749.00000  30.57143  \n",
       "12820.00000  46.85714  \n",
       "12822.00000  12.57143  "
      ]
     },
     "execution_count": 18,
     "metadata": {},
     "output_type": "execute_result"
    }
   ],
   "source": [
    "rfm.head()"
   ]
  },
  {
   "cell_type": "code",
   "execution_count": null,
   "metadata": {},
   "outputs": [],
   "source": []
  },
  {
   "cell_type": "markdown",
   "metadata": {},
   "source": [
    "# 2. BG/NBD Modeli"
   ]
  },
  {
   "cell_type": "markdown",
   "metadata": {},
   "source": [
    "#### Modelin Kurulması"
   ]
  },
  {
   "cell_type": "code",
   "execution_count": 19,
   "metadata": {},
   "outputs": [
    {
     "data": {
      "text/plain": [
       "<lifetimes.BetaGeoFitter: fitted with 2570 subjects, a: 1.71, alpha: 0.08, b: 6.60, r: 0.38>"
      ]
     },
     "execution_count": 19,
     "metadata": {},
     "output_type": "execute_result"
    }
   ],
   "source": [
    "# bgf model nesnesini oluşturdum\n",
    "bgf = BetaGeoFitter(penalizer_coef=0.001) \n",
    "\n",
    "# Frequency, Recency ve Tenur değişkenleri ile BGNBD  modelini eğitiyoruz\n",
    "bgf.fit(rfm['frequency'], rfm['recency_weekly_p'], rfm['T_weekly'])\n"
   ]
  },
  {
   "cell_type": "markdown",
   "metadata": {},
   "source": [
    "#### Müşterilerin 1 hafta içinde beklenen satınalma değerleri"
   ]
  },
  {
   "cell_type": "code",
   "execution_count": 20,
   "metadata": {},
   "outputs": [
    {
     "data": {
      "text/plain": [
       "Customer ID\n",
       "16000.00000   2.94069\n",
       "15060.00000   1.83808\n",
       "18139.00000   1.72391\n",
       "14126.00000   1.06561\n",
       "16479.00000   1.01255\n",
       "17772.00000   0.94211\n",
       "17852.00000   0.88087\n",
       "14893.00000   0.81179\n",
       "15872.00000   0.73723\n",
       "16343.00000   0.69925\n",
       "dtype: float64"
      ]
     },
     "execution_count": 20,
     "metadata": {},
     "output_type": "execute_result"
    }
   ],
   "source": [
    "# 1 hafta içinde en çok satın alma beklediğimiz 10 müşteri kimdir?\n",
    "# Tahmin edeerken \"conditional_expected_number_of_purchases_up_to_time\" veya da \"predict\" fonksiyonlarının ikisi de kullanılabilir.\n",
    "\n",
    "one_week = bgf.conditional_expected_number_of_purchases_up_to_time(1,  # Periyot, haftalık\n",
    "                                                                rfm['frequency'], # Frequency\n",
    "                                                                rfm['recency_weekly_p'],  # Recency\n",
    "                                                                rfm['T_weekly']) #Tenur\n",
    "\n",
    "one_week.sort_values(ascending=False).head(10)"
   ]
  },
  {
   "cell_type": "markdown",
   "metadata": {},
   "source": [
    "#### 1, 3 6 12 ay içinde beklenen satınalma miktarları"
   ]
  },
  {
   "cell_type": "code",
   "execution_count": 21,
   "metadata": {},
   "outputs": [],
   "source": [
    "# 1 aylık\n",
    "m_1=bgf.predict(4,# Haftalık periyot ile 4 hafta\n",
    "            rfm['frequency'], # Frequency\n",
    "            rfm['recency_weekly_p'], #Recency\n",
    "            rfm['T_weekly']) # Tennur\n",
    "# 3 aylık\n",
    "m_3=bgf.predict(12,rfm['frequency'],rfm['recency_weekly_p'],rfm['T_weekly'])\n",
    "# 6 aylık\n",
    "m_6=bgf.predict(24,rfm['frequency'],rfm['recency_weekly_p'],rfm['T_weekly'])\n",
    "# 12 aylık\n",
    "m_12=bgf.predict(48,rfm['frequency'],rfm['recency_weekly_p'],rfm['T_weekly'])\n"
   ]
  },
  {
   "cell_type": "code",
   "execution_count": 22,
   "metadata": {},
   "outputs": [],
   "source": [
    "# Periyotlara göre beklenen satınalmaları birleştirip inceleyelim. Haftalık olarak büyükten küçüğe doğru sıralayıp birşeltirdim\n",
    "predict_df = pd.DataFrame(one_week).merge(pd.DataFrame(m_1),how=\"inner\",on=\"Customer ID\").sort_values(\"0_x\",ascending=False)\n",
    "predict_df = predict_df.merge(pd.DataFrame(m_3), how=\"inner\",on=\"Customer ID\")\n",
    "predict_df = predict_df.merge(pd.DataFrame(m_6), how=\"inner\",on=\"Customer ID\")\n",
    "predict_df = predict_df.merge(pd.DataFrame(m_12), how=\"inner\",on=\"Customer ID\")\n",
    "predict_df.reset_index(inplace=True)\n",
    "predict_df.columns=[\"Customer ID\",\"W_1\",\"m_1\",\"m_3\",\"m_6\",\"m_12\"]"
   ]
  },
  {
   "cell_type": "code",
   "execution_count": 23,
   "metadata": {},
   "outputs": [
    {
     "data": {
      "text/html": [
       "<div>\n",
       "<style scoped>\n",
       "    .dataframe tbody tr th:only-of-type {\n",
       "        vertical-align: middle;\n",
       "    }\n",
       "\n",
       "    .dataframe tbody tr th {\n",
       "        vertical-align: top;\n",
       "    }\n",
       "\n",
       "    .dataframe thead th {\n",
       "        text-align: right;\n",
       "    }\n",
       "</style>\n",
       "<table border=\"1\" class=\"dataframe\">\n",
       "  <thead>\n",
       "    <tr style=\"text-align: right;\">\n",
       "      <th></th>\n",
       "      <th>Customer ID</th>\n",
       "      <th>W_1</th>\n",
       "      <th>m_1</th>\n",
       "      <th>m_3</th>\n",
       "      <th>m_6</th>\n",
       "      <th>m_12</th>\n",
       "    </tr>\n",
       "  </thead>\n",
       "  <tbody>\n",
       "    <tr>\n",
       "      <th>0</th>\n",
       "      <td>16000.00000</td>\n",
       "      <td>2.94069</td>\n",
       "      <td>6.29070</td>\n",
       "      <td>8.78526</td>\n",
       "      <td>9.91903</td>\n",
       "      <td>10.70687</td>\n",
       "    </tr>\n",
       "    <tr>\n",
       "      <th>1</th>\n",
       "      <td>15060.00000</td>\n",
       "      <td>1.83808</td>\n",
       "      <td>4.77154</td>\n",
       "      <td>7.65508</td>\n",
       "      <td>9.18323</td>\n",
       "      <td>10.32500</td>\n",
       "    </tr>\n",
       "    <tr>\n",
       "      <th>2</th>\n",
       "      <td>18139.00000</td>\n",
       "      <td>1.72391</td>\n",
       "      <td>4.97662</td>\n",
       "      <td>8.78116</td>\n",
       "      <td>11.03142</td>\n",
       "      <td>12.80821</td>\n",
       "    </tr>\n",
       "    <tr>\n",
       "      <th>3</th>\n",
       "      <td>14126.00000</td>\n",
       "      <td>1.06561</td>\n",
       "      <td>2.99355</td>\n",
       "      <td>5.19079</td>\n",
       "      <td>6.49340</td>\n",
       "      <td>7.53637</td>\n",
       "    </tr>\n",
       "    <tr>\n",
       "      <th>4</th>\n",
       "      <td>16479.00000</td>\n",
       "      <td>1.01255</td>\n",
       "      <td>2.91981</td>\n",
       "      <td>5.23900</td>\n",
       "      <td>6.70666</td>\n",
       "      <td>7.94466</td>\n",
       "    </tr>\n",
       "  </tbody>\n",
       "</table>\n",
       "</div>"
      ],
      "text/plain": [
       "   Customer ID     W_1     m_1     m_3      m_6     m_12\n",
       "0  16000.00000 2.94069 6.29070 8.78526  9.91903 10.70687\n",
       "1  15060.00000 1.83808 4.77154 7.65508  9.18323 10.32500\n",
       "2  18139.00000 1.72391 4.97662 8.78116 11.03142 12.80821\n",
       "3  14126.00000 1.06561 2.99355 5.19079  6.49340  7.53637\n",
       "4  16479.00000 1.01255 2.91981 5.23900  6.70666  7.94466"
      ]
     },
     "execution_count": 23,
     "metadata": {},
     "output_type": "execute_result"
    }
   ],
   "source": [
    "predict_df.head()"
   ]
  },
  {
   "cell_type": "code",
   "execution_count": 24,
   "metadata": {},
   "outputs": [
    {
     "data": {
      "image/png": "[encoded data removed]",
      "text/plain": [
       "<Figure size 1080x720 with 1 Axes>"
      ]
     },
     "metadata": {
      "needs_background": "light"
     },
     "output_type": "display_data"
    }
   ],
   "source": [
    "fig, ax = plt.subplots(figsize=(15,10))\n",
    "for col in predict_df.columns[1:]:\n",
    "    ax.plot(predict_df.index,predict_df[col])"
   ]
  },
  {
   "cell_type": "markdown",
   "metadata": {},
   "source": [
    "#### 1 Ay içinde tüm Şirketin Beklenen Satış Sayısı Nedir?\n"
   ]
  },
  {
   "cell_type": "code",
   "execution_count": 25,
   "metadata": {},
   "outputs": [
    {
     "data": {
      "text/plain": [
       "242.02847312369622"
      ]
     },
     "execution_count": 25,
     "metadata": {},
     "output_type": "execute_result"
    }
   ],
   "source": [
    "# Bütün müşterilern 1 aylık beklenen satışlarıı topluyoruz.\n",
    "bgf.predict(4, rfm['frequency'],rfm['recency_weekly_p'], rfm['T_weekly']).sum()           "
   ]
  },
  {
   "cell_type": "markdown",
   "metadata": {},
   "source": [
    "#### Tahmin Sonuçlarının Değerlendirilmesi"
   ]
  },
  {
   "cell_type": "code",
   "execution_count": 26,
   "metadata": {},
   "outputs": [
    {
     "data": {
      "image/png": "[encoded data removed]",
      "text/plain": [
       "<Figure size 432x288 with 1 Axes>"
      ]
     },
     "metadata": {
      "needs_background": "light"
     },
     "output_type": "display_data"
    }
   ],
   "source": [
    "plot_period_transactions(bgf)\n",
    "plt.show()"
   ]
  },
  {
   "cell_type": "code",
   "execution_count": null,
   "metadata": {},
   "outputs": [],
   "source": []
  },
  {
   "cell_type": "markdown",
   "metadata": {},
   "source": [
    "# 3. GAMMA-GAMMA Modelinin Kurulması,"
   ]
  },
  {
   "cell_type": "markdown",
   "metadata": {},
   "source": [
    "#### Modelin Kurulması"
   ]
  },
  {
   "cell_type": "code",
   "execution_count": 27,
   "metadata": {},
   "outputs": [
    {
     "data": {
      "text/plain": [
       "<lifetimes.GammaGammaFitter: fitted with 2570 subjects, p: 3.81, q: 0.35, v: 3.75>"
      ]
     },
     "execution_count": 27,
     "metadata": {},
     "output_type": "execute_result"
    }
   ],
   "source": [
    "# ggf model nesnesini oluşturdum\n",
    "ggf = GammaGammaFitter(penalizer_coef=0.01)\n",
    "\n",
    "# veri setindeki frequency ve monetary_avg değişkenleri ile gama-gama moelini eğittim\n",
    "ggf.fit(rfm['frequency'], rfm['monetary_avg']) \n"
   ]
  },
  {
   "cell_type": "markdown",
   "metadata": {},
   "source": [
    "#### Beklenen Ortalama Getirinin Tahmin Edilmesi"
   ]
  },
  {
   "cell_type": "code",
   "execution_count": 28,
   "metadata": {},
   "outputs": [
    {
     "data": {
      "text/plain": [
       "Customer ID\n",
       "12747.00000   387.82809\n",
       "12748.00000   154.33601\n",
       "12749.00000   845.25944\n",
       "12820.00000   247.09031\n",
       "12822.00000   520.87001\n",
       "12823.00000   365.14361\n",
       "12826.00000   216.50114\n",
       "12827.00000   153.37969\n",
       "12828.00000   175.41138\n",
       "12829.00000   159.09328\n",
       "dtype: float64"
      ]
     },
     "execution_count": 28,
     "metadata": {},
     "output_type": "execute_result"
    }
   ],
   "source": [
    "ggf.conditional_expected_average_profit(rfm['frequency'],\n",
    "                                           rfm['monetary_avg']).head(10)\n"
   ]
  },
  {
   "cell_type": "code",
   "execution_count": 29,
   "metadata": {},
   "outputs": [
    {
     "data": {
      "text/html": [
       "<div>\n",
       "<style scoped>\n",
       "    .dataframe tbody tr th:only-of-type {\n",
       "        vertical-align: middle;\n",
       "    }\n",
       "\n",
       "    .dataframe tbody tr th {\n",
       "        vertical-align: top;\n",
       "    }\n",
       "\n",
       "    .dataframe thead th {\n",
       "        text-align: right;\n",
       "    }\n",
       "</style>\n",
       "<table border=\"1\" class=\"dataframe\">\n",
       "  <thead>\n",
       "    <tr style=\"text-align: right;\">\n",
       "      <th></th>\n",
       "      <th>recency_cltv_p</th>\n",
       "      <th>T</th>\n",
       "      <th>frequency</th>\n",
       "      <th>monetary_avg</th>\n",
       "      <th>recency_weekly_p</th>\n",
       "      <th>T_weekly</th>\n",
       "      <th>expected_average_profit</th>\n",
       "    </tr>\n",
       "    <tr>\n",
       "      <th>Customer ID</th>\n",
       "      <th></th>\n",
       "      <th></th>\n",
       "      <th></th>\n",
       "      <th></th>\n",
       "      <th></th>\n",
       "      <th></th>\n",
       "      <th></th>\n",
       "    </tr>\n",
       "  </thead>\n",
       "  <tbody>\n",
       "    <tr>\n",
       "      <th>12747.00000</th>\n",
       "      <td>3</td>\n",
       "      <td>370</td>\n",
       "      <td>11</td>\n",
       "      <td>381.45545</td>\n",
       "      <td>0.42857</td>\n",
       "      <td>52.85714</td>\n",
       "      <td>387.82809</td>\n",
       "    </tr>\n",
       "    <tr>\n",
       "      <th>12748.00000</th>\n",
       "      <td>2</td>\n",
       "      <td>375</td>\n",
       "      <td>210</td>\n",
       "      <td>154.19243</td>\n",
       "      <td>0.28571</td>\n",
       "      <td>53.57143</td>\n",
       "      <td>154.33601</td>\n",
       "    </tr>\n",
       "    <tr>\n",
       "      <th>12749.00000</th>\n",
       "      <td>5</td>\n",
       "      <td>214</td>\n",
       "      <td>5</td>\n",
       "      <td>815.58800</td>\n",
       "      <td>0.71429</td>\n",
       "      <td>30.57143</td>\n",
       "      <td>845.25944</td>\n",
       "    </tr>\n",
       "    <tr>\n",
       "      <th>12820.00000</th>\n",
       "      <td>4</td>\n",
       "      <td>328</td>\n",
       "      <td>4</td>\n",
       "      <td>235.58500</td>\n",
       "      <td>0.57143</td>\n",
       "      <td>46.85714</td>\n",
       "      <td>247.09031</td>\n",
       "    </tr>\n",
       "    <tr>\n",
       "      <th>12822.00000</th>\n",
       "      <td>72</td>\n",
       "      <td>88</td>\n",
       "      <td>2</td>\n",
       "      <td>474.44000</td>\n",
       "      <td>10.28571</td>\n",
       "      <td>12.57143</td>\n",
       "      <td>520.87001</td>\n",
       "    </tr>\n",
       "  </tbody>\n",
       "</table>\n",
       "</div>"
      ],
      "text/plain": [
       "             recency_cltv_p    T  frequency  monetary_avg  recency_weekly_p  \\\n",
       "Customer ID                                                                   \n",
       "12747.00000               3  370         11     381.45545           0.42857   \n",
       "12748.00000               2  375        210     154.19243           0.28571   \n",
       "12749.00000               5  214          5     815.58800           0.71429   \n",
       "12820.00000               4  328          4     235.58500           0.57143   \n",
       "12822.00000              72   88          2     474.44000          10.28571   \n",
       "\n",
       "             T_weekly  expected_average_profit  \n",
       "Customer ID                                     \n",
       "12747.00000  52.85714                387.82809  \n",
       "12748.00000  53.57143                154.33601  \n",
       "12749.00000  30.57143                845.25944  \n",
       "12820.00000  46.85714                247.09031  \n",
       "12822.00000  12.57143                520.87001  "
      ]
     },
     "execution_count": 29,
     "metadata": {},
     "output_type": "execute_result"
    }
   ],
   "source": [
    "# Beklenne ortalama getiri\n",
    "rfm[\"expected_average_profit\"] = ggf.conditional_expected_average_profit(rfm['frequency'], rfm['monetary_avg'])\n",
    "rfm.head()"
   ]
  },
  {
   "cell_type": "code",
   "execution_count": 30,
   "metadata": {},
   "outputs": [
    {
     "data": {
      "text/plain": [
       "<matplotlib.legend.Legend at 0x1b9c13849a0>"
      ]
     },
     "execution_count": 30,
     "metadata": {},
     "output_type": "execute_result"
    },
    {
     "data": {
      "image/png": "[encoded data removed]",
      "text/plain": [
       "<Figure size 1080x504 with 1 Axes>"
      ]
     },
     "metadata": {
      "needs_background": "light"
     },
     "output_type": "display_data"
    }
   ],
   "source": [
    "# Beklenen ortalama getiri ile ortalama gerçek getiriyi inceleyelim\n",
    "rfm_vis=rfm.sort_values(\"expected_average_profit\",ascending=False).reset_index()\n",
    "\n",
    "fig, ax = plt.subplots(figsize=(15,7))\n",
    "ax.plot(rfm_vis.index,rfm_vis[\"monetary_avg\"],color=\"green\",label=\"monetary_avg\")\n",
    "ax.plot(rfm_vis.index,rfm_vis[\"expected_average_profit\"],color='red',label=\"expected_average_profit\")\n",
    "ax.legend()\n"
   ]
  },
  {
   "cell_type": "code",
   "execution_count": 31,
   "metadata": {},
   "outputs": [
    {
     "data": {
      "text/html": [
       "<div>\n",
       "<style scoped>\n",
       "    .dataframe tbody tr th:only-of-type {\n",
       "        vertical-align: middle;\n",
       "    }\n",
       "\n",
       "    .dataframe tbody tr th {\n",
       "        vertical-align: top;\n",
       "    }\n",
       "\n",
       "    .dataframe thead th {\n",
       "        text-align: right;\n",
       "    }\n",
       "</style>\n",
       "<table border=\"1\" class=\"dataframe\">\n",
       "  <thead>\n",
       "    <tr style=\"text-align: right;\">\n",
       "      <th></th>\n",
       "      <th>recency_cltv_p</th>\n",
       "      <th>T</th>\n",
       "      <th>frequency</th>\n",
       "      <th>monetary_avg</th>\n",
       "      <th>recency_weekly_p</th>\n",
       "      <th>T_weekly</th>\n",
       "      <th>expected_average_profit</th>\n",
       "    </tr>\n",
       "    <tr>\n",
       "      <th>Customer ID</th>\n",
       "      <th></th>\n",
       "      <th></th>\n",
       "      <th></th>\n",
       "      <th></th>\n",
       "      <th></th>\n",
       "      <th></th>\n",
       "      <th></th>\n",
       "    </tr>\n",
       "  </thead>\n",
       "  <tbody>\n",
       "    <tr>\n",
       "      <th>12747.00000</th>\n",
       "      <td>3</td>\n",
       "      <td>370</td>\n",
       "      <td>11</td>\n",
       "      <td>381.45545</td>\n",
       "      <td>0.42857</td>\n",
       "      <td>52.85714</td>\n",
       "      <td>387.82809</td>\n",
       "    </tr>\n",
       "    <tr>\n",
       "      <th>12748.00000</th>\n",
       "      <td>2</td>\n",
       "      <td>375</td>\n",
       "      <td>210</td>\n",
       "      <td>154.19243</td>\n",
       "      <td>0.28571</td>\n",
       "      <td>53.57143</td>\n",
       "      <td>154.33601</td>\n",
       "    </tr>\n",
       "    <tr>\n",
       "      <th>12749.00000</th>\n",
       "      <td>5</td>\n",
       "      <td>214</td>\n",
       "      <td>5</td>\n",
       "      <td>815.58800</td>\n",
       "      <td>0.71429</td>\n",
       "      <td>30.57143</td>\n",
       "      <td>845.25944</td>\n",
       "    </tr>\n",
       "    <tr>\n",
       "      <th>12820.00000</th>\n",
       "      <td>4</td>\n",
       "      <td>328</td>\n",
       "      <td>4</td>\n",
       "      <td>235.58500</td>\n",
       "      <td>0.57143</td>\n",
       "      <td>46.85714</td>\n",
       "      <td>247.09031</td>\n",
       "    </tr>\n",
       "    <tr>\n",
       "      <th>12822.00000</th>\n",
       "      <td>72</td>\n",
       "      <td>88</td>\n",
       "      <td>2</td>\n",
       "      <td>474.44000</td>\n",
       "      <td>10.28571</td>\n",
       "      <td>12.57143</td>\n",
       "      <td>520.87001</td>\n",
       "    </tr>\n",
       "  </tbody>\n",
       "</table>\n",
       "</div>"
      ],
      "text/plain": [
       "             recency_cltv_p    T  frequency  monetary_avg  recency_weekly_p  \\\n",
       "Customer ID                                                                   \n",
       "12747.00000               3  370         11     381.45545           0.42857   \n",
       "12748.00000               2  375        210     154.19243           0.28571   \n",
       "12749.00000               5  214          5     815.58800           0.71429   \n",
       "12820.00000               4  328          4     235.58500           0.57143   \n",
       "12822.00000              72   88          2     474.44000          10.28571   \n",
       "\n",
       "             T_weekly  expected_average_profit  \n",
       "Customer ID                                     \n",
       "12747.00000  52.85714                387.82809  \n",
       "12748.00000  53.57143                154.33601  \n",
       "12749.00000  30.57143                845.25944  \n",
       "12820.00000  46.85714                247.09031  \n",
       "12822.00000  12.57143                520.87001  "
      ]
     },
     "execution_count": 31,
     "metadata": {},
     "output_type": "execute_result"
    }
   ],
   "source": [
    "rfm.head()"
   ]
  },
  {
   "cell_type": "markdown",
   "metadata": {},
   "source": [
    "# 4. BG-NBD ve GG modeli ile CLTV'nin hesaplanması."
   ]
  },
  {
   "cell_type": "markdown",
   "metadata": {},
   "source": [
    "### Zamana Göre CLTV Tahmini Yapılması"
   ]
  },
  {
   "cell_type": "code",
   "execution_count": 32,
   "metadata": {},
   "outputs": [],
   "source": [
    "# 1 aylık CLTV Tahmini\n",
    "cltv_M1= ggf.customer_lifetime_value(bgf,\n",
    "                                   rfm['frequency'],\n",
    "                                   rfm['recency_weekly_p'],\n",
    "                                   rfm['T_weekly'],\n",
    "                                   rfm['monetary_avg'],\n",
    "                                   time=1,  # 1 aylık\n",
    "                                   freq=\"W\",  # T'nin frekans bilgisi.\n",
    "                                   discount_rate=0.01)\n",
    "rfm[\"clv_M1\"]=cltv_M1"
   ]
  },
  {
   "cell_type": "code",
   "execution_count": 33,
   "metadata": {},
   "outputs": [],
   "source": [
    "# 6 aylık CLTV Tahmini\n",
    "cltv_M6 = ggf.customer_lifetime_value(bgf,\n",
    "                                   rfm['frequency'],\n",
    "                                   rfm['recency_weekly_p'],\n",
    "                                   rfm['T_weekly'],\n",
    "                                   rfm['monetary_avg'],\n",
    "                                   time=6,  # 6 aylık\n",
    "                                   freq=\"W\",  # T'nin frekans bilgisi.\n",
    "                                   discount_rate=0.01)\n",
    "\n",
    "rfm[\"clv_M6\"]=cltv_M6"
   ]
  },
  {
   "cell_type": "code",
   "execution_count": 34,
   "metadata": {},
   "outputs": [],
   "source": [
    "# 12 aylık CLTV Tahmini\n",
    "cltv_M12 = ggf.customer_lifetime_value(bgf,\n",
    "                                   rfm['frequency'],\n",
    "                                   rfm['recency_weekly_p'],\n",
    "                                   rfm['T_weekly'],\n",
    "                                   rfm['monetary_avg'],\n",
    "                                   time=12,  # 12 aylık\n",
    "                                   freq=\"W\",  # T'nin frekans bilgisi.\n",
    "                                   discount_rate=0.01)\n",
    "\n",
    "rfm[\"clv_M12\"]=cltv_M12"
   ]
  },
  {
   "cell_type": "code",
   "execution_count": 35,
   "metadata": {},
   "outputs": [
    {
     "data": {
      "text/html": [
       "<div>\n",
       "<style scoped>\n",
       "    .dataframe tbody tr th:only-of-type {\n",
       "        vertical-align: middle;\n",
       "    }\n",
       "\n",
       "    .dataframe tbody tr th {\n",
       "        vertical-align: top;\n",
       "    }\n",
       "\n",
       "    .dataframe thead th {\n",
       "        text-align: right;\n",
       "    }\n",
       "</style>\n",
       "<table border=\"1\" class=\"dataframe\">\n",
       "  <thead>\n",
       "    <tr style=\"text-align: right;\">\n",
       "      <th></th>\n",
       "      <th>recency_cltv_p</th>\n",
       "      <th>T</th>\n",
       "      <th>frequency</th>\n",
       "      <th>monetary_avg</th>\n",
       "      <th>recency_weekly_p</th>\n",
       "      <th>T_weekly</th>\n",
       "      <th>expected_average_profit</th>\n",
       "      <th>clv_M1</th>\n",
       "      <th>clv_M6</th>\n",
       "      <th>clv_M12</th>\n",
       "    </tr>\n",
       "    <tr>\n",
       "      <th>Customer ID</th>\n",
       "      <th></th>\n",
       "      <th></th>\n",
       "      <th></th>\n",
       "      <th></th>\n",
       "      <th></th>\n",
       "      <th></th>\n",
       "      <th></th>\n",
       "      <th></th>\n",
       "      <th></th>\n",
       "      <th></th>\n",
       "    </tr>\n",
       "  </thead>\n",
       "  <tbody>\n",
       "    <tr>\n",
       "      <th>16000.00000</th>\n",
       "      <td>4</td>\n",
       "      <td>4</td>\n",
       "      <td>3</td>\n",
       "      <td>2335.12000</td>\n",
       "      <td>0.57143</td>\n",
       "      <td>0.57143</td>\n",
       "      <td>2477.66406</td>\n",
       "      <td>15944.77066</td>\n",
       "      <td>24427.84521</td>\n",
       "      <td>26130.10969</td>\n",
       "    </tr>\n",
       "    <tr>\n",
       "      <th>18139.00000</th>\n",
       "      <td>19</td>\n",
       "      <td>19</td>\n",
       "      <td>6</td>\n",
       "      <td>1406.39000</td>\n",
       "      <td>2.71429</td>\n",
       "      <td>2.71429</td>\n",
       "      <td>1448.31142</td>\n",
       "      <td>7517.47858</td>\n",
       "      <td>15970.79969</td>\n",
       "      <td>18239.89730</td>\n",
       "    </tr>\n",
       "    <tr>\n",
       "      <th>17084.00000</th>\n",
       "      <td>36</td>\n",
       "      <td>36</td>\n",
       "      <td>2</td>\n",
       "      <td>1474.87500</td>\n",
       "      <td>5.14286</td>\n",
       "      <td>5.14286</td>\n",
       "      <td>1614.88842</td>\n",
       "      <td>2115.20800</td>\n",
       "      <td>6924.87877</td>\n",
       "      <td>9165.47954</td>\n",
       "    </tr>\n",
       "    <tr>\n",
       "      <th>17509.00000</th>\n",
       "      <td>59</td>\n",
       "      <td>64</td>\n",
       "      <td>8</td>\n",
       "      <td>764.39250</td>\n",
       "      <td>8.42857</td>\n",
       "      <td>9.14286</td>\n",
       "      <td>781.57525</td>\n",
       "      <td>1996.33219</td>\n",
       "      <td>6295.23391</td>\n",
       "      <td>8098.89806</td>\n",
       "    </tr>\n",
       "    <tr>\n",
       "      <th>16984.00000</th>\n",
       "      <td>89</td>\n",
       "      <td>131</td>\n",
       "      <td>2</td>\n",
       "      <td>2240.67500</td>\n",
       "      <td>12.71429</td>\n",
       "      <td>18.71429</td>\n",
       "      <td>2452.32343</td>\n",
       "      <td>804.16870</td>\n",
       "      <td>3684.14352</td>\n",
       "      <td>5787.53396</td>\n",
       "    </tr>\n",
       "    <tr>\n",
       "      <th>15749.00000</th>\n",
       "      <td>236</td>\n",
       "      <td>333</td>\n",
       "      <td>3</td>\n",
       "      <td>3028.78000</td>\n",
       "      <td>33.71429</td>\n",
       "      <td>47.57143</td>\n",
       "      <td>3213.27392</td>\n",
       "      <td>582.13476</td>\n",
       "      <td>2989.06948</td>\n",
       "      <td>5099.20267</td>\n",
       "    </tr>\n",
       "    <tr>\n",
       "      <th>14893.00000</th>\n",
       "      <td>11</td>\n",
       "      <td>13</td>\n",
       "      <td>2</td>\n",
       "      <td>618.92500</td>\n",
       "      <td>1.57143</td>\n",
       "      <td>1.85714</td>\n",
       "      <td>678.87053</td>\n",
       "      <td>1720.07048</td>\n",
       "      <td>4004.97116</td>\n",
       "      <td>4730.75971</td>\n",
       "    </tr>\n",
       "    <tr>\n",
       "      <th>17100.00000</th>\n",
       "      <td>19</td>\n",
       "      <td>19</td>\n",
       "      <td>2</td>\n",
       "      <td>485.87000</td>\n",
       "      <td>2.71429</td>\n",
       "      <td>2.71429</td>\n",
       "      <td>533.36921</td>\n",
       "      <td>1136.99235</td>\n",
       "      <td>3008.69133</td>\n",
       "      <td>3691.48206</td>\n",
       "    </tr>\n",
       "    <tr>\n",
       "      <th>13952.00000</th>\n",
       "      <td>219</td>\n",
       "      <td>240</td>\n",
       "      <td>2</td>\n",
       "      <td>1625.53550</td>\n",
       "      <td>31.28571</td>\n",
       "      <td>34.28571</td>\n",
       "      <td>1779.64211</td>\n",
       "      <td>400.46314</td>\n",
       "      <td>2019.12184</td>\n",
       "      <td>3398.44856</td>\n",
       "    </tr>\n",
       "    <tr>\n",
       "      <th>14164.00000</th>\n",
       "      <td>72</td>\n",
       "      <td>82</td>\n",
       "      <td>2</td>\n",
       "      <td>815.88500</td>\n",
       "      <td>10.28571</td>\n",
       "      <td>11.71429</td>\n",
       "      <td>894.25471</td>\n",
       "      <td>540.21778</td>\n",
       "      <td>2235.60626</td>\n",
       "      <td>3303.52572</td>\n",
       "    </tr>\n",
       "    <tr>\n",
       "      <th>14306.00000</th>\n",
       "      <td>52</td>\n",
       "      <td>87</td>\n",
       "      <td>2</td>\n",
       "      <td>1046.66000</td>\n",
       "      <td>7.42857</td>\n",
       "      <td>12.42857</td>\n",
       "      <td>1146.61703</td>\n",
       "      <td>487.40666</td>\n",
       "      <td>2045.93394</td>\n",
       "      <td>3047.38191</td>\n",
       "    </tr>\n",
       "    <tr>\n",
       "      <th>17679.00000</th>\n",
       "      <td>54</td>\n",
       "      <td>87</td>\n",
       "      <td>2</td>\n",
       "      <td>994.61000</td>\n",
       "      <td>7.71429</td>\n",
       "      <td>12.42857</td>\n",
       "      <td>1089.69813</td>\n",
       "      <td>480.87756</td>\n",
       "      <td>2018.52746</td>\n",
       "      <td>3006.56046</td>\n",
       "    </tr>\n",
       "    <tr>\n",
       "      <th>15478.00000</th>\n",
       "      <td>41</td>\n",
       "      <td>58</td>\n",
       "      <td>2</td>\n",
       "      <td>720.71000</td>\n",
       "      <td>5.85714</td>\n",
       "      <td>8.28571</td>\n",
       "      <td>790.17678</td>\n",
       "      <td>561.81634</td>\n",
       "      <td>2123.26462</td>\n",
       "      <td>2993.68517</td>\n",
       "    </tr>\n",
       "    <tr>\n",
       "      <th>15098.00000</th>\n",
       "      <td>183</td>\n",
       "      <td>183</td>\n",
       "      <td>3</td>\n",
       "      <td>852.55333</td>\n",
       "      <td>26.14286</td>\n",
       "      <td>26.14286</td>\n",
       "      <td>905.43753</td>\n",
       "      <td>397.35423</td>\n",
       "      <td>1871.06224</td>\n",
       "      <td>2986.76632</td>\n",
       "    </tr>\n",
       "    <tr>\n",
       "      <th>17850.00000</th>\n",
       "      <td>373</td>\n",
       "      <td>375</td>\n",
       "      <td>34</td>\n",
       "      <td>158.56500</td>\n",
       "      <td>53.28571</td>\n",
       "      <td>53.57143</td>\n",
       "      <td>159.47772</td>\n",
       "      <td>395.13621</td>\n",
       "      <td>1828.53136</td>\n",
       "      <td>2865.38571</td>\n",
       "    </tr>\n",
       "    <tr>\n",
       "      <th>15032.00000</th>\n",
       "      <td>257</td>\n",
       "      <td>367</td>\n",
       "      <td>3</td>\n",
       "      <td>1653.03333</td>\n",
       "      <td>36.71429</td>\n",
       "      <td>52.42857</td>\n",
       "      <td>1754.32745</td>\n",
       "      <td>284.61344</td>\n",
       "      <td>1477.26731</td>\n",
       "      <td>2543.36573</td>\n",
       "    </tr>\n",
       "    <tr>\n",
       "      <th>17397.00000</th>\n",
       "      <td>23</td>\n",
       "      <td>23</td>\n",
       "      <td>2</td>\n",
       "      <td>348.20500</td>\n",
       "      <td>3.28571</td>\n",
       "      <td>3.28571</td>\n",
       "      <td>382.82665</td>\n",
       "      <td>710.58987</td>\n",
       "      <td>2006.28782</td>\n",
       "      <td>2514.40387</td>\n",
       "    </tr>\n",
       "    <tr>\n",
       "      <th>15427.00000</th>\n",
       "      <td>34</td>\n",
       "      <td>48</td>\n",
       "      <td>3</td>\n",
       "      <td>494.38000</td>\n",
       "      <td>4.85714</td>\n",
       "      <td>6.85714</td>\n",
       "      <td>525.60327</td>\n",
       "      <td>563.69911</td>\n",
       "      <td>1890.59655</td>\n",
       "      <td>2513.91565</td>\n",
       "    </tr>\n",
       "    <tr>\n",
       "      <th>16376.00000</th>\n",
       "      <td>10</td>\n",
       "      <td>18</td>\n",
       "      <td>2</td>\n",
       "      <td>493.50500</td>\n",
       "      <td>1.42857</td>\n",
       "      <td>2.57143</td>\n",
       "      <td>541.71841</td>\n",
       "      <td>788.44569</td>\n",
       "      <td>2048.39505</td>\n",
       "      <td>2498.82794</td>\n",
       "    </tr>\n",
       "    <tr>\n",
       "      <th>16934.00000</th>\n",
       "      <td>56</td>\n",
       "      <td>56</td>\n",
       "      <td>2</td>\n",
       "      <td>475.46500</td>\n",
       "      <td>8.00000</td>\n",
       "      <td>8.00000</td>\n",
       "      <td>521.99089</td>\n",
       "      <td>471.47431</td>\n",
       "      <td>1764.30841</td>\n",
       "      <td>2475.78854</td>\n",
       "    </tr>\n",
       "  </tbody>\n",
       "</table>\n",
       "</div>"
      ],
      "text/plain": [
       "             recency_cltv_p    T  frequency  monetary_avg  recency_weekly_p  \\\n",
       "Customer ID                                                                   \n",
       "16000.00000               4    4          3    2335.12000           0.57143   \n",
       "18139.00000              19   19          6    1406.39000           2.71429   \n",
       "17084.00000              36   36          2    1474.87500           5.14286   \n",
       "17509.00000              59   64          8     764.39250           8.42857   \n",
       "16984.00000              89  131          2    2240.67500          12.71429   \n",
       "15749.00000             236  333          3    3028.78000          33.71429   \n",
       "14893.00000              11   13          2     618.92500           1.57143   \n",
       "17100.00000              19   19          2     485.87000           2.71429   \n",
       "13952.00000             219  240          2    1625.53550          31.28571   \n",
       "14164.00000              72   82          2     815.88500          10.28571   \n",
       "14306.00000              52   87          2    1046.66000           7.42857   \n",
       "17679.00000              54   87          2     994.61000           7.71429   \n",
       "15478.00000              41   58          2     720.71000           5.85714   \n",
       "15098.00000             183  183          3     852.55333          26.14286   \n",
       "17850.00000             373  375         34     158.56500          53.28571   \n",
       "15032.00000             257  367          3    1653.03333          36.71429   \n",
       "17397.00000              23   23          2     348.20500           3.28571   \n",
       "15427.00000              34   48          3     494.38000           4.85714   \n",
       "16376.00000              10   18          2     493.50500           1.42857   \n",
       "16934.00000              56   56          2     475.46500           8.00000   \n",
       "\n",
       "             T_weekly  expected_average_profit      clv_M1      clv_M6  \\\n",
       "Customer ID                                                              \n",
       "16000.00000   0.57143               2477.66406 15944.77066 24427.84521   \n",
       "18139.00000   2.71429               1448.31142  7517.47858 15970.79969   \n",
       "17084.00000   5.14286               1614.88842  2115.20800  6924.87877   \n",
       "17509.00000   9.14286                781.57525  1996.33219  6295.23391   \n",
       "16984.00000  18.71429               2452.32343   804.16870  3684.14352   \n",
       "15749.00000  47.57143               3213.27392   582.13476  2989.06948   \n",
       "14893.00000   1.85714                678.87053  1720.07048  4004.97116   \n",
       "17100.00000   2.71429                533.36921  1136.99235  3008.69133   \n",
       "13952.00000  34.28571               1779.64211   400.46314  2019.12184   \n",
       "14164.00000  11.71429                894.25471   540.21778  2235.60626   \n",
       "14306.00000  12.42857               1146.61703   487.40666  2045.93394   \n",
       "17679.00000  12.42857               1089.69813   480.87756  2018.52746   \n",
       "15478.00000   8.28571                790.17678   561.81634  2123.26462   \n",
       "15098.00000  26.14286                905.43753   397.35423  1871.06224   \n",
       "17850.00000  53.57143                159.47772   395.13621  1828.53136   \n",
       "15032.00000  52.42857               1754.32745   284.61344  1477.26731   \n",
       "17397.00000   3.28571                382.82665   710.58987  2006.28782   \n",
       "15427.00000   6.85714                525.60327   563.69911  1890.59655   \n",
       "16376.00000   2.57143                541.71841   788.44569  2048.39505   \n",
       "16934.00000   8.00000                521.99089   471.47431  1764.30841   \n",
       "\n",
       "                clv_M12  \n",
       "Customer ID              \n",
       "16000.00000 26130.10969  \n",
       "18139.00000 18239.89730  \n",
       "17084.00000  9165.47954  \n",
       "17509.00000  8098.89806  \n",
       "16984.00000  5787.53396  \n",
       "15749.00000  5099.20267  \n",
       "14893.00000  4730.75971  \n",
       "17100.00000  3691.48206  \n",
       "13952.00000  3398.44856  \n",
       "14164.00000  3303.52572  \n",
       "14306.00000  3047.38191  \n",
       "17679.00000  3006.56046  \n",
       "15478.00000  2993.68517  \n",
       "15098.00000  2986.76632  \n",
       "17850.00000  2865.38571  \n",
       "15032.00000  2543.36573  \n",
       "17397.00000  2514.40387  \n",
       "15427.00000  2513.91565  \n",
       "16376.00000  2498.82794  \n",
       "16934.00000  2475.78854  "
      ]
     },
     "execution_count": 35,
     "metadata": {},
     "output_type": "execute_result"
    }
   ],
   "source": [
    "rfm.sort_values(by=\"clv_M12\", ascending=False).head(20)"
   ]
  },
  {
   "cell_type": "code",
   "execution_count": 36,
   "metadata": {},
   "outputs": [
    {
     "name": "stderr",
     "output_type": "stream",
     "text": [
      "<ipython-input-36-5539be488410>:11: UserWarning: FixedFormatter should only be used together with FixedLocator\n",
      "  ax.set_xticklabels(rfm.sort_values(by=\"clv_M12\", ascending =False)[\"clv_M12\"].head(gözlem).index.astype(\"str\"), rotation=90)\n"
     ]
    },
    {
     "data": {
      "image/png": "[encoded data removed]",
      "text/plain": [
       "<Figure size 1080x360 with 1 Axes>"
      ]
     },
     "metadata": {
      "needs_background": "light"
     },
     "output_type": "display_data"
    }
   ],
   "source": [
    "# 12 aylık en yüksek clvye sahip müşterilerin 12 aylık, 6 aylık  ve 1 aylık clv lerinin grafiği\n",
    "gözlem = 50 # en yüksek ilk 50 müşteri\n",
    "index_20=pd.DataFrame(range(0,gözlem)) # 0-20 arasında  oluşturdum\n",
    "fig, ax = plt.subplots(figsize=(15,5))\n",
    "ax.plot(rfm.sort_values(by=\"clv_M12\", ascending =False)[\"clv_M12\"].head(gözlem).index.astype(\"str\"),rfm.sort_values(by=\"clv_M12\", ascending =False)[\"clv_M12\"].head(gözlem),label=\"12 Ay\")\n",
    "ax.plot(rfm.sort_values(by=\"clv_M12\", ascending =False)[\"clv_M12\"].head(gözlem).index.astype(\"str\"),rfm.sort_values(by=\"clv_M12\", ascending =False)[\"clv_M6\"].head(gözlem),label=\"6 Ay\")\n",
    "ax.plot(rfm.sort_values(by=\"clv_M12\", ascending =False)[\"clv_M12\"].head(gözlem).index.astype(\"str\"),rfm.sort_values(by=\"clv_M12\", ascending =False)[\"clv_M1\"].head(gözlem),label=\"1 Ay\")\n",
    "#ax.plot(index_20[0],rfm.sort_values(by=\"clv_M12\", ascending =False)[\"monetary_avg\"].head(gözlem))\n",
    "leg = ax.legend();\n",
    "ax.set_xlabel(f\"12 Aylık en büyük ilk {gözlem} müşteri\")\n",
    "ax.set_xticklabels(rfm.sort_values(by=\"clv_M12\", ascending =False)[\"clv_M12\"].head(gözlem).index.astype(\"str\"), rotation=90)\n",
    "plt.show()"
   ]
  },
  {
   "cell_type": "code",
   "execution_count": 37,
   "metadata": {},
   "outputs": [
    {
     "data": {
      "image/png": "[encoded data removed]",
      "text/plain": [
       "<Figure size 720x360 with 1 Axes>"
      ]
     },
     "metadata": {
      "needs_background": "light"
     },
     "output_type": "display_data"
    }
   ],
   "source": [
    "# 12 aylık en yüksek clvye sahip müşterilerin 12 aylık, 6 aylık  ve 1 aylık clv lerinin grafiği\n",
    "gözlem = 10\n",
    "index_20=pd.DataFrame(range(0,gözlem)) # 0-20 arasında  oluşturdum\n",
    "fig, ax = plt.subplots(figsize=(10,5))\n",
    "ax.plot(index_20[0],rfm.sort_values(by=\"clv_M12\", ascending =False)[\"clv_M12\"].head(gözlem),label=\"12 Ay\")\n",
    "ax.plot(index_20[0],rfm.sort_values(by=\"clv_M12\", ascending =False)[\"clv_M6\"].head(gözlem),label=\"6 Ay\")\n",
    "ax.plot(index_20[0],rfm.sort_values(by=\"clv_M12\", ascending =False)[\"clv_M1\"].head(gözlem),label=\"1 Ay\")\n",
    "#ax.plot(index_20[0],rfm.sort_values(by=\"clv_M12\", ascending =False)[\"monetary_avg\"].head(gözlem))\n",
    "leg = ax.legend();\n",
    "ax.set_xlabel(f\"12 aylık en yüksek ilk {gözlem} gözlemin\")\n",
    "plt.show()"
   ]
  },
  {
   "cell_type": "code",
   "execution_count": 48,
   "metadata": {},
   "outputs": [
    {
     "data": {
      "image/png": "[encoded data removed]",
      "text/plain": [
       "<Figure size 720x360 with 1 Axes>"
      ]
     },
     "metadata": {
      "needs_background": "light"
     },
     "output_type": "display_data"
    }
   ],
   "source": [
    "# ortalama getiri  ve beklenen ortalama getiri\n",
    "gözlem = 50\n",
    "index_20=pd.DataFrame(range(0,gözlem))\n",
    "fig, ax = plt.subplots(figsize=(10,5))\n",
    "ax.plot(index_20[0],rfm.sort_values(by=\"clv_M12\", ascending =False)[\"expected_average_profit\"].head(gözlem),label=\"expected_average_profit\")\n",
    "ax.plot(index_20[0],rfm.sort_values(by=\"clv_M12\", ascending =False)[\"monetary_avg\"].head(gözlem),label=\"monetary_avg\")\n",
    "ax.legend()\n",
    "plt.show()"
   ]
  },
  {
   "cell_type": "code",
   "execution_count": null,
   "metadata": {},
   "outputs": [],
   "source": []
  },
  {
   "cell_type": "markdown",
   "metadata": {},
   "source": [
    "## 6 Aylık CLTV'ye Göre Müşterileri Segmentlere Ayırma\n"
   ]
  },
  {
   "cell_type": "code",
   "execution_count": 39,
   "metadata": {},
   "outputs": [
    {
     "data": {
      "text/plain": [
       "<AxesSubplot:>"
      ]
     },
     "execution_count": 39,
     "metadata": {},
     "output_type": "execute_result"
    },
    {
     "data": {
      "image/png": "[encoded data removed]",
      "text/plain": [
       "<Figure size 432x288 with 1 Axes>"
      ]
     },
     "metadata": {
      "needs_background": "light"
     },
     "output_type": "display_data"
    }
   ],
   "source": [
    "rfm[\"clv_M6\"].hist(bins=50)"
   ]
  },
  {
   "cell_type": "code",
   "execution_count": 40,
   "metadata": {},
   "outputs": [
    {
     "data": {
      "text/plain": [
       "<AxesSubplot:ylabel='clv_M6'>"
      ]
     },
     "execution_count": 40,
     "metadata": {},
     "output_type": "execute_result"
    },
    {
     "data": {
      "image/png": "[encoded data removed]",
      "text/plain": [
       "<Figure size 432x288 with 1 Axes>"
      ]
     },
     "metadata": {
      "needs_background": "light"
     },
     "output_type": "display_data"
    }
   ],
   "source": [
    "sns.boxplot(y=rfm[\"clv_M6\"])"
   ]
  },
  {
   "cell_type": "code",
   "execution_count": 50,
   "metadata": {},
   "outputs": [],
   "source": [
    "replace_with_thresholds(rfm,\"clv_M6\")"
   ]
  },
  {
   "cell_type": "code",
   "execution_count": 51,
   "metadata": {},
   "outputs": [
    {
     "data": {
      "text/plain": [
       "<AxesSubplot:>"
      ]
     },
     "execution_count": 51,
     "metadata": {},
     "output_type": "execute_result"
    },
    {
     "data": {
      "image/png": "[encoded data removed]",
      "text/plain": [
       "<Figure size 432x288 with 1 Axes>"
      ]
     },
     "metadata": {
      "needs_background": "light"
     },
     "output_type": "display_data"
    }
   ],
   "source": [
    "rfm[\"clv_M6\"].hist(bins=50)"
   ]
  },
  {
   "cell_type": "code",
   "execution_count": 52,
   "metadata": {},
   "outputs": [
    {
     "data": {
      "text/plain": [
       "<AxesSubplot:ylabel='clv_M6'>"
      ]
     },
     "execution_count": 52,
     "metadata": {},
     "output_type": "execute_result"
    },
    {
     "data": {
      "image/png": "[encoded data removed]",
      "text/plain": [
       "<Figure size 432x288 with 1 Axes>"
      ]
     },
     "metadata": {
      "needs_background": "light"
     },
     "output_type": "display_data"
    }
   ],
   "source": [
    "sns.boxplot(y=rfm[\"clv_M6\"])"
   ]
  },
  {
   "cell_type": "code",
   "execution_count": 56,
   "metadata": {},
   "outputs": [],
   "source": [
    "# 6 aylık cltv tahminlerine göre müşterileri A B C D segmenlerine ayırıyorum\n",
    "rfm[\"Segment\"] = pd.qcut(rfm[\"clv_M6\"],4,labels = [\"D\",\"C\",\"B\",\"A\"] )"
   ]
  },
  {
   "cell_type": "code",
   "execution_count": 57,
   "metadata": {},
   "outputs": [
    {
     "data": {
      "text/html": [
       "<div>\n",
       "<style scoped>\n",
       "    .dataframe tbody tr th:only-of-type {\n",
       "        vertical-align: middle;\n",
       "    }\n",
       "\n",
       "    .dataframe tbody tr th {\n",
       "        vertical-align: top;\n",
       "    }\n",
       "\n",
       "    .dataframe thead th {\n",
       "        text-align: right;\n",
       "    }\n",
       "</style>\n",
       "<table border=\"1\" class=\"dataframe\">\n",
       "  <thead>\n",
       "    <tr style=\"text-align: right;\">\n",
       "      <th></th>\n",
       "      <th>recency_cltv_p</th>\n",
       "      <th>T</th>\n",
       "      <th>frequency</th>\n",
       "      <th>monetary_avg</th>\n",
       "      <th>recency_weekly_p</th>\n",
       "      <th>T_weekly</th>\n",
       "      <th>expected_average_profit</th>\n",
       "      <th>clv_M1</th>\n",
       "      <th>clv_M6</th>\n",
       "      <th>clv_M12</th>\n",
       "      <th>Segment</th>\n",
       "    </tr>\n",
       "    <tr>\n",
       "      <th>Customer ID</th>\n",
       "      <th></th>\n",
       "      <th></th>\n",
       "      <th></th>\n",
       "      <th></th>\n",
       "      <th></th>\n",
       "      <th></th>\n",
       "      <th></th>\n",
       "      <th></th>\n",
       "      <th></th>\n",
       "      <th></th>\n",
       "      <th></th>\n",
       "    </tr>\n",
       "  </thead>\n",
       "  <tbody>\n",
       "    <tr>\n",
       "      <th>12747.00000</th>\n",
       "      <td>3</td>\n",
       "      <td>370</td>\n",
       "      <td>11</td>\n",
       "      <td>381.45545</td>\n",
       "      <td>0.42857</td>\n",
       "      <td>52.85714</td>\n",
       "      <td>387.82809</td>\n",
       "      <td>0.00000</td>\n",
       "      <td>0.00000</td>\n",
       "      <td>0.00000</td>\n",
       "      <td>D</td>\n",
       "    </tr>\n",
       "    <tr>\n",
       "      <th>12748.00000</th>\n",
       "      <td>2</td>\n",
       "      <td>375</td>\n",
       "      <td>210</td>\n",
       "      <td>154.19243</td>\n",
       "      <td>0.28571</td>\n",
       "      <td>53.57143</td>\n",
       "      <td>154.33601</td>\n",
       "      <td>0.00000</td>\n",
       "      <td>0.00000</td>\n",
       "      <td>0.00000</td>\n",
       "      <td>D</td>\n",
       "    </tr>\n",
       "    <tr>\n",
       "      <th>12749.00000</th>\n",
       "      <td>5</td>\n",
       "      <td>214</td>\n",
       "      <td>5</td>\n",
       "      <td>815.58800</td>\n",
       "      <td>0.71429</td>\n",
       "      <td>30.57143</td>\n",
       "      <td>845.25944</td>\n",
       "      <td>0.00001</td>\n",
       "      <td>0.00005</td>\n",
       "      <td>0.00008</td>\n",
       "      <td>D</td>\n",
       "    </tr>\n",
       "    <tr>\n",
       "      <th>12820.00000</th>\n",
       "      <td>4</td>\n",
       "      <td>328</td>\n",
       "      <td>4</td>\n",
       "      <td>235.58500</td>\n",
       "      <td>0.57143</td>\n",
       "      <td>46.85714</td>\n",
       "      <td>247.09031</td>\n",
       "      <td>0.00000</td>\n",
       "      <td>0.00002</td>\n",
       "      <td>0.00003</td>\n",
       "      <td>D</td>\n",
       "    </tr>\n",
       "    <tr>\n",
       "      <th>12822.00000</th>\n",
       "      <td>72</td>\n",
       "      <td>88</td>\n",
       "      <td>2</td>\n",
       "      <td>474.44000</td>\n",
       "      <td>10.28571</td>\n",
       "      <td>12.57143</td>\n",
       "      <td>520.87001</td>\n",
       "      <td>283.06546</td>\n",
       "      <td>1191.40525</td>\n",
       "      <td>1777.29433</td>\n",
       "      <td>A</td>\n",
       "    </tr>\n",
       "  </tbody>\n",
       "</table>\n",
       "</div>"
      ],
      "text/plain": [
       "             recency_cltv_p    T  frequency  monetary_avg  recency_weekly_p  \\\n",
       "Customer ID                                                                   \n",
       "12747.00000               3  370         11     381.45545           0.42857   \n",
       "12748.00000               2  375        210     154.19243           0.28571   \n",
       "12749.00000               5  214          5     815.58800           0.71429   \n",
       "12820.00000               4  328          4     235.58500           0.57143   \n",
       "12822.00000              72   88          2     474.44000          10.28571   \n",
       "\n",
       "             T_weekly  expected_average_profit    clv_M1     clv_M6  \\\n",
       "Customer ID                                                           \n",
       "12747.00000  52.85714                387.82809   0.00000    0.00000   \n",
       "12748.00000  53.57143                154.33601   0.00000    0.00000   \n",
       "12749.00000  30.57143                845.25944   0.00001    0.00005   \n",
       "12820.00000  46.85714                247.09031   0.00000    0.00002   \n",
       "12822.00000  12.57143                520.87001 283.06546 1191.40525   \n",
       "\n",
       "               clv_M12 Segment  \n",
       "Customer ID                     \n",
       "12747.00000    0.00000       D  \n",
       "12748.00000    0.00000       D  \n",
       "12749.00000    0.00008       D  \n",
       "12820.00000    0.00003       D  \n",
       "12822.00000 1777.29433       A  "
      ]
     },
     "execution_count": 57,
     "metadata": {},
     "output_type": "execute_result"
    }
   ],
   "source": [
    "rfm.head()"
   ]
  },
  {
   "cell_type": "code",
   "execution_count": 58,
   "metadata": {},
   "outputs": [
    {
     "data": {
      "text/plain": [
       "<AxesSubplot:xlabel='Segment', ylabel='clv_M6'>"
      ]
     },
     "execution_count": 58,
     "metadata": {},
     "output_type": "execute_result"
    },
    {
     "data": {
      "image/png": "[encoded data removed]",
      "text/plain": [
       "<Figure size 432x288 with 1 Axes>"
      ]
     },
     "metadata": {
      "needs_background": "light"
     },
     "output_type": "display_data"
    }
   ],
   "source": [
    "sns.boxplot(x=\"Segment\",y=\"clv_M6\", data=rfm)"
   ]
  },
  {
   "cell_type": "markdown",
   "metadata": {},
   "source": [
    "#### BEST % 20 Müşterilere 1 eiteketi"
   ]
  },
  {
   "cell_type": "code",
   "execution_count": 81,
   "metadata": {},
   "outputs": [],
   "source": [
    "# 6 aylık CLV'si en iyi müşterilerin %20'sini 1  olarak etiketleyelim\n",
    "best_percent_20 = rfm.sort_values(by=\"clv_M6\", ascending =False).head(int(rfm.shape[0]*0.2)).index\n",
    "rfm[\"top_flag\"] =[1 if i  in best_percent_20 else 0 for i in rfm.index]"
   ]
  },
  {
   "cell_type": "code",
   "execution_count": null,
   "metadata": {},
   "outputs": [],
   "source": []
  },
  {
   "cell_type": "code",
   "execution_count": 77,
   "metadata": {},
   "outputs": [
    {
     "data": {
      "text/plain": [
       "88.35718598443367"
      ]
     },
     "execution_count": 77,
     "metadata": {},
     "output_type": "execute_result"
    }
   ],
   "source": [
    "rfm[rfm[\"top_flag\"]==1][\"clv_M6\"].sum()/rfm[\"clv_M6\"].sum()*100"
   ]
  },
  {
   "cell_type": "code",
   "execution_count": 67,
   "metadata": {},
   "outputs": [],
   "source": []
  },
  {
   "cell_type": "code",
   "execution_count": 88,
   "metadata": {},
   "outputs": [
    {
     "data": {
      "text/plain": [
       "<AxesSubplot:xlabel='top_flag', ylabel='clv_M6'>"
      ]
     },
     "execution_count": 88,
     "metadata": {},
     "output_type": "execute_result"
    },
    {
     "data": {
      "image/png": "[encoded data removed]",
      "text/plain": [
       "<Figure size 432x288 with 1 Axes>"
      ]
     },
     "metadata": {
      "needs_background": "light"
     },
     "output_type": "display_data"
    }
   ],
   "source": [
    "sns.boxplot(\"top_flag\",\"clv_M6\", data = rfm)"
   ]
  },
  {
   "cell_type": "code",
   "execution_count": 91,
   "metadata": {},
   "outputs": [
    {
     "data": {
      "text/plain": [
       "<AxesSubplot:xlabel='Segment', ylabel='clv_M6'>"
      ]
     },
     "execution_count": 91,
     "metadata": {},
     "output_type": "execute_result"
    },
    {
     "data": {
      "image/png": "[encoded data removed]",
      "text/plain": [
       "<Figure size 432x288 with 1 Axes>"
      ]
     },
     "metadata": {
      "needs_background": "light"
     },
     "output_type": "display_data"
    }
   ],
   "source": [
    "sns.pointplot(\"Segment\",\"clv_M6\", data = rfm, hue=\"top_flag\")"
   ]
  },
  {
   "cell_type": "code",
   "execution_count": null,
   "metadata": {},
   "outputs": [],
   "source": []
  }
 ],
 "metadata": {
  "kernelspec": {
   "display_name": "Python 3",
   "language": "python",
   "name": "python3"
  },
  "language_info": {
   "codemirror_mode": {
    "name": "ipython",
    "version": 3
   },
   "file_extension": ".py",
   "mimetype": "text/x-python",
   "name": "python",
   "nbconvert_exporter": "python",
   "pygments_lexer": "ipython3",
   "version": "3.8.5"
  }
 },
 "nbformat": 4,
 "nbformat_minor": 4
}
