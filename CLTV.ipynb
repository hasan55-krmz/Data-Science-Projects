{
 "cells": [
  {
   "cell_type": "markdown",
   "metadata": {},
   "source": [
    "# Customer Life Time Value(CLTV): Müşteri Yaşam Boyu değeri\n",
    "\n",
    "**Bir müşterinin bir firmayla olan tüm ilişki süresi boyunca firmadan yapacağı satın almaların beklenen karının bugünkü değerini göz önünde bulunduran müşteri yasam boyu değeri, işletmelerin en yüksek ve en düşük karlı müşterilerini tanımlayarak pazarlama strateji ve taktiklerine bu doğrultuda yön vermesini sağlayan bir ölçümdür.**\n",
    "\n",
    "\n",
    "* #### CLTV = (Customer_Value / Churn_Rate) x Profit_margin.\n",
    "* #### Customer_Value = Average_Order_Value * Purchase_Frequency\n",
    "* #### Average_Order_Value = Total_Revenue / Total_Number_of_Orders\n",
    "* #### Purchase_Frequency =  Total_Number_of_Orders / Total_Number_of_Customers\n",
    "* #### Churn_Rate = 1 - Repeat_Rate\n",
    "* #### Profit_margin : \n"
   ]
  },
  {
   "cell_type": "code",
   "execution_count": 6,
   "metadata": {},
   "outputs": [],
   "source": [
    "\n",
    "import pandas as pd\n",
    "\n",
    "pd.set_option('display.max_columns', 20)\n",
    "# pd.set_option('display.max_rows', 20)\n",
    "pd.set_option('display.float_format', lambda x: '%.5f' % x)\n",
    "from sklearn.preprocessing import MinMaxScaler\n",
    "\n",
    "import matplotlib.pyplot as plt\n",
    "import seaborn as sns\n",
    "\n",
    "import warnings\n",
    "warnings.filterwarnings(\"ignore\")"
   ]
  },
  {
   "cell_type": "code",
   "execution_count": 7,
   "metadata": {},
   "outputs": [],
   "source": [
    "df_ = pd.read_excel(\"online_retail_II.xlsx\",\n",
    "                    sheet_name=\"Year 2009-2010\")\n",
    "df = df_.copy()"
   ]
  },
  {
   "cell_type": "code",
   "execution_count": 8,
   "metadata": {},
   "outputs": [
    {
     "data": {
      "text/html": [
       "<div>\n",
       "<style scoped>\n",
       "    .dataframe tbody tr th:only-of-type {\n",
       "        vertical-align: middle;\n",
       "    }\n",
       "\n",
       "    .dataframe tbody tr th {\n",
       "        vertical-align: top;\n",
       "    }\n",
       "\n",
       "    .dataframe thead th {\n",
       "        text-align: right;\n",
       "    }\n",
       "</style>\n",
       "<table border=\"1\" class=\"dataframe\">\n",
       "  <thead>\n",
       "    <tr style=\"text-align: right;\">\n",
       "      <th></th>\n",
       "      <th>Invoice</th>\n",
       "      <th>StockCode</th>\n",
       "      <th>Description</th>\n",
       "      <th>Quantity</th>\n",
       "      <th>InvoiceDate</th>\n",
       "      <th>Price</th>\n",
       "      <th>Customer ID</th>\n",
       "      <th>Country</th>\n",
       "    </tr>\n",
       "  </thead>\n",
       "  <tbody>\n",
       "    <tr>\n",
       "      <th>0</th>\n",
       "      <td>489434</td>\n",
       "      <td>85048</td>\n",
       "      <td>15CM CHRISTMAS GLASS BALL 20 LIGHTS</td>\n",
       "      <td>12</td>\n",
       "      <td>2009-12-01 07:45:00</td>\n",
       "      <td>6.95000</td>\n",
       "      <td>13085.00000</td>\n",
       "      <td>United Kingdom</td>\n",
       "    </tr>\n",
       "    <tr>\n",
       "      <th>1</th>\n",
       "      <td>489434</td>\n",
       "      <td>79323P</td>\n",
       "      <td>PINK CHERRY LIGHTS</td>\n",
       "      <td>12</td>\n",
       "      <td>2009-12-01 07:45:00</td>\n",
       "      <td>6.75000</td>\n",
       "      <td>13085.00000</td>\n",
       "      <td>United Kingdom</td>\n",
       "    </tr>\n",
       "    <tr>\n",
       "      <th>2</th>\n",
       "      <td>489434</td>\n",
       "      <td>79323W</td>\n",
       "      <td>WHITE CHERRY LIGHTS</td>\n",
       "      <td>12</td>\n",
       "      <td>2009-12-01 07:45:00</td>\n",
       "      <td>6.75000</td>\n",
       "      <td>13085.00000</td>\n",
       "      <td>United Kingdom</td>\n",
       "    </tr>\n",
       "    <tr>\n",
       "      <th>3</th>\n",
       "      <td>489434</td>\n",
       "      <td>22041</td>\n",
       "      <td>RECORD FRAME 7\" SINGLE SIZE</td>\n",
       "      <td>48</td>\n",
       "      <td>2009-12-01 07:45:00</td>\n",
       "      <td>2.10000</td>\n",
       "      <td>13085.00000</td>\n",
       "      <td>United Kingdom</td>\n",
       "    </tr>\n",
       "    <tr>\n",
       "      <th>4</th>\n",
       "      <td>489434</td>\n",
       "      <td>21232</td>\n",
       "      <td>STRAWBERRY CERAMIC TRINKET BOX</td>\n",
       "      <td>24</td>\n",
       "      <td>2009-12-01 07:45:00</td>\n",
       "      <td>1.25000</td>\n",
       "      <td>13085.00000</td>\n",
       "      <td>United Kingdom</td>\n",
       "    </tr>\n",
       "  </tbody>\n",
       "</table>\n",
       "</div>"
      ],
      "text/plain": [
       "  Invoice StockCode                          Description  Quantity  \\\n",
       "0  489434     85048  15CM CHRISTMAS GLASS BALL 20 LIGHTS        12   \n",
       "1  489434    79323P                   PINK CHERRY LIGHTS        12   \n",
       "2  489434    79323W                  WHITE CHERRY LIGHTS        12   \n",
       "3  489434     22041         RECORD FRAME 7\" SINGLE SIZE         48   \n",
       "4  489434     21232       STRAWBERRY CERAMIC TRINKET BOX        24   \n",
       "\n",
       "          InvoiceDate   Price  Customer ID         Country  \n",
       "0 2009-12-01 07:45:00 6.95000  13085.00000  United Kingdom  \n",
       "1 2009-12-01 07:45:00 6.75000  13085.00000  United Kingdom  \n",
       "2 2009-12-01 07:45:00 6.75000  13085.00000  United Kingdom  \n",
       "3 2009-12-01 07:45:00 2.10000  13085.00000  United Kingdom  \n",
       "4 2009-12-01 07:45:00 1.25000  13085.00000  United Kingdom  "
      ]
     },
     "execution_count": 8,
     "metadata": {},
     "output_type": "execute_result"
    }
   ],
   "source": [
    "# Verideki eksik ya da istenmeeyn gözlemleri attım\n",
    "df = df[~df[\"Invoice\"].str.contains(\"C\", na=False)]\n",
    "df = df[(df['Quantity'] > 0)]\n",
    "df.dropna(inplace=True)\n",
    "df.head()"
   ]
  },
  {
   "cell_type": "code",
   "execution_count": 9,
   "metadata": {},
   "outputs": [
    {
     "data": {
      "text/plain": [
       "(407695, 8)"
      ]
     },
     "execution_count": 9,
     "metadata": {},
     "output_type": "execute_result"
    }
   ],
   "source": [
    "df.shape"
   ]
  },
  {
   "cell_type": "markdown",
   "metadata": {},
   "source": [
    "## Veri Ön İşleme\n",
    "\n",
    "**Veri seti alınan her bir ürüne ait bilgileri içeirmektedir. CLTV müşterileri baz alan bir heseapalama olduğu için veri setini müşteri bilgisine göre düzenlemek gerekmektedir**"
   ]
  },
  {
   "cell_type": "code",
   "execution_count": 10,
   "metadata": {},
   "outputs": [],
   "source": [
    "# Her gözlemde ürünlerin alınan miktarları ile birim fiyatlrı çarpılıp her gözlem için toplam fiyatı hesapladım\n",
    "df[\"TotalPrice\"] = df[\"Quantity\"]*df[\"Price\"]"
   ]
  },
  {
   "cell_type": "code",
   "execution_count": 11,
   "metadata": {},
   "outputs": [
    {
     "data": {
      "text/html": [
       "<div>\n",
       "<style scoped>\n",
       "    .dataframe tbody tr th:only-of-type {\n",
       "        vertical-align: middle;\n",
       "    }\n",
       "\n",
       "    .dataframe tbody tr th {\n",
       "        vertical-align: top;\n",
       "    }\n",
       "\n",
       "    .dataframe thead th {\n",
       "        text-align: right;\n",
       "    }\n",
       "</style>\n",
       "<table border=\"1\" class=\"dataframe\">\n",
       "  <thead>\n",
       "    <tr style=\"text-align: right;\">\n",
       "      <th></th>\n",
       "      <th>total_transaction</th>\n",
       "      <th>total_unit</th>\n",
       "      <th>total_price</th>\n",
       "    </tr>\n",
       "    <tr>\n",
       "      <th>Customer ID</th>\n",
       "      <th></th>\n",
       "      <th></th>\n",
       "      <th></th>\n",
       "    </tr>\n",
       "  </thead>\n",
       "  <tbody>\n",
       "    <tr>\n",
       "      <th>12346.00000</th>\n",
       "      <td>33</td>\n",
       "      <td>70</td>\n",
       "      <td>372.86000</td>\n",
       "    </tr>\n",
       "    <tr>\n",
       "      <th>12347.00000</th>\n",
       "      <td>71</td>\n",
       "      <td>828</td>\n",
       "      <td>1323.32000</td>\n",
       "    </tr>\n",
       "    <tr>\n",
       "      <th>12348.00000</th>\n",
       "      <td>20</td>\n",
       "      <td>373</td>\n",
       "      <td>222.16000</td>\n",
       "    </tr>\n",
       "    <tr>\n",
       "      <th>12349.00000</th>\n",
       "      <td>102</td>\n",
       "      <td>993</td>\n",
       "      <td>2671.14000</td>\n",
       "    </tr>\n",
       "    <tr>\n",
       "      <th>12351.00000</th>\n",
       "      <td>21</td>\n",
       "      <td>261</td>\n",
       "      <td>300.93000</td>\n",
       "    </tr>\n",
       "  </tbody>\n",
       "</table>\n",
       "</div>"
      ],
      "text/plain": [
       "             total_transaction  total_unit  total_price\n",
       "Customer ID                                            \n",
       "12346.00000                 33          70    372.86000\n",
       "12347.00000                 71         828   1323.32000\n",
       "12348.00000                 20         373    222.16000\n",
       "12349.00000                102         993   2671.14000\n",
       "12351.00000                 21         261    300.93000"
      ]
     },
     "execution_count": 11,
     "metadata": {},
     "output_type": "execute_result"
    }
   ],
   "source": [
    "# Veriyi müşteri özeline çevirmemiz gerekli\n",
    "# her bir müşteri kaç kez alışveriş yaptı, ne kadar miktarda ürün aldı  ve ne kadar para bıraktı\n",
    "cltv_df = df.groupby(\"Customer ID\").agg({\"Invoice\": lambda x:len(x),\n",
    "                                         \"Quantity\": lambda x: x.sum(),\n",
    "                                         \"TotalPrice\": lambda x : x.sum()})\n",
    "\n",
    "cltv_df.columns = ['total_transaction', 'total_unit', 'total_price']\n",
    "cltv_df.head()"
   ]
  },
  {
   "cell_type": "code",
   "execution_count": 12,
   "metadata": {},
   "outputs": [
    {
     "data": {
      "text/html": [
       "<div>\n",
       "<style scoped>\n",
       "    .dataframe tbody tr th:only-of-type {\n",
       "        vertical-align: middle;\n",
       "    }\n",
       "\n",
       "    .dataframe tbody tr th {\n",
       "        vertical-align: top;\n",
       "    }\n",
       "\n",
       "    .dataframe thead th {\n",
       "        text-align: right;\n",
       "    }\n",
       "</style>\n",
       "<table border=\"1\" class=\"dataframe\">\n",
       "  <thead>\n",
       "    <tr style=\"text-align: right;\">\n",
       "      <th></th>\n",
       "      <th>total_transaction</th>\n",
       "      <th>total_unit</th>\n",
       "      <th>total_price</th>\n",
       "    </tr>\n",
       "    <tr>\n",
       "      <th>Customer ID</th>\n",
       "      <th></th>\n",
       "      <th></th>\n",
       "      <th></th>\n",
       "    </tr>\n",
       "  </thead>\n",
       "  <tbody>\n",
       "    <tr>\n",
       "      <th>14827.00000</th>\n",
       "      <td>1</td>\n",
       "      <td>5</td>\n",
       "      <td>0.00000</td>\n",
       "    </tr>\n",
       "    <tr>\n",
       "      <th>14103.00000</th>\n",
       "      <td>1</td>\n",
       "      <td>5</td>\n",
       "      <td>0.00000</td>\n",
       "    </tr>\n",
       "    <tr>\n",
       "      <th>14095.00000</th>\n",
       "      <td>1</td>\n",
       "      <td>1</td>\n",
       "      <td>2.95000</td>\n",
       "    </tr>\n",
       "    <tr>\n",
       "      <th>13788.00000</th>\n",
       "      <td>1</td>\n",
       "      <td>1</td>\n",
       "      <td>3.75000</td>\n",
       "    </tr>\n",
       "    <tr>\n",
       "      <th>15913.00000</th>\n",
       "      <td>1</td>\n",
       "      <td>3</td>\n",
       "      <td>6.30000</td>\n",
       "    </tr>\n",
       "    <tr>\n",
       "      <th>...</th>\n",
       "      <td>...</td>\n",
       "      <td>...</td>\n",
       "      <td>...</td>\n",
       "    </tr>\n",
       "    <tr>\n",
       "      <th>13694.00000</th>\n",
       "      <td>957</td>\n",
       "      <td>125893</td>\n",
       "      <td>131443.19000</td>\n",
       "    </tr>\n",
       "    <tr>\n",
       "      <th>14911.00000</th>\n",
       "      <td>5570</td>\n",
       "      <td>69722</td>\n",
       "      <td>152147.57000</td>\n",
       "    </tr>\n",
       "    <tr>\n",
       "      <th>14156.00000</th>\n",
       "      <td>2648</td>\n",
       "      <td>108107</td>\n",
       "      <td>196566.74000</td>\n",
       "    </tr>\n",
       "    <tr>\n",
       "      <th>14646.00000</th>\n",
       "      <td>1774</td>\n",
       "      <td>170342</td>\n",
       "      <td>248396.50000</td>\n",
       "    </tr>\n",
       "    <tr>\n",
       "      <th>18102.00000</th>\n",
       "      <td>627</td>\n",
       "      <td>124216</td>\n",
       "      <td>349164.35000</td>\n",
       "    </tr>\n",
       "  </tbody>\n",
       "</table>\n",
       "<p>4314 rows × 3 columns</p>\n",
       "</div>"
      ],
      "text/plain": [
       "             total_transaction  total_unit  total_price\n",
       "Customer ID                                            \n",
       "14827.00000                  1           5      0.00000\n",
       "14103.00000                  1           5      0.00000\n",
       "14095.00000                  1           1      2.95000\n",
       "13788.00000                  1           1      3.75000\n",
       "15913.00000                  1           3      6.30000\n",
       "...                        ...         ...          ...\n",
       "13694.00000                957      125893 131443.19000\n",
       "14911.00000               5570       69722 152147.57000\n",
       "14156.00000               2648      108107 196566.74000\n",
       "14646.00000               1774      170342 248396.50000\n",
       "18102.00000                627      124216 349164.35000\n",
       "\n",
       "[4314 rows x 3 columns]"
      ]
     },
     "execution_count": 12,
     "metadata": {},
     "output_type": "execute_result"
    }
   ],
   "source": [
    "cltv_df.sort_values(\"total_price\")"
   ]
  },
  {
   "cell_type": "code",
   "execution_count": 13,
   "metadata": {},
   "outputs": [
    {
     "data": {
      "image/png": "[encoded data removed]",
      "text/plain": [
       "<Figure size 1080x360 with 3 Axes>"
      ]
     },
     "metadata": {
      "needs_background": "light"
     },
     "output_type": "display_data"
    }
   ],
   "source": [
    "fig,ax=plt.subplots(1,3, figsize=(15,5))\n",
    "ax[0].boxplot(cltv_df[\"total_transaction\"]);\n",
    "ax[1].boxplot(cltv_df[\"total_unit\"]);\n",
    "ax[2].boxplot(cltv_df[\"total_price\"]);"
   ]
  },
  {
   "cell_type": "code",
   "execution_count": 14,
   "metadata": {},
   "outputs": [
    {
     "data": {
      "text/plain": [
       "<seaborn.axisgrid.FacetGrid at 0x1ce34810ee0>"
      ]
     },
     "execution_count": 14,
     "metadata": {},
     "output_type": "execute_result"
    },
    {
     "data": {
      "image/png": "[encoded data removed]",
      "text/plain": [
       "<Figure size 360x360 with 1 Axes>"
      ]
     },
     "metadata": {
      "needs_background": "light"
     },
     "output_type": "display_data"
    }
   ],
   "source": [
    "sns.relplot(\"total_transaction\", \"total_price\", data =cltv_df)"
   ]
  },
  {
   "cell_type": "markdown",
   "metadata": {},
   "source": [
    "## CLTV Hesaplama\n"
   ]
  },
  {
   "cell_type": "code",
   "execution_count": 15,
   "metadata": {},
   "outputs": [],
   "source": [
    "# Ortalama sipariş değeri: Toplam ödediği miktarın toplam yaptığı alışverişe oranı=alışveriş başına ortalama bırakılan para\n",
    "cltv_df['avg_order_value'] = cltv_df[\"total_price\"]/cltv_df[\"total_transaction\"]\n",
    "\n",
    "# Bir müşterinin sipariş sayısının toplam müşteri sayısına oranı alışveriş sıklığını vermektedir.\n",
    "cltv_df[\"purchase_frequency\"] = cltv_df[\"total_transaction\"]/cltv_df.shape[0]\n"
   ]
  },
  {
   "cell_type": "code",
   "execution_count": 16,
   "metadata": {},
   "outputs": [],
   "source": [
    "# Repeat rate: Toplam alışverişi sayısı birden fazla olan müşterilerin oranıı\n",
    "repeat_rate = cltv_df[cltv_df[\"total_transaction\"]>1].shape[0]/cltv_df.shape[0]\n",
    "\n",
    "# Curn rate: sadece bir kez alışveriş yapmış müşterilerin oranını vermektedir. Daolayısı ile 1-repeat_rate \n",
    "churn_rate = 1-repeat_rate\n"
   ]
  },
  {
   "cell_type": "code",
   "execution_count": 17,
   "metadata": {},
   "outputs": [],
   "source": [
    "# Kar marjı: bir müşterinin toplam bıraktığı paranın belli bir yüzdesidir. Bu yüzde firma politikalarına göre değişebilir\n",
    "cltv_df[\"profit_margin\"] = cltv_df[\"total_price\"]*0.05\n"
   ]
  },
  {
   "cell_type": "code",
   "execution_count": 18,
   "metadata": {},
   "outputs": [],
   "source": [
    "# Customer Value: Müşteirnin sipariş başına ortalama bıraktığı para ile satış sıklığı değerlerinin çarpılması\n",
    "cltv_df[\"CV\"] = cltv_df[\"avg_order_value\"]*cltv_df[\"purchase_frequency\"]\n"
   ]
  },
  {
   "cell_type": "code",
   "execution_count": 19,
   "metadata": {},
   "outputs": [],
   "source": [
    "# Customer LT Value: Müşteir değeri ile profit marjinlerinin çarpılıp, müşteri kayıp oranına bölünmesi\n",
    "cltv_df[\"CLTV\"] = (cltv_df[\"CV\"]/churn_rate)*cltv_df[\"profit_margin\"]\n"
   ]
  },
  {
   "cell_type": "code",
   "execution_count": 20,
   "metadata": {},
   "outputs": [
    {
     "data": {
      "text/plain": [
       "94.50509967547521"
      ]
     },
     "execution_count": 20,
     "metadata": {},
     "output_type": "execute_result"
    }
   ],
   "source": [
    "cltv_df[\"purchase_frequency\"].sum()"
   ]
  },
  {
   "cell_type": "code",
   "execution_count": 21,
   "metadata": {},
   "outputs": [
    {
     "data": {
      "text/html": [
       "<div>\n",
       "<style scoped>\n",
       "    .dataframe tbody tr th:only-of-type {\n",
       "        vertical-align: middle;\n",
       "    }\n",
       "\n",
       "    .dataframe tbody tr th {\n",
       "        vertical-align: top;\n",
       "    }\n",
       "\n",
       "    .dataframe thead th {\n",
       "        text-align: right;\n",
       "    }\n",
       "</style>\n",
       "<table border=\"1\" class=\"dataframe\">\n",
       "  <thead>\n",
       "    <tr style=\"text-align: right;\">\n",
       "      <th></th>\n",
       "      <th>total_transaction</th>\n",
       "      <th>total_unit</th>\n",
       "      <th>total_price</th>\n",
       "      <th>avg_order_value</th>\n",
       "      <th>purchase_frequency</th>\n",
       "      <th>profit_margin</th>\n",
       "      <th>CV</th>\n",
       "      <th>CLTV</th>\n",
       "    </tr>\n",
       "    <tr>\n",
       "      <th>Customer ID</th>\n",
       "      <th></th>\n",
       "      <th></th>\n",
       "      <th></th>\n",
       "      <th></th>\n",
       "      <th></th>\n",
       "      <th></th>\n",
       "      <th></th>\n",
       "      <th></th>\n",
       "    </tr>\n",
       "  </thead>\n",
       "  <tbody>\n",
       "    <tr>\n",
       "      <th>12346.00000</th>\n",
       "      <td>33</td>\n",
       "      <td>70</td>\n",
       "      <td>372.86000</td>\n",
       "      <td>11.29879</td>\n",
       "      <td>0.00765</td>\n",
       "      <td>18.64300</td>\n",
       "      <td>0.08643</td>\n",
       "      <td>74.74440</td>\n",
       "    </tr>\n",
       "    <tr>\n",
       "      <th>12347.00000</th>\n",
       "      <td>71</td>\n",
       "      <td>828</td>\n",
       "      <td>1323.32000</td>\n",
       "      <td>18.63831</td>\n",
       "      <td>0.01646</td>\n",
       "      <td>66.16600</td>\n",
       "      <td>0.30675</td>\n",
       "      <td>941.49238</td>\n",
       "    </tr>\n",
       "    <tr>\n",
       "      <th>12348.00000</th>\n",
       "      <td>20</td>\n",
       "      <td>373</td>\n",
       "      <td>222.16000</td>\n",
       "      <td>11.10800</td>\n",
       "      <td>0.00464</td>\n",
       "      <td>11.10800</td>\n",
       "      <td>0.05150</td>\n",
       "      <td>26.53498</td>\n",
       "    </tr>\n",
       "    <tr>\n",
       "      <th>12349.00000</th>\n",
       "      <td>102</td>\n",
       "      <td>993</td>\n",
       "      <td>2671.14000</td>\n",
       "      <td>26.18765</td>\n",
       "      <td>0.02364</td>\n",
       "      <td>133.55700</td>\n",
       "      <td>0.61918</td>\n",
       "      <td>3836.01554</td>\n",
       "    </tr>\n",
       "    <tr>\n",
       "      <th>12351.00000</th>\n",
       "      <td>21</td>\n",
       "      <td>261</td>\n",
       "      <td>300.93000</td>\n",
       "      <td>14.33000</td>\n",
       "      <td>0.00487</td>\n",
       "      <td>15.04650</td>\n",
       "      <td>0.06976</td>\n",
       "      <td>48.68756</td>\n",
       "    </tr>\n",
       "    <tr>\n",
       "      <th>...</th>\n",
       "      <td>...</td>\n",
       "      <td>...</td>\n",
       "      <td>...</td>\n",
       "      <td>...</td>\n",
       "      <td>...</td>\n",
       "      <td>...</td>\n",
       "      <td>...</td>\n",
       "      <td>...</td>\n",
       "    </tr>\n",
       "    <tr>\n",
       "      <th>18283.00000</th>\n",
       "      <td>230</td>\n",
       "      <td>336</td>\n",
       "      <td>641.77000</td>\n",
       "      <td>2.79030</td>\n",
       "      <td>0.05331</td>\n",
       "      <td>32.08850</td>\n",
       "      <td>0.14876</td>\n",
       "      <td>221.43480</td>\n",
       "    </tr>\n",
       "    <tr>\n",
       "      <th>18284.00000</th>\n",
       "      <td>28</td>\n",
       "      <td>494</td>\n",
       "      <td>461.68000</td>\n",
       "      <td>16.48857</td>\n",
       "      <td>0.00649</td>\n",
       "      <td>23.08400</td>\n",
       "      <td>0.10702</td>\n",
       "      <td>114.59593</td>\n",
       "    </tr>\n",
       "    <tr>\n",
       "      <th>18285.00000</th>\n",
       "      <td>12</td>\n",
       "      <td>145</td>\n",
       "      <td>427.00000</td>\n",
       "      <td>35.58333</td>\n",
       "      <td>0.00278</td>\n",
       "      <td>21.35000</td>\n",
       "      <td>0.09898</td>\n",
       "      <td>98.02634</td>\n",
       "    </tr>\n",
       "    <tr>\n",
       "      <th>18286.00000</th>\n",
       "      <td>67</td>\n",
       "      <td>608</td>\n",
       "      <td>1296.43000</td>\n",
       "      <td>19.34970</td>\n",
       "      <td>0.01553</td>\n",
       "      <td>64.82150</td>\n",
       "      <td>0.30052</td>\n",
       "      <td>903.61868</td>\n",
       "    </tr>\n",
       "    <tr>\n",
       "      <th>18287.00000</th>\n",
       "      <td>85</td>\n",
       "      <td>1427</td>\n",
       "      <td>2345.71000</td>\n",
       "      <td>27.59659</td>\n",
       "      <td>0.01970</td>\n",
       "      <td>117.28550</td>\n",
       "      <td>0.54374</td>\n",
       "      <td>2958.25559</td>\n",
       "    </tr>\n",
       "  </tbody>\n",
       "</table>\n",
       "<p>4314 rows × 8 columns</p>\n",
       "</div>"
      ],
      "text/plain": [
       "             total_transaction  total_unit  total_price  avg_order_value  \\\n",
       "Customer ID                                                                \n",
       "12346.00000                 33          70    372.86000         11.29879   \n",
       "12347.00000                 71         828   1323.32000         18.63831   \n",
       "12348.00000                 20         373    222.16000         11.10800   \n",
       "12349.00000                102         993   2671.14000         26.18765   \n",
       "12351.00000                 21         261    300.93000         14.33000   \n",
       "...                        ...         ...          ...              ...   \n",
       "18283.00000                230         336    641.77000          2.79030   \n",
       "18284.00000                 28         494    461.68000         16.48857   \n",
       "18285.00000                 12         145    427.00000         35.58333   \n",
       "18286.00000                 67         608   1296.43000         19.34970   \n",
       "18287.00000                 85        1427   2345.71000         27.59659   \n",
       "\n",
       "             purchase_frequency  profit_margin      CV       CLTV  \n",
       "Customer ID                                                        \n",
       "12346.00000             0.00765       18.64300 0.08643   74.74440  \n",
       "12347.00000             0.01646       66.16600 0.30675  941.49238  \n",
       "12348.00000             0.00464       11.10800 0.05150   26.53498  \n",
       "12349.00000             0.02364      133.55700 0.61918 3836.01554  \n",
       "12351.00000             0.00487       15.04650 0.06976   48.68756  \n",
       "...                         ...            ...     ...        ...  \n",
       "18283.00000             0.05331       32.08850 0.14876  221.43480  \n",
       "18284.00000             0.00649       23.08400 0.10702  114.59593  \n",
       "18285.00000             0.00278       21.35000 0.09898   98.02634  \n",
       "18286.00000             0.01553       64.82150 0.30052  903.61868  \n",
       "18287.00000             0.01970      117.28550 0.54374 2958.25559  \n",
       "\n",
       "[4314 rows x 8 columns]"
      ]
     },
     "execution_count": 21,
     "metadata": {},
     "output_type": "execute_result"
    }
   ],
   "source": [
    "cltv_df"
   ]
  },
  {
   "cell_type": "code",
   "execution_count": 22,
   "metadata": {},
   "outputs": [
    {
     "data": {
      "text/plain": [
       "<AxesSubplot:>"
      ]
     },
     "execution_count": 22,
     "metadata": {},
     "output_type": "execute_result"
    },
    {
     "data": {
      "image/png": "[encoded data removed]",
      "text/plain": [
       "<Figure size 432x288 with 1 Axes>"
      ]
     },
     "metadata": {
      "needs_background": "light"
     },
     "output_type": "display_data"
    }
   ],
   "source": [
    "cltv_df[\"avg_order_value\"].hist()"
   ]
  },
  {
   "cell_type": "code",
   "execution_count": null,
   "metadata": {},
   "outputs": [],
   "source": []
  },
  {
   "cell_type": "markdown",
   "metadata": {},
   "source": [
    "## Ölçeklendirme ve Segmentasyon\n",
    "\n",
    "* **Hesaplanan CLTV değerlerini  daha sağlıklı yorumlanabilmes için ölçeklendirme yapıyoruz. 1-100 arasına ölçekledireceğiz**\n",
    "* **Müşteirle hesaplanan CLTV değerlerine göre segmentlere ayrıp gruplamaya çalışacağım**"
   ]
  },
  {
   "cell_type": "code",
   "execution_count": 23,
   "metadata": {},
   "outputs": [],
   "source": [
    "# minimum değere 1 ve maksimum değere 100 olacak şekilde ölçeklendirme yapılıyor\n",
    "scaler = MinMaxScaler(feature_range=(1, 100))\n",
    "scaler.fit(cltv_df[[\"CLTV\"]])\n",
    "cltv_df[\"SCALED_CLTV\"] = scaler.transform(cltv_df[[\"CLTV\"]])\n"
   ]
  },
  {
   "cell_type": "code",
   "execution_count": 24,
   "metadata": {},
   "outputs": [
    {
     "data": {
      "text/plain": [
       "<AxesSubplot:>"
      ]
     },
     "execution_count": 24,
     "metadata": {},
     "output_type": "execute_result"
    },
    {
     "data": {
      "image/png": "[encoded data removed]",
      "text/plain": [
       "<Figure size 432x288 with 1 Axes>"
      ]
     },
     "metadata": {
      "needs_background": "light"
     },
     "output_type": "display_data"
    }
   ],
   "source": [
    "cltv_df[\"SCALED_CLTV\"].hist()"
   ]
  },
  {
   "cell_type": "code",
   "execution_count": 25,
   "metadata": {},
   "outputs": [
    {
     "data": {
      "text/plain": [
       "<AxesSubplot:ylabel='SCALED_CLTV'>"
      ]
     },
     "execution_count": 25,
     "metadata": {},
     "output_type": "execute_result"
    },
    {
     "data": {
      "image/png": "[encoded data removed]",
      "text/plain": [
       "<Figure size 432x288 with 1 Axes>"
      ]
     },
     "metadata": {
      "needs_background": "light"
     },
     "output_type": "display_data"
    }
   ],
   "source": [
    "sns.boxplot(y =cltv_df[\"SCALED_CLTV\"])"
   ]
  },
  {
   "cell_type": "code",
   "execution_count": 26,
   "metadata": {},
   "outputs": [
    {
     "data": {
      "text/plain": [
       "1.067891140071159"
      ]
     },
     "execution_count": 26,
     "metadata": {},
     "output_type": "execute_result"
    }
   ],
   "source": [
    "cltv_df[\"SCALED_CLTV\"].mean()"
   ]
  },
  {
   "cell_type": "code",
   "execution_count": null,
   "metadata": {},
   "outputs": [],
   "source": []
  },
  {
   "cell_type": "markdown",
   "metadata": {},
   "source": [
    "* **1 ile 100 arasına ölçeklendirdik.1' de aşırı bir toplanma var, ve genel duruma göre oldukça aykırılık söz konusu, Tabi ki de bu aykırılık olumsuz anlam taşumamaktadır**"
   ]
  },
  {
   "cell_type": "code",
   "execution_count": 49,
   "metadata": {},
   "outputs": [
    {
     "data": {
      "text/plain": [
       "count   4314.00000\n",
       "mean       1.06789\n",
       "std        1.80088\n",
       "min        1.00000\n",
       "25%        1.00008\n",
       "50%        1.00040\n",
       "75%        1.00241\n",
       "max      100.00000\n",
       "Name: SCALED_CLTV, dtype: float64"
      ]
     },
     "execution_count": 49,
     "metadata": {},
     "output_type": "execute_result"
    }
   ],
   "source": [
    "cltv_df[\"SCALED_CLTV\"].describe()"
   ]
  },
  {
   "cell_type": "code",
   "execution_count": 54,
   "metadata": {},
   "outputs": [],
   "source": [
    "# Müşteirle CLTV değeri aralıklarına göre anlamlı şekilde gruplara ayrılması\n",
    "cltv_df[\"Segment\"] = pd.cut(cltv_df[\"SCALED_CLTV\"],bins=[0.99,1.0009,1.05,100] , labels=[ \"C\", \"B\", \"A\"])"
   ]
  },
  {
   "cell_type": "code",
   "execution_count": 55,
   "metadata": {},
   "outputs": [
    {
     "data": {
      "text/plain": [
       "<AxesSubplot:xlabel='Segment', ylabel='count'>"
      ]
     },
     "execution_count": 55,
     "metadata": {},
     "output_type": "execute_result"
    },
    {
     "data": {
      "image/png": "[encoded data removed]",
      "text/plain": [
       "<Figure size 432x288 with 1 Axes>"
      ]
     },
     "metadata": {
      "needs_background": "light"
     },
     "output_type": "display_data"
    }
   ],
   "source": [
    "sns.countplot(cltv_df[\"Segment\"])"
   ]
  },
  {
   "cell_type": "code",
   "execution_count": 56,
   "metadata": {},
   "outputs": [
    {
     "data": {
      "text/plain": [
       "C    2655\n",
       "B    1515\n",
       "A     144\n",
       "Name: Segment, dtype: int64"
      ]
     },
     "execution_count": 56,
     "metadata": {},
     "output_type": "execute_result"
    }
   ],
   "source": [
    "cltv_df[\"Segment\"].value_counts()"
   ]
  },
  {
   "cell_type": "code",
   "execution_count": 57,
   "metadata": {},
   "outputs": [
    {
     "data": {
      "text/plain": [
       "<AxesSubplot:xlabel='Segment', ylabel='SCALED_CLTV'>"
      ]
     },
     "execution_count": 57,
     "metadata": {},
     "output_type": "execute_result"
    },
    {
     "data": {
      "image/png": "[encoded data removed]",
      "text/plain": [
       "<Figure size 432x288 with 1 Axes>"
      ]
     },
     "metadata": {
      "needs_background": "light"
     },
     "output_type": "display_data"
    }
   ],
   "source": [
    "sns.boxplot(cltv_df[\"Segment\"], cltv_df[\"SCALED_CLTV\"])"
   ]
  },
  {
   "cell_type": "code",
   "execution_count": 59,
   "metadata": {},
   "outputs": [
    {
     "data": {
      "text/html": [
       "<div>\n",
       "<style scoped>\n",
       "    .dataframe tbody tr th:only-of-type {\n",
       "        vertical-align: middle;\n",
       "    }\n",
       "\n",
       "    .dataframe tbody tr th {\n",
       "        vertical-align: top;\n",
       "    }\n",
       "\n",
       "    .dataframe thead th {\n",
       "        text-align: right;\n",
       "    }\n",
       "</style>\n",
       "<table border=\"1\" class=\"dataframe\">\n",
       "  <thead>\n",
       "    <tr style=\"text-align: right;\">\n",
       "      <th></th>\n",
       "      <th>total_transaction</th>\n",
       "      <th>total_unit</th>\n",
       "      <th>total_price</th>\n",
       "      <th>avg_order_value</th>\n",
       "      <th>purchase_frequency</th>\n",
       "      <th>profit_margin</th>\n",
       "      <th>CV</th>\n",
       "      <th>CLTV</th>\n",
       "      <th>SCALED_CLTV</th>\n",
       "      <th>Segment</th>\n",
       "    </tr>\n",
       "    <tr>\n",
       "      <th>Customer ID</th>\n",
       "      <th></th>\n",
       "      <th></th>\n",
       "      <th></th>\n",
       "      <th></th>\n",
       "      <th></th>\n",
       "      <th></th>\n",
       "      <th></th>\n",
       "      <th></th>\n",
       "      <th></th>\n",
       "      <th></th>\n",
       "    </tr>\n",
       "  </thead>\n",
       "  <tbody>\n",
       "    <tr>\n",
       "      <th>14827.00000</th>\n",
       "      <td>1</td>\n",
       "      <td>5</td>\n",
       "      <td>0.00000</td>\n",
       "      <td>0.00000</td>\n",
       "      <td>0.00023</td>\n",
       "      <td>0.00000</td>\n",
       "      <td>0.00000</td>\n",
       "      <td>0.00000</td>\n",
       "      <td>1.00000</td>\n",
       "      <td>C</td>\n",
       "    </tr>\n",
       "    <tr>\n",
       "      <th>14103.00000</th>\n",
       "      <td>1</td>\n",
       "      <td>5</td>\n",
       "      <td>0.00000</td>\n",
       "      <td>0.00000</td>\n",
       "      <td>0.00023</td>\n",
       "      <td>0.00000</td>\n",
       "      <td>0.00000</td>\n",
       "      <td>0.00000</td>\n",
       "      <td>1.00000</td>\n",
       "      <td>C</td>\n",
       "    </tr>\n",
       "    <tr>\n",
       "      <th>14095.00000</th>\n",
       "      <td>1</td>\n",
       "      <td>1</td>\n",
       "      <td>2.95000</td>\n",
       "      <td>2.95000</td>\n",
       "      <td>0.00023</td>\n",
       "      <td>0.14750</td>\n",
       "      <td>0.00068</td>\n",
       "      <td>0.00468</td>\n",
       "      <td>1.00000</td>\n",
       "      <td>C</td>\n",
       "    </tr>\n",
       "    <tr>\n",
       "      <th>13788.00000</th>\n",
       "      <td>1</td>\n",
       "      <td>1</td>\n",
       "      <td>3.75000</td>\n",
       "      <td>3.75000</td>\n",
       "      <td>0.00023</td>\n",
       "      <td>0.18750</td>\n",
       "      <td>0.00087</td>\n",
       "      <td>0.00756</td>\n",
       "      <td>1.00000</td>\n",
       "      <td>C</td>\n",
       "    </tr>\n",
       "    <tr>\n",
       "      <th>15913.00000</th>\n",
       "      <td>1</td>\n",
       "      <td>3</td>\n",
       "      <td>6.30000</td>\n",
       "      <td>6.30000</td>\n",
       "      <td>0.00023</td>\n",
       "      <td>0.31500</td>\n",
       "      <td>0.00146</td>\n",
       "      <td>0.02134</td>\n",
       "      <td>1.00000</td>\n",
       "      <td>C</td>\n",
       "    </tr>\n",
       "    <tr>\n",
       "      <th>...</th>\n",
       "      <td>...</td>\n",
       "      <td>...</td>\n",
       "      <td>...</td>\n",
       "      <td>...</td>\n",
       "      <td>...</td>\n",
       "      <td>...</td>\n",
       "      <td>...</td>\n",
       "      <td>...</td>\n",
       "      <td>...</td>\n",
       "      <td>...</td>\n",
       "    </tr>\n",
       "    <tr>\n",
       "      <th>13694.00000</th>\n",
       "      <td>957</td>\n",
       "      <td>125893</td>\n",
       "      <td>131443.19000</td>\n",
       "      <td>137.34921</td>\n",
       "      <td>0.22184</td>\n",
       "      <td>6572.15950</td>\n",
       "      <td>30.46898</td>\n",
       "      <td>9288877.52547</td>\n",
       "      <td>15.02980</td>\n",
       "      <td>A</td>\n",
       "    </tr>\n",
       "    <tr>\n",
       "      <th>14911.00000</th>\n",
       "      <td>5570</td>\n",
       "      <td>69722</td>\n",
       "      <td>152147.57000</td>\n",
       "      <td>27.31554</td>\n",
       "      <td>1.29115</td>\n",
       "      <td>7607.37850</td>\n",
       "      <td>35.26833</td>\n",
       "      <td>12445636.05210</td>\n",
       "      <td>19.79773</td>\n",
       "      <td>A</td>\n",
       "    </tr>\n",
       "    <tr>\n",
       "      <th>14156.00000</th>\n",
       "      <td>2648</td>\n",
       "      <td>108107</td>\n",
       "      <td>196566.74000</td>\n",
       "      <td>74.23215</td>\n",
       "      <td>0.61382</td>\n",
       "      <td>9828.33700</td>\n",
       "      <td>45.56484</td>\n",
       "      <td>20773378.10442</td>\n",
       "      <td>32.37585</td>\n",
       "      <td>A</td>\n",
       "    </tr>\n",
       "    <tr>\n",
       "      <th>14646.00000</th>\n",
       "      <td>1774</td>\n",
       "      <td>170342</td>\n",
       "      <td>248396.50000</td>\n",
       "      <td>140.02057</td>\n",
       "      <td>0.41122</td>\n",
       "      <td>12419.82500</td>\n",
       "      <td>57.57916</td>\n",
       "      <td>33172484.52272</td>\n",
       "      <td>51.10330</td>\n",
       "      <td>A</td>\n",
       "    </tr>\n",
       "    <tr>\n",
       "      <th>18102.00000</th>\n",
       "      <td>627</td>\n",
       "      <td>124216</td>\n",
       "      <td>349164.35000</td>\n",
       "      <td>556.88094</td>\n",
       "      <td>0.14534</td>\n",
       "      <td>17458.21750</td>\n",
       "      <td>80.93749</td>\n",
       "      <td>65546098.55426</td>\n",
       "      <td>100.00000</td>\n",
       "      <td>A</td>\n",
       "    </tr>\n",
       "  </tbody>\n",
       "</table>\n",
       "<p>4314 rows × 10 columns</p>\n",
       "</div>"
      ],
      "text/plain": [
       "             total_transaction  total_unit  total_price  avg_order_value  \\\n",
       "Customer ID                                                                \n",
       "14827.00000                  1           5      0.00000          0.00000   \n",
       "14103.00000                  1           5      0.00000          0.00000   \n",
       "14095.00000                  1           1      2.95000          2.95000   \n",
       "13788.00000                  1           1      3.75000          3.75000   \n",
       "15913.00000                  1           3      6.30000          6.30000   \n",
       "...                        ...         ...          ...              ...   \n",
       "13694.00000                957      125893 131443.19000        137.34921   \n",
       "14911.00000               5570       69722 152147.57000         27.31554   \n",
       "14156.00000               2648      108107 196566.74000         74.23215   \n",
       "14646.00000               1774      170342 248396.50000        140.02057   \n",
       "18102.00000                627      124216 349164.35000        556.88094   \n",
       "\n",
       "             purchase_frequency  profit_margin       CV           CLTV  \\\n",
       "Customer ID                                                              \n",
       "14827.00000             0.00023        0.00000  0.00000        0.00000   \n",
       "14103.00000             0.00023        0.00000  0.00000        0.00000   \n",
       "14095.00000             0.00023        0.14750  0.00068        0.00468   \n",
       "13788.00000             0.00023        0.18750  0.00087        0.00756   \n",
       "15913.00000             0.00023        0.31500  0.00146        0.02134   \n",
       "...                         ...            ...      ...            ...   \n",
       "13694.00000             0.22184     6572.15950 30.46898  9288877.52547   \n",
       "14911.00000             1.29115     7607.37850 35.26833 12445636.05210   \n",
       "14156.00000             0.61382     9828.33700 45.56484 20773378.10442   \n",
       "14646.00000             0.41122    12419.82500 57.57916 33172484.52272   \n",
       "18102.00000             0.14534    17458.21750 80.93749 65546098.55426   \n",
       "\n",
       "             SCALED_CLTV Segment  \n",
       "Customer ID                       \n",
       "14827.00000      1.00000       C  \n",
       "14103.00000      1.00000       C  \n",
       "14095.00000      1.00000       C  \n",
       "13788.00000      1.00000       C  \n",
       "15913.00000      1.00000       C  \n",
       "...                  ...     ...  \n",
       "13694.00000     15.02980       A  \n",
       "14911.00000     19.79773       A  \n",
       "14156.00000     32.37585       A  \n",
       "14646.00000     51.10330       A  \n",
       "18102.00000    100.00000       A  \n",
       "\n",
       "[4314 rows x 10 columns]"
      ]
     },
     "execution_count": 59,
     "metadata": {},
     "output_type": "execute_result"
    }
   ],
   "source": [
    "cltv_df.sort_values(\"SCALED_CLTV\")"
   ]
  },
  {
   "cell_type": "code",
   "execution_count": 60,
   "metadata": {},
   "outputs": [
    {
     "data": {
      "text/plain": [
       "<AxesSubplot:xlabel='Segment', ylabel='SCALED_CLTV'>"
      ]
     },
     "execution_count": 60,
     "metadata": {},
     "output_type": "execute_result"
    },
    {
     "data": {
      "image/png": "[encoded data removed]",
      "text/plain": [
       "<Figure size 432x288 with 1 Axes>"
      ]
     },
     "metadata": {
      "needs_background": "light"
     },
     "output_type": "display_data"
    }
   ],
   "source": [
    "# Segmenlerin Ortalaması\n",
    "sns.pointplot(x=cltv_df[\"Segment\"], y=cltv_df[\"SCALED_CLTV\"])"
   ]
  },
  {
   "cell_type": "code",
   "execution_count": null,
   "metadata": {},
   "outputs": [],
   "source": []
  }
 ],
 "metadata": {
  "kernelspec": {
   "display_name": "Python 3",
   "language": "python",
   "name": "python3"
  },
  "language_info": {
   "codemirror_mode": {
    "name": "ipython",
    "version": 3
   },
   "file_extension": ".py",
   "mimetype": "text/x-python",
   "name": "python",
   "nbconvert_exporter": "python",
   "pygments_lexer": "ipython3",
   "version": "3.8.5"
  }
 },
 "nbformat": 4,
 "nbformat_minor": 4
}
