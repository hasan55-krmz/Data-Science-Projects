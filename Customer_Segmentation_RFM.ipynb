{
 "cells": [
  {
   "cell_type": "markdown",
   "metadata": {},
   "source": [
    "# RFM Analizi-MÜŞTERİ SEGMENTASYONU\n",
    "\n",
    "#### **RFM nedir?**\n",
    "\n",
    "* *Recency, Frequency, Monetary* kelimelerinin baş harflerinden oluşup, bu üç metriğin hesaplanmasından sonra birleştirilmesiyle meydana gelen bir skordur. Müşterilerin mevcut durumunun analiz edilip, bu skorlara göre segmentlere ayrılmasına yardımcı olur.\n",
    "\n",
    "* **Recency:** Müşterinin ne kadardır websitesinden/mağazadan hizmet aldığı, ne zamandır bize üye olduğu gibi bilgileri verir. Hesaplanması genellikle, bugünden son üyelik tarihi/son sipariş tarihinin çıkartılmasıyla elde edilir.\n",
    "\n",
    "* **Frequency:** Müşterinin ne sıklıkla alışveriş yaptığını, ne sıklıkla siteye giriş yaptığını gösteren metriktir. Genellikle sipariş numarası/sipariş kodunun saydırılmasıyla sonuç verir.\n",
    "\n",
    "* **Monetary:** Müşterinin harcamalarının toplamıdır. E-ticaret sitesine getirdiği ciro, aldığı hizmetler sonrası toplanan getiri olarak da tanımlanabilir. Ciro tanımı ne ise, müşteri bazında hayatı boyunca yapılan harcamalar toplanarak hesaplanır.*"
   ]
  },
  {
   "cell_type": "markdown",
   "metadata": {},
   "source": [
    "#### Bu Çalışmada da Online Retail veri seti üzeriden RFM metrikierinin heplanıp RFM analizi yapılacak ve Müşteirleri Segmentlere ayırmaya çalışacağım\n",
    "\n",
    "\n",
    "#### **Online retail** veir seti satış verilerini barıdndırmaktadır. Her bir gözlem ürün bazında bilgi içermektedir. Yani bir gözlem alınan bir ürünün hangi kişi tarafından  ve kişinin hangi alışverişi olduğunu ifade eden fatura numaraları ve tarihlerini vb. bilgileri  barındırmaktadır.\n",
    "\n",
    "* **Invoice:** Satılan ürünü içeren faturanın numarasını ifade etmektedir.\n",
    "* **StockCode:** Her bir ürünün numarasını ifade etmektedir.\n",
    "* **Description:** Ürünlerin Tanımı\n",
    "* **Quantity:** ilgili alınan ürünün ne kadar alındığını ifade eder\n",
    "* **InvoiceDate:** Ne zaman alındığını, fatura tarihini ifade eder\n",
    "* **UnitPrice:** İlgili alınan ürünün hangi fiyattan alındığını ifade eder\n",
    "* **CustomerID:** İlgili ürünü alan müşterinin numarasıdır (ID)\n",
    "* **Country:** İlgili ürünü alan müşterinin Ülkesi"
   ]
  },
  {
   "cell_type": "code",
   "execution_count": null,
   "metadata": {},
   "outputs": [],
   "source": []
  },
  {
   "cell_type": "markdown",
   "metadata": {},
   "source": [
    "## Kütüphaneler ve Veri Seti"
   ]
  },
  {
   "cell_type": "code",
   "execution_count": 527,
   "metadata": {},
   "outputs": [],
   "source": [
    "import matplotlib.image as mpimg \n",
    "import matplotlib.pyplot as plt \n",
    "import seaborn as sns\n",
    "import IPython.display as display\n",
    "from PIL import Image\n",
    "\n",
    "import time\n",
    "from datetime import date\n",
    "import datetime\n",
    "import pandas as pd\n",
    "pd.set_option('display.max_columns', None)\n",
    "# pd.set_option('display.max_rows', None)\n",
    "# pd.set_option('display.float_format', lambda x: '%.5f' % x)\n",
    "\n",
    "# Uyarlıarı göz ardı et\n",
    "import warnings\n",
    "warnings.filterwarnings(\"ignore\")"
   ]
  },
  {
   "cell_type": "code",
   "execution_count": 7,
   "metadata": {},
   "outputs": [],
   "source": [
    "# Veri Setini Okuma\n",
    "df_ = pd.read_excel(\"online_retail_II.xlsx\",\n",
    "                    sheet_name=\"Year 2009-2010\")\n",
    "\n",
    "df = df_.copy()"
   ]
  },
  {
   "cell_type": "code",
   "execution_count": 452,
   "metadata": {},
   "outputs": [],
   "source": [
    "df = df_.copy()"
   ]
  },
  {
   "cell_type": "code",
   "execution_count": 453,
   "metadata": {},
   "outputs": [],
   "source": [
    "# Veri Setini Çalışmaya uygun duruma getirmek için Bazı değelerden kurtarıyorum\n",
    "\n",
    "# Faturanın başında C olanlar iadeyi ifade ediyor. Bunların atılması gerekli\n",
    "df=df[~df[\"Invoice\"].str.contains(\"C\",na=False)] # Invooicenin  başında C olanlar geri iadeyi ifaade ediyor dolayısı ile bunları veriden atarak anali devam edeceğim\n",
    "\n",
    "# Miktarı 0 olanlar aykırı bir durum. Bunların atılması gerekli ve Customer ID leri olmayan gözlelerin de atılması gerekli\n",
    "df=df[df[\"Quantity\"]>0]\n",
    "df.dropna(subset=[\"Customer ID\"],inplace=True)\n",
    "\n",
    "#"
   ]
  },
  {
   "cell_type": "code",
   "execution_count": 454,
   "metadata": {},
   "outputs": [
    {
     "data": {
      "text/plain": [
       "Invoice        0\n",
       "StockCode      0\n",
       "Description    0\n",
       "Quantity       0\n",
       "InvoiceDate    0\n",
       "Price          0\n",
       "Customer ID    0\n",
       "Country        0\n",
       "dtype: int64"
      ]
     },
     "execution_count": 454,
     "metadata": {},
     "output_type": "execute_result"
    }
   ],
   "source": [
    "df.isna().sum()"
   ]
  },
  {
   "cell_type": "code",
   "execution_count": 455,
   "metadata": {},
   "outputs": [
    {
     "data": {
      "text/html": [
       "<div>\n",
       "<style scoped>\n",
       "    .dataframe tbody tr th:only-of-type {\n",
       "        vertical-align: middle;\n",
       "    }\n",
       "\n",
       "    .dataframe tbody tr th {\n",
       "        vertical-align: top;\n",
       "    }\n",
       "\n",
       "    .dataframe thead th {\n",
       "        text-align: right;\n",
       "    }\n",
       "</style>\n",
       "<table border=\"1\" class=\"dataframe\">\n",
       "  <thead>\n",
       "    <tr style=\"text-align: right;\">\n",
       "      <th></th>\n",
       "      <th>Invoice</th>\n",
       "      <th>StockCode</th>\n",
       "      <th>Description</th>\n",
       "      <th>Quantity</th>\n",
       "      <th>InvoiceDate</th>\n",
       "      <th>Price</th>\n",
       "      <th>Customer ID</th>\n",
       "      <th>Country</th>\n",
       "    </tr>\n",
       "  </thead>\n",
       "  <tbody>\n",
       "    <tr>\n",
       "      <th>0</th>\n",
       "      <td>489434</td>\n",
       "      <td>85048</td>\n",
       "      <td>15CM CHRISTMAS GLASS BALL 20 LIGHTS</td>\n",
       "      <td>12</td>\n",
       "      <td>2009-12-01 07:45:00</td>\n",
       "      <td>6.95</td>\n",
       "      <td>13085.0</td>\n",
       "      <td>United Kingdom</td>\n",
       "    </tr>\n",
       "    <tr>\n",
       "      <th>1</th>\n",
       "      <td>489434</td>\n",
       "      <td>79323P</td>\n",
       "      <td>PINK CHERRY LIGHTS</td>\n",
       "      <td>12</td>\n",
       "      <td>2009-12-01 07:45:00</td>\n",
       "      <td>6.75</td>\n",
       "      <td>13085.0</td>\n",
       "      <td>United Kingdom</td>\n",
       "    </tr>\n",
       "    <tr>\n",
       "      <th>2</th>\n",
       "      <td>489434</td>\n",
       "      <td>79323W</td>\n",
       "      <td>WHITE CHERRY LIGHTS</td>\n",
       "      <td>12</td>\n",
       "      <td>2009-12-01 07:45:00</td>\n",
       "      <td>6.75</td>\n",
       "      <td>13085.0</td>\n",
       "      <td>United Kingdom</td>\n",
       "    </tr>\n",
       "    <tr>\n",
       "      <th>3</th>\n",
       "      <td>489434</td>\n",
       "      <td>22041</td>\n",
       "      <td>RECORD FRAME 7\" SINGLE SIZE</td>\n",
       "      <td>48</td>\n",
       "      <td>2009-12-01 07:45:00</td>\n",
       "      <td>2.10</td>\n",
       "      <td>13085.0</td>\n",
       "      <td>United Kingdom</td>\n",
       "    </tr>\n",
       "    <tr>\n",
       "      <th>4</th>\n",
       "      <td>489434</td>\n",
       "      <td>21232</td>\n",
       "      <td>STRAWBERRY CERAMIC TRINKET BOX</td>\n",
       "      <td>24</td>\n",
       "      <td>2009-12-01 07:45:00</td>\n",
       "      <td>1.25</td>\n",
       "      <td>13085.0</td>\n",
       "      <td>United Kingdom</td>\n",
       "    </tr>\n",
       "  </tbody>\n",
       "</table>\n",
       "</div>"
      ],
      "text/plain": [
       "  Invoice StockCode                          Description  Quantity  \\\n",
       "0  489434     85048  15CM CHRISTMAS GLASS BALL 20 LIGHTS        12   \n",
       "1  489434    79323P                   PINK CHERRY LIGHTS        12   \n",
       "2  489434    79323W                  WHITE CHERRY LIGHTS        12   \n",
       "3  489434     22041         RECORD FRAME 7\" SINGLE SIZE         48   \n",
       "4  489434     21232       STRAWBERRY CERAMIC TRINKET BOX        24   \n",
       "\n",
       "          InvoiceDate  Price  Customer ID         Country  \n",
       "0 2009-12-01 07:45:00   6.95      13085.0  United Kingdom  \n",
       "1 2009-12-01 07:45:00   6.75      13085.0  United Kingdom  \n",
       "2 2009-12-01 07:45:00   6.75      13085.0  United Kingdom  \n",
       "3 2009-12-01 07:45:00   2.10      13085.0  United Kingdom  \n",
       "4 2009-12-01 07:45:00   1.25      13085.0  United Kingdom  "
      ]
     },
     "execution_count": 455,
     "metadata": {},
     "output_type": "execute_result"
    }
   ],
   "source": [
    "df.head()"
   ]
  },
  {
   "cell_type": "code",
   "execution_count": 456,
   "metadata": {},
   "outputs": [
    {
     "data": {
      "text/plain": [
       "(407695, 8)"
      ]
     },
     "execution_count": 456,
     "metadata": {},
     "output_type": "execute_result"
    }
   ],
   "source": [
    "df.shape"
   ]
  },
  {
   "cell_type": "markdown",
   "metadata": {},
   "source": [
    "### Veriyi inceleme"
   ]
  },
  {
   "cell_type": "code",
   "execution_count": 457,
   "metadata": {},
   "outputs": [
    {
     "data": {
      "text/plain": [
       "4017"
      ]
     },
     "execution_count": 457,
     "metadata": {},
     "output_type": "execute_result"
    }
   ],
   "source": [
    "# Eşsiz Ürün sayısı\n",
    "df[\"StockCode\"].nunique()"
   ]
  },
  {
   "cell_type": "code",
   "execution_count": 458,
   "metadata": {},
   "outputs": [
    {
     "data": {
      "text/plain": [
       "85123A    3153\n",
       "85099B    1742\n",
       "22423     1706\n",
       "21212     1586\n",
       "21232     1407\n",
       "          ... \n",
       "35915A       1\n",
       "47569        1\n",
       "47556        1\n",
       "47554        1\n",
       "90187A       1\n",
       "Name: StockCode, Length: 4017, dtype: int64"
      ]
     },
     "execution_count": 458,
     "metadata": {},
     "output_type": "execute_result"
    }
   ],
   "source": [
    "# Her bir üründen kaçartane satılmış\n",
    "df[\"StockCode\"].value_counts().sort_values(ascending=False)"
   ]
  },
  {
   "cell_type": "code",
   "execution_count": 711,
   "metadata": {},
   "outputs": [
    {
     "data": {
      "text/plain": [
       "4314"
      ]
     },
     "execution_count": 711,
     "metadata": {},
     "output_type": "execute_result"
    }
   ],
   "source": [
    "# Eşsiz Müşteri Sayısı\n",
    "df[\"Customer ID\"].nunique()"
   ]
  },
  {
   "cell_type": "markdown",
   "metadata": {},
   "source": [
    "#### Müşterilere Göre inceleme"
   ]
  },
  {
   "cell_type": "code",
   "execution_count": 738,
   "metadata": {},
   "outputs": [
    {
     "data": {
      "text/html": [
       "<div>\n",
       "<style scoped>\n",
       "    .dataframe tbody tr th:only-of-type {\n",
       "        vertical-align: middle;\n",
       "    }\n",
       "\n",
       "    .dataframe tbody tr th {\n",
       "        vertical-align: top;\n",
       "    }\n",
       "\n",
       "    .dataframe thead th {\n",
       "        text-align: right;\n",
       "    }\n",
       "</style>\n",
       "<table border=\"1\" class=\"dataframe\">\n",
       "  <thead>\n",
       "    <tr style=\"text-align: right;\">\n",
       "      <th></th>\n",
       "      <th>Invoice</th>\n",
       "      <th>StockCode</th>\n",
       "      <th>Quantity</th>\n",
       "    </tr>\n",
       "    <tr>\n",
       "      <th>Customer ID</th>\n",
       "      <th></th>\n",
       "      <th></th>\n",
       "      <th></th>\n",
       "    </tr>\n",
       "  </thead>\n",
       "  <tbody>\n",
       "    <tr>\n",
       "      <th>14911.0</th>\n",
       "      <td>205</td>\n",
       "      <td>1741</td>\n",
       "      <td>69722</td>\n",
       "    </tr>\n",
       "    <tr>\n",
       "      <th>17850.0</th>\n",
       "      <td>155</td>\n",
       "      <td>100</td>\n",
       "      <td>21052</td>\n",
       "    </tr>\n",
       "    <tr>\n",
       "      <th>12748.0</th>\n",
       "      <td>144</td>\n",
       "      <td>1343</td>\n",
       "      <td>13362</td>\n",
       "    </tr>\n",
       "    <tr>\n",
       "      <th>15311.0</th>\n",
       "      <td>121</td>\n",
       "      <td>594</td>\n",
       "      <td>32816</td>\n",
       "    </tr>\n",
       "    <tr>\n",
       "      <th>13089.0</th>\n",
       "      <td>109</td>\n",
       "      <td>474</td>\n",
       "      <td>29164</td>\n",
       "    </tr>\n",
       "    <tr>\n",
       "      <th>...</th>\n",
       "      <td>...</td>\n",
       "      <td>...</td>\n",
       "      <td>...</td>\n",
       "    </tr>\n",
       "    <tr>\n",
       "      <th>13500.0</th>\n",
       "      <td>1</td>\n",
       "      <td>20</td>\n",
       "      <td>229</td>\n",
       "    </tr>\n",
       "    <tr>\n",
       "      <th>16100.0</th>\n",
       "      <td>1</td>\n",
       "      <td>37</td>\n",
       "      <td>438</td>\n",
       "    </tr>\n",
       "    <tr>\n",
       "      <th>16095.0</th>\n",
       "      <td>1</td>\n",
       "      <td>30</td>\n",
       "      <td>265</td>\n",
       "    </tr>\n",
       "    <tr>\n",
       "      <th>13508.0</th>\n",
       "      <td>1</td>\n",
       "      <td>16</td>\n",
       "      <td>156</td>\n",
       "    </tr>\n",
       "    <tr>\n",
       "      <th>13370.0</th>\n",
       "      <td>1</td>\n",
       "      <td>39</td>\n",
       "      <td>343</td>\n",
       "    </tr>\n",
       "  </tbody>\n",
       "</table>\n",
       "<p>4314 rows × 3 columns</p>\n",
       "</div>"
      ],
      "text/plain": [
       "             Invoice  StockCode  Quantity\n",
       "Customer ID                              \n",
       "14911.0          205       1741     69722\n",
       "17850.0          155        100     21052\n",
       "12748.0          144       1343     13362\n",
       "15311.0          121        594     32816\n",
       "13089.0          109        474     29164\n",
       "...              ...        ...       ...\n",
       "13500.0            1         20       229\n",
       "16100.0            1         37       438\n",
       "16095.0            1         30       265\n",
       "13508.0            1         16       156\n",
       "13370.0            1         39       343\n",
       "\n",
       "[4314 rows x 3 columns]"
      ]
     },
     "execution_count": 738,
     "metadata": {},
     "output_type": "execute_result"
    }
   ],
   "source": [
    "# Müşterilerin yaptıkları alışveriş sayısı, aldıkları ürün çeşidi sayısı ve  toplam ürün adedi miktarı\n",
    "df.groupby([\"Customer ID\"]).agg({\"Invoice\":\"nunique\",\"StockCode\":\"nunique\",\"Quantity\":\"sum\"}).sort_values(\"Invoice\",ascending=False)"
   ]
  },
  {
   "cell_type": "code",
   "execution_count": 722,
   "metadata": {},
   "outputs": [
    {
     "data": {
      "text/plain": [
       "19215"
      ]
     },
     "execution_count": 722,
     "metadata": {},
     "output_type": "execute_result"
    }
   ],
   "source": [
    "# toplamda gerçekleşen alışveriş sayısı\n",
    "df[\"Invoice\"].nunique()"
   ]
  },
  {
   "cell_type": "code",
   "execution_count": 723,
   "metadata": {},
   "outputs": [
    {
     "data": {
      "text/plain": [
       "StockCode\n",
       "21212      57570\n",
       "85123A     56915\n",
       "84077      54754\n",
       "85099B     48802\n",
       "17003      48166\n",
       "           ...  \n",
       "21772          1\n",
       "21767          1\n",
       "84814A         1\n",
       "84845A         1\n",
       "TEST002        1\n",
       "Name: Quantity, Length: 4017, dtype: int64"
      ]
     },
     "execution_count": 723,
     "metadata": {},
     "output_type": "execute_result"
    }
   ],
   "source": [
    "# Hangi Üründen toplamda kaç tane satıldı\n",
    "df.groupby(\"StockCode\")[\"Quantity\"].sum().sort_values(ascending=False)"
   ]
  },
  {
   "cell_type": "code",
   "execution_count": 724,
   "metadata": {},
   "outputs": [],
   "source": [
    "# Ürün başına toplam getirinin hesaplanması ve df'e kaydedilmesi\n",
    "df[\"TotalPrice\"] = df[\"Quantity\"]*df[\"Price\"]"
   ]
  },
  {
   "cell_type": "code",
   "execution_count": 726,
   "metadata": {},
   "outputs": [
    {
     "data": {
      "text/html": [
       "<div>\n",
       "<style scoped>\n",
       "    .dataframe tbody tr th:only-of-type {\n",
       "        vertical-align: middle;\n",
       "    }\n",
       "\n",
       "    .dataframe tbody tr th {\n",
       "        vertical-align: top;\n",
       "    }\n",
       "\n",
       "    .dataframe thead th {\n",
       "        text-align: right;\n",
       "    }\n",
       "</style>\n",
       "<table border=\"1\" class=\"dataframe\">\n",
       "  <thead>\n",
       "    <tr style=\"text-align: right;\">\n",
       "      <th></th>\n",
       "      <th>Invoice</th>\n",
       "      <th>StockCode</th>\n",
       "      <th>Description</th>\n",
       "      <th>Quantity</th>\n",
       "      <th>InvoiceDate</th>\n",
       "      <th>Price</th>\n",
       "      <th>Customer ID</th>\n",
       "      <th>Country</th>\n",
       "      <th>TotalPrice</th>\n",
       "      <th>InvoiceDate_DAY</th>\n",
       "      <th>InvoiceDate_Month</th>\n",
       "    </tr>\n",
       "  </thead>\n",
       "  <tbody>\n",
       "    <tr>\n",
       "      <th>0</th>\n",
       "      <td>489434</td>\n",
       "      <td>85048</td>\n",
       "      <td>15CM CHRISTMAS GLASS BALL 20 LIGHTS</td>\n",
       "      <td>12</td>\n",
       "      <td>2009-12-01 07:45:00</td>\n",
       "      <td>6.95</td>\n",
       "      <td>13085.0</td>\n",
       "      <td>United Kingdom</td>\n",
       "      <td>83.4</td>\n",
       "      <td>2009-12-01</td>\n",
       "      <td>2009-12</td>\n",
       "    </tr>\n",
       "    <tr>\n",
       "      <th>1</th>\n",
       "      <td>489434</td>\n",
       "      <td>79323P</td>\n",
       "      <td>PINK CHERRY LIGHTS</td>\n",
       "      <td>12</td>\n",
       "      <td>2009-12-01 07:45:00</td>\n",
       "      <td>6.75</td>\n",
       "      <td>13085.0</td>\n",
       "      <td>United Kingdom</td>\n",
       "      <td>81.0</td>\n",
       "      <td>2009-12-01</td>\n",
       "      <td>2009-12</td>\n",
       "    </tr>\n",
       "    <tr>\n",
       "      <th>2</th>\n",
       "      <td>489434</td>\n",
       "      <td>79323W</td>\n",
       "      <td>WHITE CHERRY LIGHTS</td>\n",
       "      <td>12</td>\n",
       "      <td>2009-12-01 07:45:00</td>\n",
       "      <td>6.75</td>\n",
       "      <td>13085.0</td>\n",
       "      <td>United Kingdom</td>\n",
       "      <td>81.0</td>\n",
       "      <td>2009-12-01</td>\n",
       "      <td>2009-12</td>\n",
       "    </tr>\n",
       "    <tr>\n",
       "      <th>3</th>\n",
       "      <td>489434</td>\n",
       "      <td>22041</td>\n",
       "      <td>RECORD FRAME 7\" SINGLE SIZE</td>\n",
       "      <td>48</td>\n",
       "      <td>2009-12-01 07:45:00</td>\n",
       "      <td>2.10</td>\n",
       "      <td>13085.0</td>\n",
       "      <td>United Kingdom</td>\n",
       "      <td>100.8</td>\n",
       "      <td>2009-12-01</td>\n",
       "      <td>2009-12</td>\n",
       "    </tr>\n",
       "    <tr>\n",
       "      <th>4</th>\n",
       "      <td>489434</td>\n",
       "      <td>21232</td>\n",
       "      <td>STRAWBERRY CERAMIC TRINKET BOX</td>\n",
       "      <td>24</td>\n",
       "      <td>2009-12-01 07:45:00</td>\n",
       "      <td>1.25</td>\n",
       "      <td>13085.0</td>\n",
       "      <td>United Kingdom</td>\n",
       "      <td>30.0</td>\n",
       "      <td>2009-12-01</td>\n",
       "      <td>2009-12</td>\n",
       "    </tr>\n",
       "  </tbody>\n",
       "</table>\n",
       "</div>"
      ],
      "text/plain": [
       "  Invoice StockCode                          Description  Quantity  \\\n",
       "0  489434     85048  15CM CHRISTMAS GLASS BALL 20 LIGHTS        12   \n",
       "1  489434    79323P                   PINK CHERRY LIGHTS        12   \n",
       "2  489434    79323W                  WHITE CHERRY LIGHTS        12   \n",
       "3  489434     22041         RECORD FRAME 7\" SINGLE SIZE         48   \n",
       "4  489434     21232       STRAWBERRY CERAMIC TRINKET BOX        24   \n",
       "\n",
       "          InvoiceDate  Price  Customer ID         Country  TotalPrice  \\\n",
       "0 2009-12-01 07:45:00   6.95      13085.0  United Kingdom        83.4   \n",
       "1 2009-12-01 07:45:00   6.75      13085.0  United Kingdom        81.0   \n",
       "2 2009-12-01 07:45:00   6.75      13085.0  United Kingdom        81.0   \n",
       "3 2009-12-01 07:45:00   2.10      13085.0  United Kingdom       100.8   \n",
       "4 2009-12-01 07:45:00   1.25      13085.0  United Kingdom        30.0   \n",
       "\n",
       "  InvoiceDate_DAY InvoiceDate_Month  \n",
       "0      2009-12-01           2009-12  \n",
       "1      2009-12-01           2009-12  \n",
       "2      2009-12-01           2009-12  \n",
       "3      2009-12-01           2009-12  \n",
       "4      2009-12-01           2009-12  "
      ]
     },
     "execution_count": 726,
     "metadata": {},
     "output_type": "execute_result"
    }
   ],
   "source": [
    "df.head()"
   ]
  },
  {
   "cell_type": "markdown",
   "metadata": {},
   "source": [
    "#### Ülkeler Göre inceleme"
   ]
  },
  {
   "cell_type": "code",
   "execution_count": 709,
   "metadata": {},
   "outputs": [
    {
     "data": {
      "text/html": [
       "<div>\n",
       "<style scoped>\n",
       "    .dataframe tbody tr th:only-of-type {\n",
       "        vertical-align: middle;\n",
       "    }\n",
       "\n",
       "    .dataframe tbody tr th {\n",
       "        vertical-align: top;\n",
       "    }\n",
       "\n",
       "    .dataframe thead th {\n",
       "        text-align: right;\n",
       "    }\n",
       "</style>\n",
       "<table border=\"1\" class=\"dataframe\">\n",
       "  <thead>\n",
       "    <tr style=\"text-align: right;\">\n",
       "      <th></th>\n",
       "      <th>Country</th>\n",
       "      <th>num_customer</th>\n",
       "      <th>num_Invoice</th>\n",
       "      <th>num_Product</th>\n",
       "      <th>tot_quantity</th>\n",
       "      <th>TotalPrice</th>\n",
       "      <th>Average_Price</th>\n",
       "    </tr>\n",
       "  </thead>\n",
       "  <tbody>\n",
       "    <tr>\n",
       "      <th>0</th>\n",
       "      <td>United Kingdom</td>\n",
       "      <td>3971</td>\n",
       "      <td>17614</td>\n",
       "      <td>4001</td>\n",
       "      <td>370951</td>\n",
       "      <td>7.414756e+06</td>\n",
       "      <td>19.988505</td>\n",
       "    </tr>\n",
       "    <tr>\n",
       "      <th>1</th>\n",
       "      <td>EIRE</td>\n",
       "      <td>5</td>\n",
       "      <td>316</td>\n",
       "      <td>1999</td>\n",
       "      <td>8507</td>\n",
       "      <td>3.560852e+05</td>\n",
       "      <td>41.857906</td>\n",
       "    </tr>\n",
       "    <tr>\n",
       "      <th>2</th>\n",
       "      <td>Netherlands</td>\n",
       "      <td>22</td>\n",
       "      <td>135</td>\n",
       "      <td>879</td>\n",
       "      <td>2730</td>\n",
       "      <td>2.687860e+05</td>\n",
       "      <td>98.456410</td>\n",
       "    </tr>\n",
       "    <tr>\n",
       "      <th>3</th>\n",
       "      <td>Germany</td>\n",
       "      <td>67</td>\n",
       "      <td>347</td>\n",
       "      <td>1457</td>\n",
       "      <td>7661</td>\n",
       "      <td>2.023953e+05</td>\n",
       "      <td>26.418917</td>\n",
       "    </tr>\n",
       "    <tr>\n",
       "      <th>4</th>\n",
       "      <td>France</td>\n",
       "      <td>47</td>\n",
       "      <td>236</td>\n",
       "      <td>1275</td>\n",
       "      <td>5470</td>\n",
       "      <td>1.462154e+05</td>\n",
       "      <td>26.730424</td>\n",
       "    </tr>\n",
       "  </tbody>\n",
       "</table>\n",
       "</div>"
      ],
      "text/plain": [
       "          Country  num_customer  num_Invoice  num_Product  tot_quantity  \\\n",
       "0  United Kingdom          3971        17614         4001        370951   \n",
       "1            EIRE             5          316         1999          8507   \n",
       "2     Netherlands            22          135          879          2730   \n",
       "3         Germany            67          347         1457          7661   \n",
       "4          France            47          236         1275          5470   \n",
       "\n",
       "     TotalPrice  Average_Price  \n",
       "0  7.414756e+06      19.988505  \n",
       "1  3.560852e+05      41.857906  \n",
       "2  2.687860e+05      98.456410  \n",
       "3  2.023953e+05      26.418917  \n",
       "4  1.462154e+05      26.730424  "
      ]
     },
     "execution_count": 709,
     "metadata": {},
     "output_type": "execute_result"
    }
   ],
   "source": [
    "# Ülkelerden yapılan alışveriş sayısı, alınan ürün sayısı, ve ortalama ve toplam bıraktıkları paralar\n",
    "country_df =df.groupby([\"Country\"]).agg({\"Customer ID\":\"nunique\",\"Invoice\":\"nunique\",\"StockCode\":\"nunique\",\"TotalPrice\":[\"count\",\"sum\",\"mean\"]}).sort_values((\"TotalPrice\",\"sum\"),ascending=False).reset_index().droplevel(level=1,axis =1)\n",
    "country_df.columns = ['Country',\"num_customer\", 'num_Invoice', 'num_Product','tot_quantity', 'TotalPrice', 'Average_Price']\n",
    "country_df.head()"
   ]
  },
  {
   "cell_type": "code",
   "execution_count": null,
   "metadata": {},
   "outputs": [],
   "source": []
  },
  {
   "cell_type": "code",
   "execution_count": 759,
   "metadata": {},
   "outputs": [
    {
     "data": {
      "image/png": "[encoded data removed]",
      "text/plain": [
       "<Figure size 540x216 with 1 Axes>"
      ]
     },
     "metadata": {
      "needs_background": "light"
     },
     "output_type": "display_data"
    },
    {
     "data": {
      "image/png": "[encoded data removed]",
      "text/plain": [
       "<Figure size 540x216 with 1 Axes>"
      ]
     },
     "metadata": {
      "needs_background": "light"
     },
     "output_type": "display_data"
    },
    {
     "data": {
      "image/png": "[encoded data removed]",
      "text/plain": [
       "<Figure size 540x216 with 1 Axes>"
      ]
     },
     "metadata": {
      "needs_background": "light"
     },
     "output_type": "display_data"
    },
    {
     "data": {
      "image/png": "[encoded data removed]",
      "text/plain": [
       "<Figure size 540x216 with 1 Axes>"
      ]
     },
     "metadata": {
      "needs_background": "light"
     },
     "output_type": "display_data"
    },
    {
     "data": {
      "image/png": "[encoded data removed]",
      "text/plain": [
       "<Figure size 540x216 with 1 Axes>"
      ]
     },
     "metadata": {
      "needs_background": "light"
     },
     "output_type": "display_data"
    }
   ],
   "source": [
    "# Ülkelere Göre Bazı değerlerin görseleştirilmesi\n",
    "\n",
    "# Toplam Müşteri \n",
    "sns.catplot(x=\"Country\", y=\"num_customer\",data=country_df,kind=\"point\",color=\"g\",height=3, aspect=2.5)\n",
    "plt.xticks(rotation=90);\n",
    "plt.show()\n",
    "# Fiyat ortalaması\n",
    "sns.catplot(x=\"Country\", y=\"TotalPrice\", data=df,kind=\"point\",color=\"r\",height=3, aspect=2.5)\n",
    "plt.xticks(rotation=90);\n",
    "plt.show()\n",
    "\n",
    "# Miktar ortalaması\n",
    "sns.catplot(x=\"Country\", y=\"Quantity\", data=df,kind=\"point\",color=\"r\",height=3, aspect=2.5)\n",
    "plt.xticks(rotation=90);            \n",
    "plt.show()\n",
    "\n",
    "# Alışveriş Sayısı\n",
    "sns.catplot(x=\"Country\", y=\"num_Invoice\",data=country_df,kind=\"point\",height=3, aspect=2.5)\n",
    "plt.xticks(rotation=90);\n",
    "plt.show()\n",
    "\n",
    "# Ürün çedşidi  Sayısı\n",
    "sns.catplot(x=\"Country\", y=\"num_Product\",data=country_df,kind=\"point\",height=3, aspect=2.5)\n",
    "plt.xticks(rotation=90);\n",
    "plt.show()"
   ]
  },
  {
   "cell_type": "code",
   "execution_count": null,
   "metadata": {},
   "outputs": [],
   "source": []
  },
  {
   "cell_type": "markdown",
   "metadata": {},
   "source": [
    "### Verinin Tarihe göre incelenmesi"
   ]
  },
  {
   "cell_type": "code",
   "execution_count": 577,
   "metadata": {},
   "outputs": [],
   "source": [
    "# Saatli olan tarihleri günlüğe çevirdim\n",
    "df[\"InvoiceDate_DAY\"]=df[\"InvoiceDate\"].apply(lambda x: datetime.date(x.year,x.month,x.day))\n",
    "df[\"InvoiceDate_DAY\"]= pd.to_datetime(df[\"InvoiceDate_DAY\"])\n",
    "# Aylık periyotlarıyakalama\n",
    "df[\"InvoiceDate_Month\"]=df[\"InvoiceDate\"].dt.to_period('M')\n",
    "date_mont_df[\"InvoiceDate_Month\"]=date_mont_df[\"InvoiceDate_Month\"].astype(\"str\")"
   ]
  },
  {
   "cell_type": "code",
   "execution_count": 744,
   "metadata": {},
   "outputs": [
    {
     "data": {
      "text/plain": [
       "307"
      ]
     },
     "execution_count": 744,
     "metadata": {},
     "output_type": "execute_result"
    }
   ],
   "source": [
    "# Kaç günlük veri var\n",
    "df[\"InvoiceDate_DAY\"].nunique()"
   ]
  },
  {
   "cell_type": "code",
   "execution_count": null,
   "metadata": {},
   "outputs": [],
   "source": []
  },
  {
   "cell_type": "code",
   "execution_count": 752,
   "metadata": {},
   "outputs": [
    {
     "data": {
      "text/html": [
       "<div>\n",
       "<style scoped>\n",
       "    .dataframe tbody tr th:only-of-type {\n",
       "        vertical-align: middle;\n",
       "    }\n",
       "\n",
       "    .dataframe tbody tr th {\n",
       "        vertical-align: top;\n",
       "    }\n",
       "\n",
       "    .dataframe thead th {\n",
       "        text-align: right;\n",
       "    }\n",
       "</style>\n",
       "<table border=\"1\" class=\"dataframe\">\n",
       "  <thead>\n",
       "    <tr style=\"text-align: right;\">\n",
       "      <th></th>\n",
       "      <th>InvoiceDate_DAY</th>\n",
       "      <th>Invoice</th>\n",
       "      <th>StockCode</th>\n",
       "      <th>Quantity</th>\n",
       "      <th>TotalPrice</th>\n",
       "    </tr>\n",
       "  </thead>\n",
       "  <tbody>\n",
       "    <tr>\n",
       "      <th>0</th>\n",
       "      <td>2009-12-01</td>\n",
       "      <td>98</td>\n",
       "      <td>1042</td>\n",
       "      <td>24437</td>\n",
       "      <td>44048.69</td>\n",
       "    </tr>\n",
       "    <tr>\n",
       "      <th>1</th>\n",
       "      <td>2009-12-02</td>\n",
       "      <td>110</td>\n",
       "      <td>1087</td>\n",
       "      <td>29783</td>\n",
       "      <td>52941.99</td>\n",
       "    </tr>\n",
       "    <tr>\n",
       "      <th>2</th>\n",
       "      <td>2009-12-03</td>\n",
       "      <td>122</td>\n",
       "      <td>1082</td>\n",
       "      <td>48033</td>\n",
       "      <td>67479.08</td>\n",
       "    </tr>\n",
       "    <tr>\n",
       "      <th>3</th>\n",
       "      <td>2009-12-04</td>\n",
       "      <td>80</td>\n",
       "      <td>1006</td>\n",
       "      <td>20069</td>\n",
       "      <td>34064.41</td>\n",
       "    </tr>\n",
       "    <tr>\n",
       "      <th>4</th>\n",
       "      <td>2009-12-05</td>\n",
       "      <td>30</td>\n",
       "      <td>285</td>\n",
       "      <td>5119</td>\n",
       "      <td>9803.05</td>\n",
       "    </tr>\n",
       "    <tr>\n",
       "      <th>...</th>\n",
       "      <td>...</td>\n",
       "      <td>...</td>\n",
       "      <td>...</td>\n",
       "      <td>...</td>\n",
       "      <td>...</td>\n",
       "    </tr>\n",
       "    <tr>\n",
       "      <th>302</th>\n",
       "      <td>2010-12-05</td>\n",
       "      <td>87</td>\n",
       "      <td>1142</td>\n",
       "      <td>16450</td>\n",
       "      <td>31771.60</td>\n",
       "    </tr>\n",
       "    <tr>\n",
       "      <th>303</th>\n",
       "      <td>2010-12-06</td>\n",
       "      <td>94</td>\n",
       "      <td>916</td>\n",
       "      <td>16291</td>\n",
       "      <td>31215.64</td>\n",
       "    </tr>\n",
       "    <tr>\n",
       "      <th>304</th>\n",
       "      <td>2010-12-07</td>\n",
       "      <td>71</td>\n",
       "      <td>630</td>\n",
       "      <td>19444</td>\n",
       "      <td>53795.31</td>\n",
       "    </tr>\n",
       "    <tr>\n",
       "      <th>305</th>\n",
       "      <td>2010-12-08</td>\n",
       "      <td>111</td>\n",
       "      <td>932</td>\n",
       "      <td>21573</td>\n",
       "      <td>39248.82</td>\n",
       "    </tr>\n",
       "    <tr>\n",
       "      <th>306</th>\n",
       "      <td>2010-12-09</td>\n",
       "      <td>98</td>\n",
       "      <td>886</td>\n",
       "      <td>17415</td>\n",
       "      <td>38231.90</td>\n",
       "    </tr>\n",
       "  </tbody>\n",
       "</table>\n",
       "<p>307 rows × 5 columns</p>\n",
       "</div>"
      ],
      "text/plain": [
       "    InvoiceDate_DAY  Invoice  StockCode  Quantity  TotalPrice\n",
       "0        2009-12-01       98       1042     24437    44048.69\n",
       "1        2009-12-02      110       1087     29783    52941.99\n",
       "2        2009-12-03      122       1082     48033    67479.08\n",
       "3        2009-12-04       80       1006     20069    34064.41\n",
       "4        2009-12-05       30        285      5119     9803.05\n",
       "..              ...      ...        ...       ...         ...\n",
       "302      2010-12-05       87       1142     16450    31771.60\n",
       "303      2010-12-06       94        916     16291    31215.64\n",
       "304      2010-12-07       71        630     19444    53795.31\n",
       "305      2010-12-08      111        932     21573    39248.82\n",
       "306      2010-12-09       98        886     17415    38231.90\n",
       "\n",
       "[307 rows x 5 columns]"
      ]
     },
     "execution_count": 752,
     "metadata": {},
     "output_type": "execute_result"
    }
   ],
   "source": [
    "# Veriyi Günlük olarak Çevirdim\n",
    "date_df=df.groupby(\"InvoiceDate_DAY\").agg({\"Invoice\":\"nunique\",\"StockCode\":\"nunique\" ,\"Quantity\":\"sum\",\"TotalPrice\":\"sum\"}).reset_index()\n",
    "date_df"
   ]
  },
  {
   "cell_type": "code",
   "execution_count": 605,
   "metadata": {},
   "outputs": [
    {
     "data": {
      "image/png": "[encoded data removed]",
      "text/plain": [
       "<Figure size 360x360 with 1 Axes>"
      ]
     },
     "metadata": {
      "needs_background": "light"
     },
     "output_type": "display_data"
    }
   ],
   "source": [
    "sns.relplot(x=\"InvoiceDate_DAY\", y= \"TotalPrice\", data = date_df)\n",
    "plt.xticks(rotation=90);                \n",
    "plt.show()"
   ]
  },
  {
   "cell_type": "code",
   "execution_count": 753,
   "metadata": {},
   "outputs": [
    {
     "data": {
      "text/html": [
       "<div>\n",
       "<style scoped>\n",
       "    .dataframe tbody tr th:only-of-type {\n",
       "        vertical-align: middle;\n",
       "    }\n",
       "\n",
       "    .dataframe tbody tr th {\n",
       "        vertical-align: top;\n",
       "    }\n",
       "\n",
       "    .dataframe thead th {\n",
       "        text-align: right;\n",
       "    }\n",
       "</style>\n",
       "<table border=\"1\" class=\"dataframe\">\n",
       "  <thead>\n",
       "    <tr style=\"text-align: right;\">\n",
       "      <th></th>\n",
       "      <th>InvoiceDate_Month</th>\n",
       "      <th>Invoice</th>\n",
       "      <th>StockCode</th>\n",
       "      <th>Quantity</th>\n",
       "      <th>TotalPrice</th>\n",
       "    </tr>\n",
       "  </thead>\n",
       "  <tbody>\n",
       "    <tr>\n",
       "      <th>0</th>\n",
       "      <td>2009-12</td>\n",
       "      <td>1512</td>\n",
       "      <td>2725</td>\n",
       "      <td>400201</td>\n",
       "      <td>686654.160</td>\n",
       "    </tr>\n",
       "    <tr>\n",
       "      <th>1</th>\n",
       "      <td>2010-01</td>\n",
       "      <td>1011</td>\n",
       "      <td>2368</td>\n",
       "      <td>370967</td>\n",
       "      <td>557319.062</td>\n",
       "    </tr>\n",
       "    <tr>\n",
       "      <th>2</th>\n",
       "      <td>2010-02</td>\n",
       "      <td>1106</td>\n",
       "      <td>2375</td>\n",
       "      <td>372771</td>\n",
       "      <td>506371.066</td>\n",
       "    </tr>\n",
       "    <tr>\n",
       "      <th>3</th>\n",
       "      <td>2010-03</td>\n",
       "      <td>1524</td>\n",
       "      <td>2668</td>\n",
       "      <td>503467</td>\n",
       "      <td>699608.991</td>\n",
       "    </tr>\n",
       "    <tr>\n",
       "      <th>4</th>\n",
       "      <td>2010-04</td>\n",
       "      <td>1329</td>\n",
       "      <td>2340</td>\n",
       "      <td>352042</td>\n",
       "      <td>594609.192</td>\n",
       "    </tr>\n",
       "    <tr>\n",
       "      <th>5</th>\n",
       "      <td>2010-05</td>\n",
       "      <td>1377</td>\n",
       "      <td>2377</td>\n",
       "      <td>386297</td>\n",
       "      <td>599985.790</td>\n",
       "    </tr>\n",
       "    <tr>\n",
       "      <th>6</th>\n",
       "      <td>2010-06</td>\n",
       "      <td>1497</td>\n",
       "      <td>2494</td>\n",
       "      <td>391682</td>\n",
       "      <td>639066.580</td>\n",
       "    </tr>\n",
       "    <tr>\n",
       "      <th>7</th>\n",
       "      <td>2010-07</td>\n",
       "      <td>1381</td>\n",
       "      <td>2391</td>\n",
       "      <td>325661</td>\n",
       "      <td>591636.740</td>\n",
       "    </tr>\n",
       "    <tr>\n",
       "      <th>8</th>\n",
       "      <td>2010-08</td>\n",
       "      <td>1293</td>\n",
       "      <td>2474</td>\n",
       "      <td>453590</td>\n",
       "      <td>604242.650</td>\n",
       "    </tr>\n",
       "    <tr>\n",
       "      <th>9</th>\n",
       "      <td>2010-09</td>\n",
       "      <td>1689</td>\n",
       "      <td>2526</td>\n",
       "      <td>569265</td>\n",
       "      <td>831615.001</td>\n",
       "    </tr>\n",
       "    <tr>\n",
       "      <th>10</th>\n",
       "      <td>2010-10</td>\n",
       "      <td>2133</td>\n",
       "      <td>2650</td>\n",
       "      <td>598588</td>\n",
       "      <td>1036680.000</td>\n",
       "    </tr>\n",
       "    <tr>\n",
       "      <th>11</th>\n",
       "      <td>2010-11</td>\n",
       "      <td>2587</td>\n",
       "      <td>2797</td>\n",
       "      <td>656324</td>\n",
       "      <td>1172336.042</td>\n",
       "    </tr>\n",
       "    <tr>\n",
       "      <th>12</th>\n",
       "      <td>2010-12</td>\n",
       "      <td>776</td>\n",
       "      <td>2000</td>\n",
       "      <td>158369</td>\n",
       "      <td>311878.000</td>\n",
       "    </tr>\n",
       "  </tbody>\n",
       "</table>\n",
       "</div>"
      ],
      "text/plain": [
       "   InvoiceDate_Month  Invoice  StockCode  Quantity   TotalPrice\n",
       "0            2009-12     1512       2725    400201   686654.160\n",
       "1            2010-01     1011       2368    370967   557319.062\n",
       "2            2010-02     1106       2375    372771   506371.066\n",
       "3            2010-03     1524       2668    503467   699608.991\n",
       "4            2010-04     1329       2340    352042   594609.192\n",
       "5            2010-05     1377       2377    386297   599985.790\n",
       "6            2010-06     1497       2494    391682   639066.580\n",
       "7            2010-07     1381       2391    325661   591636.740\n",
       "8            2010-08     1293       2474    453590   604242.650\n",
       "9            2010-09     1689       2526    569265   831615.001\n",
       "10           2010-10     2133       2650    598588  1036680.000\n",
       "11           2010-11     2587       2797    656324  1172336.042\n",
       "12           2010-12      776       2000    158369   311878.000"
      ]
     },
     "execution_count": 753,
     "metadata": {},
     "output_type": "execute_result"
    }
   ],
   "source": [
    "# Veiyi Aylık periyoda Çevirdim\n",
    "date_month_df=df.groupby(\"InvoiceDate_Month\").agg({\"Invoice\":\"nunique\",\"StockCode\":\"nunique\" ,\"Quantity\":\"sum\",\"TotalPrice\":\"sum\"}).reset_index()\n",
    "date_month_df"
   ]
  },
  {
   "cell_type": "code",
   "execution_count": 607,
   "metadata": {},
   "outputs": [
    {
     "data": {
      "image/png": "[encoded data removed]",
      "text/plain": [
       "<Figure size 360x360 with 1 Axes>"
      ]
     },
     "metadata": {
      "needs_background": "light"
     },
     "output_type": "display_data"
    }
   ],
   "source": [
    "# Aylık Toplam Ciro\n",
    "sns.relplot(x=date_mont_df[\"InvoiceDate_Month\"].astype(\"str\"), y= \"TotalPrice\", data = date_mont_df,kind=\"line\")\n",
    "plt.xticks(rotation=90);"
   ]
  },
  {
   "cell_type": "code",
   "execution_count": null,
   "metadata": {},
   "outputs": [],
   "source": []
  },
  {
   "cell_type": "code",
   "execution_count": null,
   "metadata": {},
   "outputs": [],
   "source": []
  },
  {
   "cell_type": "markdown",
   "metadata": {},
   "source": [
    "## RFM Metriklerinin Hesaplanması\n",
    "\n",
    "* **RFM Skoru 555 olanlar en iyi 111 olanlar ise en kötü skor olmaktadır. Buradaki her bir rakam Recency, Frequency ve Monetary metrikelrinden gelmektedir. Her bir Metrik 1-5 arasında skorlanmaktadır.**\n",
    "* **Recancy değeri yüksek olanara düşük skor 1, düşük olanlara yüksek skor 5 verilmektedir.**\n",
    "* **Monetary ve Frequancy değeleri yüksek olanara yüksek skor 5, düşük olanlara ise düşük skor 1 verilmektedir**\n",
    "\n",
    "* **3 Metrikten de gelen skorlar yanyana konarak Genel RFM skoru elde edilir.**\n",
    "\n",
    "* **Dolayısı ile bu skorlar birleştirilince  1 ile 5 arasondaki sayıların üçlü kombinasyonları elde edilmekte ve 111 ve 555 arasında genel skor gösterimleri oluşmaktadır**"
   ]
  },
  {
   "cell_type": "markdown",
   "metadata": {},
   "source": [
    "#### RFM dataframeini oluşturma"
   ]
  },
  {
   "cell_type": "code",
   "execution_count": 220,
   "metadata": {},
   "outputs": [],
   "source": [
    "# rfm adında boş dataframe luşturdum\n",
    "rfm = pd.DataFrame()\n",
    "# today date adında  en son alışverişten 2 gün sonrayı tuttum\n",
    "today_date =df[\"InvoiceDate\"].max()+timedelta(days=2) # \n",
    "# rfm dataframeni oluşturdum\n",
    "rfm[[\"Recency\", \"Frequency\", \"Monetary\"]]=df.groupby(\"Customer ID\").agg({\n",
    "                                                \"InvoiceDate\": lambda date: (today_date-date.max()).days,\n",
    "                                                 \"Invoice\": lambda num:len(num),\n",
    "                                                  \"TotalPrice\": lambda price: sum(price)})"
   ]
  },
  {
   "cell_type": "code",
   "execution_count": 221,
   "metadata": {},
   "outputs": [],
   "source": [
    "# Monetary değeri ya da Frequancy değeri 0 olan gözlemin olmaması gerekli. Bu sebeple 0 olanları çıkarıyorum\n",
    "rfm = rfm[(rfm[\"Monetary\"]) > 0 & (rfm[\"Frequency\"] > 0)]"
   ]
  },
  {
   "cell_type": "code",
   "execution_count": 222,
   "metadata": {},
   "outputs": [
    {
     "data": {
      "text/html": [
       "<div>\n",
       "<style scoped>\n",
       "    .dataframe tbody tr th:only-of-type {\n",
       "        vertical-align: middle;\n",
       "    }\n",
       "\n",
       "    .dataframe tbody tr th {\n",
       "        vertical-align: top;\n",
       "    }\n",
       "\n",
       "    .dataframe thead th {\n",
       "        text-align: right;\n",
       "    }\n",
       "</style>\n",
       "<table border=\"1\" class=\"dataframe\">\n",
       "  <thead>\n",
       "    <tr style=\"text-align: right;\">\n",
       "      <th></th>\n",
       "      <th>Recency</th>\n",
       "      <th>Frequency</th>\n",
       "      <th>Monetary</th>\n",
       "    </tr>\n",
       "    <tr>\n",
       "      <th>Customer ID</th>\n",
       "      <th></th>\n",
       "      <th></th>\n",
       "      <th></th>\n",
       "    </tr>\n",
       "  </thead>\n",
       "  <tbody>\n",
       "    <tr>\n",
       "      <th>12346.0</th>\n",
       "      <td>166</td>\n",
       "      <td>33</td>\n",
       "      <td>372.86</td>\n",
       "    </tr>\n",
       "    <tr>\n",
       "      <th>12347.0</th>\n",
       "      <td>4</td>\n",
       "      <td>71</td>\n",
       "      <td>1323.32</td>\n",
       "    </tr>\n",
       "    <tr>\n",
       "      <th>12348.0</th>\n",
       "      <td>75</td>\n",
       "      <td>20</td>\n",
       "      <td>222.16</td>\n",
       "    </tr>\n",
       "    <tr>\n",
       "      <th>12349.0</th>\n",
       "      <td>44</td>\n",
       "      <td>102</td>\n",
       "      <td>2671.14</td>\n",
       "    </tr>\n",
       "    <tr>\n",
       "      <th>12351.0</th>\n",
       "      <td>12</td>\n",
       "      <td>21</td>\n",
       "      <td>300.93</td>\n",
       "    </tr>\n",
       "  </tbody>\n",
       "</table>\n",
       "</div>"
      ],
      "text/plain": [
       "             Recency  Frequency  Monetary\n",
       "Customer ID                              \n",
       "12346.0          166         33    372.86\n",
       "12347.0            4         71   1323.32\n",
       "12348.0           75         20    222.16\n",
       "12349.0           44        102   2671.14\n",
       "12351.0           12         21    300.93"
      ]
     },
     "execution_count": 222,
     "metadata": {},
     "output_type": "execute_result"
    }
   ],
   "source": [
    "rfm.head()"
   ]
  },
  {
   "cell_type": "markdown",
   "metadata": {},
   "source": [
    "#### Hesaplanan RFM Metriklerini Skorlayalım"
   ]
  },
  {
   "cell_type": "code",
   "execution_count": 223,
   "metadata": {},
   "outputs": [],
   "source": [
    "# Recency Skor: En düşük olana en yüksek skor\n",
    "rfm[\"RecencyScore\"] = pd.qcut(rfm[\"Recency\"],5,labels=[5,4,3,2,1])"
   ]
  },
  {
   "cell_type": "code",
   "execution_count": 224,
   "metadata": {},
   "outputs": [],
   "source": [
    "# Frequency Skor: En büyük olanlara en yüksek skor\n",
    "rfm[\"FrequencyScore\"] = pd.qcut(rfm[\"Frequency\"],5,labels=[1,2,3,4,5])"
   ]
  },
  {
   "cell_type": "code",
   "execution_count": 225,
   "metadata": {},
   "outputs": [],
   "source": [
    "# Monetary Skor: Monetaryisi en yüksek olonlara en yüksek skor\n",
    "rfm[\"MonetaryScore\"] = pd.qcut(rfm[\"Monetary\"],5, labels=[1,2,3,4,5])"
   ]
  },
  {
   "cell_type": "code",
   "execution_count": 226,
   "metadata": {},
   "outputs": [
    {
     "data": {
      "text/html": [
       "<div>\n",
       "<style scoped>\n",
       "    .dataframe tbody tr th:only-of-type {\n",
       "        vertical-align: middle;\n",
       "    }\n",
       "\n",
       "    .dataframe tbody tr th {\n",
       "        vertical-align: top;\n",
       "    }\n",
       "\n",
       "    .dataframe thead th {\n",
       "        text-align: right;\n",
       "    }\n",
       "</style>\n",
       "<table border=\"1\" class=\"dataframe\">\n",
       "  <thead>\n",
       "    <tr style=\"text-align: right;\">\n",
       "      <th></th>\n",
       "      <th>Recency</th>\n",
       "      <th>Frequency</th>\n",
       "      <th>Monetary</th>\n",
       "      <th>RecencyScore</th>\n",
       "      <th>FrequencyScore</th>\n",
       "      <th>MonetaryScore</th>\n",
       "    </tr>\n",
       "    <tr>\n",
       "      <th>Customer ID</th>\n",
       "      <th></th>\n",
       "      <th></th>\n",
       "      <th></th>\n",
       "      <th></th>\n",
       "      <th></th>\n",
       "      <th></th>\n",
       "    </tr>\n",
       "  </thead>\n",
       "  <tbody>\n",
       "    <tr>\n",
       "      <th>12346.0</th>\n",
       "      <td>166</td>\n",
       "      <td>33</td>\n",
       "      <td>372.86</td>\n",
       "      <td>2</td>\n",
       "      <td>3</td>\n",
       "      <td>2</td>\n",
       "    </tr>\n",
       "    <tr>\n",
       "      <th>12347.0</th>\n",
       "      <td>4</td>\n",
       "      <td>71</td>\n",
       "      <td>1323.32</td>\n",
       "      <td>5</td>\n",
       "      <td>4</td>\n",
       "      <td>4</td>\n",
       "    </tr>\n",
       "    <tr>\n",
       "      <th>12348.0</th>\n",
       "      <td>75</td>\n",
       "      <td>20</td>\n",
       "      <td>222.16</td>\n",
       "      <td>2</td>\n",
       "      <td>2</td>\n",
       "      <td>1</td>\n",
       "    </tr>\n",
       "    <tr>\n",
       "      <th>12349.0</th>\n",
       "      <td>44</td>\n",
       "      <td>102</td>\n",
       "      <td>2671.14</td>\n",
       "      <td>3</td>\n",
       "      <td>4</td>\n",
       "      <td>5</td>\n",
       "    </tr>\n",
       "    <tr>\n",
       "      <th>12351.0</th>\n",
       "      <td>12</td>\n",
       "      <td>21</td>\n",
       "      <td>300.93</td>\n",
       "      <td>5</td>\n",
       "      <td>2</td>\n",
       "      <td>2</td>\n",
       "    </tr>\n",
       "  </tbody>\n",
       "</table>\n",
       "</div>"
      ],
      "text/plain": [
       "             Recency  Frequency  Monetary RecencyScore FrequencyScore  \\\n",
       "Customer ID                                                             \n",
       "12346.0          166         33    372.86            2              3   \n",
       "12347.0            4         71   1323.32            5              4   \n",
       "12348.0           75         20    222.16            2              2   \n",
       "12349.0           44        102   2671.14            3              4   \n",
       "12351.0           12         21    300.93            5              2   \n",
       "\n",
       "            MonetaryScore  \n",
       "Customer ID                \n",
       "12346.0                 2  \n",
       "12347.0                 4  \n",
       "12348.0                 1  \n",
       "12349.0                 5  \n",
       "12351.0                 2  "
      ]
     },
     "execution_count": 226,
     "metadata": {},
     "output_type": "execute_result"
    }
   ],
   "source": [
    "rfm.head()"
   ]
  },
  {
   "cell_type": "code",
   "execution_count": 227,
   "metadata": {},
   "outputs": [],
   "source": [
    "# RFM Skorlarının birleştirilerek Skor gösteriminin elde edilmesi\n",
    "\n",
    "rfm[\"RFM_SCORE\"] = (rfm['RecencyScore'].astype(str) +\n",
    "                    rfm['FrequencyScore'].astype(str) +\n",
    "                    rfm['MonetaryScore'].astype(str))"
   ]
  },
  {
   "cell_type": "code",
   "execution_count": 228,
   "metadata": {},
   "outputs": [
    {
     "data": {
      "text/html": [
       "<div>\n",
       "<style scoped>\n",
       "    .dataframe tbody tr th:only-of-type {\n",
       "        vertical-align: middle;\n",
       "    }\n",
       "\n",
       "    .dataframe tbody tr th {\n",
       "        vertical-align: top;\n",
       "    }\n",
       "\n",
       "    .dataframe thead th {\n",
       "        text-align: right;\n",
       "    }\n",
       "</style>\n",
       "<table border=\"1\" class=\"dataframe\">\n",
       "  <thead>\n",
       "    <tr style=\"text-align: right;\">\n",
       "      <th></th>\n",
       "      <th>Recency</th>\n",
       "      <th>Frequency</th>\n",
       "      <th>Monetary</th>\n",
       "      <th>RecencyScore</th>\n",
       "      <th>FrequencyScore</th>\n",
       "      <th>MonetaryScore</th>\n",
       "      <th>RFM_SCORE</th>\n",
       "    </tr>\n",
       "    <tr>\n",
       "      <th>Customer ID</th>\n",
       "      <th></th>\n",
       "      <th></th>\n",
       "      <th></th>\n",
       "      <th></th>\n",
       "      <th></th>\n",
       "      <th></th>\n",
       "      <th></th>\n",
       "    </tr>\n",
       "  </thead>\n",
       "  <tbody>\n",
       "    <tr>\n",
       "      <th>12346.0</th>\n",
       "      <td>166</td>\n",
       "      <td>33</td>\n",
       "      <td>372.86</td>\n",
       "      <td>2</td>\n",
       "      <td>3</td>\n",
       "      <td>2</td>\n",
       "      <td>232</td>\n",
       "    </tr>\n",
       "    <tr>\n",
       "      <th>12347.0</th>\n",
       "      <td>4</td>\n",
       "      <td>71</td>\n",
       "      <td>1323.32</td>\n",
       "      <td>5</td>\n",
       "      <td>4</td>\n",
       "      <td>4</td>\n",
       "      <td>544</td>\n",
       "    </tr>\n",
       "    <tr>\n",
       "      <th>12348.0</th>\n",
       "      <td>75</td>\n",
       "      <td>20</td>\n",
       "      <td>222.16</td>\n",
       "      <td>2</td>\n",
       "      <td>2</td>\n",
       "      <td>1</td>\n",
       "      <td>221</td>\n",
       "    </tr>\n",
       "    <tr>\n",
       "      <th>12349.0</th>\n",
       "      <td>44</td>\n",
       "      <td>102</td>\n",
       "      <td>2671.14</td>\n",
       "      <td>3</td>\n",
       "      <td>4</td>\n",
       "      <td>5</td>\n",
       "      <td>345</td>\n",
       "    </tr>\n",
       "    <tr>\n",
       "      <th>12351.0</th>\n",
       "      <td>12</td>\n",
       "      <td>21</td>\n",
       "      <td>300.93</td>\n",
       "      <td>5</td>\n",
       "      <td>2</td>\n",
       "      <td>2</td>\n",
       "      <td>522</td>\n",
       "    </tr>\n",
       "  </tbody>\n",
       "</table>\n",
       "</div>"
      ],
      "text/plain": [
       "             Recency  Frequency  Monetary RecencyScore FrequencyScore  \\\n",
       "Customer ID                                                             \n",
       "12346.0          166         33    372.86            2              3   \n",
       "12347.0            4         71   1323.32            5              4   \n",
       "12348.0           75         20    222.16            2              2   \n",
       "12349.0           44        102   2671.14            3              4   \n",
       "12351.0           12         21    300.93            5              2   \n",
       "\n",
       "            MonetaryScore RFM_SCORE  \n",
       "Customer ID                          \n",
       "12346.0                 2       232  \n",
       "12347.0                 4       544  \n",
       "12348.0                 1       221  \n",
       "12349.0                 5       345  \n",
       "12351.0                 2       522  "
      ]
     },
     "execution_count": 228,
     "metadata": {},
     "output_type": "execute_result"
    }
   ],
   "source": [
    "rfm.head()"
   ]
  },
  {
   "cell_type": "code",
   "execution_count": 242,
   "metadata": {},
   "outputs": [
    {
     "data": {
      "text/html": [
       "<div>\n",
       "<style scoped>\n",
       "    .dataframe tbody tr th:only-of-type {\n",
       "        vertical-align: middle;\n",
       "    }\n",
       "\n",
       "    .dataframe tbody tr th {\n",
       "        vertical-align: top;\n",
       "    }\n",
       "\n",
       "    .dataframe thead th {\n",
       "        text-align: right;\n",
       "    }\n",
       "</style>\n",
       "<table border=\"1\" class=\"dataframe\">\n",
       "  <thead>\n",
       "    <tr style=\"text-align: right;\">\n",
       "      <th></th>\n",
       "      <th>Customer ID</th>\n",
       "      <th>Recency</th>\n",
       "      <th>Frequency</th>\n",
       "      <th>Monetary</th>\n",
       "      <th>RecencyScore</th>\n",
       "      <th>FrequencyScore</th>\n",
       "      <th>MonetaryScore</th>\n",
       "      <th>RFM_SCORE</th>\n",
       "      <th>Segment</th>\n",
       "    </tr>\n",
       "  </thead>\n",
       "  <tbody>\n",
       "    <tr>\n",
       "      <th>50</th>\n",
       "      <td>12415.0</td>\n",
       "      <td>12</td>\n",
       "      <td>212</td>\n",
       "      <td>19543.84</td>\n",
       "      <td>5</td>\n",
       "      <td>5</td>\n",
       "      <td>5</td>\n",
       "      <td>555</td>\n",
       "      <td>Champions</td>\n",
       "    </tr>\n",
       "    <tr>\n",
       "      <th>63</th>\n",
       "      <td>12431.0</td>\n",
       "      <td>10</td>\n",
       "      <td>170</td>\n",
       "      <td>4370.52</td>\n",
       "      <td>5</td>\n",
       "      <td>5</td>\n",
       "      <td>5</td>\n",
       "      <td>555</td>\n",
       "      <td>Champions</td>\n",
       "    </tr>\n",
       "    <tr>\n",
       "      <th>64</th>\n",
       "      <td>12433.0</td>\n",
       "      <td>3</td>\n",
       "      <td>286</td>\n",
       "      <td>7205.39</td>\n",
       "      <td>5</td>\n",
       "      <td>5</td>\n",
       "      <td>5</td>\n",
       "      <td>555</td>\n",
       "      <td>Champions</td>\n",
       "    </tr>\n",
       "    <tr>\n",
       "      <th>87</th>\n",
       "      <td>12471.0</td>\n",
       "      <td>11</td>\n",
       "      <td>678</td>\n",
       "      <td>20139.74</td>\n",
       "      <td>5</td>\n",
       "      <td>5</td>\n",
       "      <td>5</td>\n",
       "      <td>555</td>\n",
       "      <td>Champions</td>\n",
       "    </tr>\n",
       "    <tr>\n",
       "      <th>88</th>\n",
       "      <td>12472.0</td>\n",
       "      <td>6</td>\n",
       "      <td>572</td>\n",
       "      <td>11308.48</td>\n",
       "      <td>5</td>\n",
       "      <td>5</td>\n",
       "      <td>5</td>\n",
       "      <td>555</td>\n",
       "      <td>Champions</td>\n",
       "    </tr>\n",
       "  </tbody>\n",
       "</table>\n",
       "</div>"
      ],
      "text/plain": [
       "    Customer ID  Recency  Frequency  Monetary RecencyScore FrequencyScore  \\\n",
       "50      12415.0       12        212  19543.84            5              5   \n",
       "63      12431.0       10        170   4370.52            5              5   \n",
       "64      12433.0        3        286   7205.39            5              5   \n",
       "87      12471.0       11        678  20139.74            5              5   \n",
       "88      12472.0        6        572  11308.48            5              5   \n",
       "\n",
       "   MonetaryScore RFM_SCORE    Segment  \n",
       "50             5       555  Champions  \n",
       "63             5       555  Champions  \n",
       "64             5       555  Champions  \n",
       "87             5       555  Champions  \n",
       "88             5       555  Champions  "
      ]
     },
     "execution_count": 242,
     "metadata": {},
     "output_type": "execute_result"
    }
   ],
   "source": [
    "# 3 metrikde de 5 5 5v skora dahip mmüşteriler\n",
    "rfm[rfm[\"RFM_SCORE\"] ==\"555\"].head()"
   ]
  },
  {
   "cell_type": "code",
   "execution_count": 243,
   "metadata": {},
   "outputs": [
    {
     "data": {
      "text/html": [
       "<div>\n",
       "<style scoped>\n",
       "    .dataframe tbody tr th:only-of-type {\n",
       "        vertical-align: middle;\n",
       "    }\n",
       "\n",
       "    .dataframe tbody tr th {\n",
       "        vertical-align: top;\n",
       "    }\n",
       "\n",
       "    .dataframe thead th {\n",
       "        text-align: right;\n",
       "    }\n",
       "</style>\n",
       "<table border=\"1\" class=\"dataframe\">\n",
       "  <thead>\n",
       "    <tr style=\"text-align: right;\">\n",
       "      <th></th>\n",
       "      <th>Customer ID</th>\n",
       "      <th>Recency</th>\n",
       "      <th>Frequency</th>\n",
       "      <th>Monetary</th>\n",
       "      <th>RecencyScore</th>\n",
       "      <th>FrequencyScore</th>\n",
       "      <th>MonetaryScore</th>\n",
       "      <th>RFM_SCORE</th>\n",
       "      <th>Segment</th>\n",
       "    </tr>\n",
       "  </thead>\n",
       "  <tbody>\n",
       "    <tr>\n",
       "      <th>14</th>\n",
       "      <td>12362.0</td>\n",
       "      <td>375</td>\n",
       "      <td>1</td>\n",
       "      <td>130.00</td>\n",
       "      <td>1</td>\n",
       "      <td>1</td>\n",
       "      <td>1</td>\n",
       "      <td>111</td>\n",
       "      <td>Hibernating</td>\n",
       "    </tr>\n",
       "    <tr>\n",
       "      <th>33</th>\n",
       "      <td>12392.0</td>\n",
       "      <td>228</td>\n",
       "      <td>7</td>\n",
       "      <td>234.75</td>\n",
       "      <td>1</td>\n",
       "      <td>1</td>\n",
       "      <td>1</td>\n",
       "      <td>111</td>\n",
       "      <td>Hibernating</td>\n",
       "    </tr>\n",
       "    <tr>\n",
       "      <th>41</th>\n",
       "      <td>12404.0</td>\n",
       "      <td>319</td>\n",
       "      <td>1</td>\n",
       "      <td>63.24</td>\n",
       "      <td>1</td>\n",
       "      <td>1</td>\n",
       "      <td>1</td>\n",
       "      <td>111</td>\n",
       "      <td>Hibernating</td>\n",
       "    </tr>\n",
       "    <tr>\n",
       "      <th>51</th>\n",
       "      <td>12416.0</td>\n",
       "      <td>293</td>\n",
       "      <td>11</td>\n",
       "      <td>202.56</td>\n",
       "      <td>1</td>\n",
       "      <td>1</td>\n",
       "      <td>1</td>\n",
       "      <td>111</td>\n",
       "      <td>Hibernating</td>\n",
       "    </tr>\n",
       "    <tr>\n",
       "      <th>82</th>\n",
       "      <td>12466.0</td>\n",
       "      <td>319</td>\n",
       "      <td>1</td>\n",
       "      <td>56.73</td>\n",
       "      <td>1</td>\n",
       "      <td>1</td>\n",
       "      <td>1</td>\n",
       "      <td>111</td>\n",
       "      <td>Hibernating</td>\n",
       "    </tr>\n",
       "  </tbody>\n",
       "</table>\n",
       "</div>"
      ],
      "text/plain": [
       "    Customer ID  Recency  Frequency  Monetary RecencyScore FrequencyScore  \\\n",
       "14      12362.0      375          1    130.00            1              1   \n",
       "33      12392.0      228          7    234.75            1              1   \n",
       "41      12404.0      319          1     63.24            1              1   \n",
       "51      12416.0      293         11    202.56            1              1   \n",
       "82      12466.0      319          1     56.73            1              1   \n",
       "\n",
       "   MonetaryScore RFM_SCORE      Segment  \n",
       "14             1       111  Hibernating  \n",
       "33             1       111  Hibernating  \n",
       "41             1       111  Hibernating  \n",
       "51             1       111  Hibernating  \n",
       "82             1       111  Hibernating  "
      ]
     },
     "execution_count": 243,
     "metadata": {},
     "output_type": "execute_result"
    }
   ],
   "source": [
    "# 3 metrikde de 1 1 1 skora sahip müşteriler\n",
    "rfm[rfm[\"RFM_SCORE\"] ==\"111\"].head()"
   ]
  },
  {
   "cell_type": "markdown",
   "metadata": {},
   "source": [
    "#### Hesaplanan RFM Skorlarını İsimlendirelim\n",
    "\n",
    "* **RFM metriklerinden Recency ve Frequency skorlarına göre iki boyutlu oluşturulmuş RFM tablosunda yararlanılarak segmentasyon yapılmaktadır**\n",
    "* **Dolayısı ile bu tagbloya göre recency ve frequency skorlarına göre segment gruplarını rfm dataframeine atamam gerekiyor**"
   ]
  },
  {
   "cell_type": "code",
   "execution_count": 742,
   "metadata": {},
   "outputs": [
    {
     "data": {
      "image/png": "[encoded data removed]",
      "text/plain": [
       "<PIL.PngImagePlugin.PngImageFile image mode=RGBA size=644x341 at 0x1F72538D400>"
      ]
     },
     "metadata": {},
     "output_type": "display_data"
    }
   ],
   "source": [
    "# Read Images \n",
    "image_path = 'RFM Analizi Tablosu.png'\n",
    "display.display(Image.open(image_path))"
   ]
  },
  {
   "cell_type": "code",
   "execution_count": null,
   "metadata": {},
   "outputs": [],
   "source": []
  },
  {
   "cell_type": "code",
   "execution_count": 230,
   "metadata": {},
   "outputs": [],
   "source": [
    "# RFM isimlendirmesi\n",
    "seg_map = {\n",
    "    r'[1-2][1-2]': 'Hibernating',\n",
    "    r'[1-2][3-4]': 'At_Risk',\n",
    "    r'[1-2]5': 'Cant_Loose',\n",
    "    r'3[1-2]': 'About_to_Sleep',\n",
    "    r'33': 'Need_Attention',\n",
    "    r'[3-4][4-5]': 'Loyal_Customers',\n",
    "    r'41': 'Promising',\n",
    "    r'51': 'New_Customers',\n",
    "    r'[4-5][2-3]': 'Potential_Loyalists',\n",
    "    r'5[4-5]': 'Champions'\n",
    "}\n"
   ]
  },
  {
   "cell_type": "code",
   "execution_count": 231,
   "metadata": {},
   "outputs": [],
   "source": [
    "# rfm segmentine bu isimleri recency ve frequency skorlarına göre atama işlemini yapıyorum\n",
    "rfm['Segment'] = rfm['RecencyScore'].astype(str) + rfm['FrequencyScore'].astype(str)\n",
    "\n",
    "rfm['Segment'] = rfm['Segment'].replace(seg_map, regex=True)\n",
    "\n",
    "rfm.reset_index(inplace=True)"
   ]
  },
  {
   "cell_type": "code",
   "execution_count": 232,
   "metadata": {},
   "outputs": [
    {
     "data": {
      "text/html": [
       "<div>\n",
       "<style scoped>\n",
       "    .dataframe tbody tr th:only-of-type {\n",
       "        vertical-align: middle;\n",
       "    }\n",
       "\n",
       "    .dataframe tbody tr th {\n",
       "        vertical-align: top;\n",
       "    }\n",
       "\n",
       "    .dataframe thead th {\n",
       "        text-align: right;\n",
       "    }\n",
       "</style>\n",
       "<table border=\"1\" class=\"dataframe\">\n",
       "  <thead>\n",
       "    <tr style=\"text-align: right;\">\n",
       "      <th></th>\n",
       "      <th>Recency</th>\n",
       "      <th>Frequency</th>\n",
       "      <th>Monetary</th>\n",
       "      <th>RecencyScore</th>\n",
       "      <th>FrequencyScore</th>\n",
       "      <th>MonetaryScore</th>\n",
       "      <th>RFM_SCORE</th>\n",
       "      <th>Segment</th>\n",
       "    </tr>\n",
       "    <tr>\n",
       "      <th>Customer ID</th>\n",
       "      <th></th>\n",
       "      <th></th>\n",
       "      <th></th>\n",
       "      <th></th>\n",
       "      <th></th>\n",
       "      <th></th>\n",
       "      <th></th>\n",
       "      <th></th>\n",
       "    </tr>\n",
       "  </thead>\n",
       "  <tbody>\n",
       "    <tr>\n",
       "      <th>12346.0</th>\n",
       "      <td>166</td>\n",
       "      <td>33</td>\n",
       "      <td>372.86</td>\n",
       "      <td>2</td>\n",
       "      <td>3</td>\n",
       "      <td>2</td>\n",
       "      <td>232</td>\n",
       "      <td>At_Risk</td>\n",
       "    </tr>\n",
       "    <tr>\n",
       "      <th>12347.0</th>\n",
       "      <td>4</td>\n",
       "      <td>71</td>\n",
       "      <td>1323.32</td>\n",
       "      <td>5</td>\n",
       "      <td>4</td>\n",
       "      <td>4</td>\n",
       "      <td>544</td>\n",
       "      <td>Champions</td>\n",
       "    </tr>\n",
       "    <tr>\n",
       "      <th>12348.0</th>\n",
       "      <td>75</td>\n",
       "      <td>20</td>\n",
       "      <td>222.16</td>\n",
       "      <td>2</td>\n",
       "      <td>2</td>\n",
       "      <td>1</td>\n",
       "      <td>221</td>\n",
       "      <td>Hibernating</td>\n",
       "    </tr>\n",
       "    <tr>\n",
       "      <th>12349.0</th>\n",
       "      <td>44</td>\n",
       "      <td>102</td>\n",
       "      <td>2671.14</td>\n",
       "      <td>3</td>\n",
       "      <td>4</td>\n",
       "      <td>5</td>\n",
       "      <td>345</td>\n",
       "      <td>Loyal_Customers</td>\n",
       "    </tr>\n",
       "    <tr>\n",
       "      <th>12351.0</th>\n",
       "      <td>12</td>\n",
       "      <td>21</td>\n",
       "      <td>300.93</td>\n",
       "      <td>5</td>\n",
       "      <td>2</td>\n",
       "      <td>2</td>\n",
       "      <td>522</td>\n",
       "      <td>Potential_Loyalists</td>\n",
       "    </tr>\n",
       "  </tbody>\n",
       "</table>\n",
       "</div>"
      ],
      "text/plain": [
       "             Recency  Frequency  Monetary RecencyScore FrequencyScore  \\\n",
       "Customer ID                                                             \n",
       "12346.0          166         33    372.86            2              3   \n",
       "12347.0            4         71   1323.32            5              4   \n",
       "12348.0           75         20    222.16            2              2   \n",
       "12349.0           44        102   2671.14            3              4   \n",
       "12351.0           12         21    300.93            5              2   \n",
       "\n",
       "            MonetaryScore RFM_SCORE              Segment  \n",
       "Customer ID                                               \n",
       "12346.0                 2       232              At_Risk  \n",
       "12347.0                 4       544            Champions  \n",
       "12348.0                 1       221          Hibernating  \n",
       "12349.0                 5       345      Loyal_Customers  \n",
       "12351.0                 2       522  Potential_Loyalists  "
      ]
     },
     "execution_count": 232,
     "metadata": {},
     "output_type": "execute_result"
    }
   ],
   "source": [
    "rfm.head()"
   ]
  },
  {
   "cell_type": "code",
   "execution_count": 240,
   "metadata": {},
   "outputs": [],
   "source": []
  },
  {
   "cell_type": "markdown",
   "metadata": {},
   "source": [
    "#### Son Oluşan RFM Verisini Biraz İnceleyelim"
   ]
  },
  {
   "cell_type": "code",
   "execution_count": 379,
   "metadata": {},
   "outputs": [
    {
     "data": {
      "text/html": [
       "<div>\n",
       "<style scoped>\n",
       "    .dataframe tbody tr th:only-of-type {\n",
       "        vertical-align: middle;\n",
       "    }\n",
       "\n",
       "    .dataframe tbody tr th {\n",
       "        vertical-align: top;\n",
       "    }\n",
       "\n",
       "    .dataframe thead th {\n",
       "        text-align: right;\n",
       "    }\n",
       "</style>\n",
       "<table border=\"1\" class=\"dataframe\">\n",
       "  <thead>\n",
       "    <tr style=\"text-align: right;\">\n",
       "      <th></th>\n",
       "      <th>Customer ID</th>\n",
       "      <th>Recency</th>\n",
       "      <th>Frequency</th>\n",
       "      <th>Monetary</th>\n",
       "      <th>RecencyScore</th>\n",
       "      <th>FrequencyScore</th>\n",
       "      <th>MonetaryScore</th>\n",
       "      <th>RFM_SCORE</th>\n",
       "      <th>Segment</th>\n",
       "    </tr>\n",
       "  </thead>\n",
       "  <tbody>\n",
       "    <tr>\n",
       "      <th>0</th>\n",
       "      <td>12346.0</td>\n",
       "      <td>166</td>\n",
       "      <td>33</td>\n",
       "      <td>372.86</td>\n",
       "      <td>2</td>\n",
       "      <td>3</td>\n",
       "      <td>2</td>\n",
       "      <td>232</td>\n",
       "      <td>At_Risk</td>\n",
       "    </tr>\n",
       "    <tr>\n",
       "      <th>1</th>\n",
       "      <td>12347.0</td>\n",
       "      <td>4</td>\n",
       "      <td>71</td>\n",
       "      <td>1323.32</td>\n",
       "      <td>5</td>\n",
       "      <td>4</td>\n",
       "      <td>4</td>\n",
       "      <td>544</td>\n",
       "      <td>Champions</td>\n",
       "    </tr>\n",
       "    <tr>\n",
       "      <th>2</th>\n",
       "      <td>12348.0</td>\n",
       "      <td>75</td>\n",
       "      <td>20</td>\n",
       "      <td>222.16</td>\n",
       "      <td>2</td>\n",
       "      <td>2</td>\n",
       "      <td>1</td>\n",
       "      <td>221</td>\n",
       "      <td>Hibernating</td>\n",
       "    </tr>\n",
       "    <tr>\n",
       "      <th>3</th>\n",
       "      <td>12349.0</td>\n",
       "      <td>44</td>\n",
       "      <td>102</td>\n",
       "      <td>2671.14</td>\n",
       "      <td>3</td>\n",
       "      <td>4</td>\n",
       "      <td>5</td>\n",
       "      <td>345</td>\n",
       "      <td>Loyal_Customers</td>\n",
       "    </tr>\n",
       "    <tr>\n",
       "      <th>4</th>\n",
       "      <td>12351.0</td>\n",
       "      <td>12</td>\n",
       "      <td>21</td>\n",
       "      <td>300.93</td>\n",
       "      <td>5</td>\n",
       "      <td>2</td>\n",
       "      <td>2</td>\n",
       "      <td>522</td>\n",
       "      <td>Potential_Loyalists</td>\n",
       "    </tr>\n",
       "  </tbody>\n",
       "</table>\n",
       "</div>"
      ],
      "text/plain": [
       "   Customer ID  Recency  Frequency  Monetary RecencyScore FrequencyScore  \\\n",
       "0      12346.0      166         33    372.86            2              3   \n",
       "1      12347.0        4         71   1323.32            5              4   \n",
       "2      12348.0       75         20    222.16            2              2   \n",
       "3      12349.0       44        102   2671.14            3              4   \n",
       "4      12351.0       12         21    300.93            5              2   \n",
       "\n",
       "  MonetaryScore RFM_SCORE              Segment  \n",
       "0             2       232              At_Risk  \n",
       "1             4       544            Champions  \n",
       "2             1       221          Hibernating  \n",
       "3             5       345      Loyal_Customers  \n",
       "4             2       522  Potential_Loyalists  "
      ]
     },
     "execution_count": 379,
     "metadata": {},
     "output_type": "execute_result"
    }
   ],
   "source": [
    "rfm.head()"
   ]
  },
  {
   "cell_type": "code",
   "execution_count": 449,
   "metadata": {},
   "outputs": [
    {
     "data": {
      "text/html": [
       "<div>\n",
       "<style scoped>\n",
       "    .dataframe tbody tr th:only-of-type {\n",
       "        vertical-align: middle;\n",
       "    }\n",
       "\n",
       "    .dataframe tbody tr th {\n",
       "        vertical-align: top;\n",
       "    }\n",
       "\n",
       "    .dataframe thead th {\n",
       "        text-align: right;\n",
       "    }\n",
       "</style>\n",
       "<table border=\"1\" class=\"dataframe\">\n",
       "  <thead>\n",
       "    <tr style=\"text-align: right;\">\n",
       "      <th></th>\n",
       "      <th>Segment</th>\n",
       "      <th>MonetaryScore</th>\n",
       "      <th>FrequencyScore</th>\n",
       "      <th>RecencyScore</th>\n",
       "      <th>Customer ID</th>\n",
       "      <th>Recency</th>\n",
       "      <th>Frequency</th>\n",
       "      <th>Monetary</th>\n",
       "    </tr>\n",
       "  </thead>\n",
       "  <tbody>\n",
       "    <tr>\n",
       "      <th>0</th>\n",
       "      <td>About_to_Sleep</td>\n",
       "      <td>1.953488</td>\n",
       "      <td>2</td>\n",
       "      <td>3.000000</td>\n",
       "      <td>344</td>\n",
       "      <td>54.543605</td>\n",
       "      <td>16.107558</td>\n",
       "      <td>447.839826</td>\n",
       "    </tr>\n",
       "    <tr>\n",
       "      <th>1</th>\n",
       "      <td>At_Risk</td>\n",
       "      <td>3.053726</td>\n",
       "      <td>3</td>\n",
       "      <td>1.611785</td>\n",
       "      <td>577</td>\n",
       "      <td>166.053726</td>\n",
       "      <td>59.564991</td>\n",
       "      <td>1180.625170</td>\n",
       "    </tr>\n",
       "    <tr>\n",
       "      <th>2</th>\n",
       "      <td>Cant_Loose</td>\n",
       "      <td>4.343434</td>\n",
       "      <td>5</td>\n",
       "      <td>1.777778</td>\n",
       "      <td>99</td>\n",
       "      <td>129.868687</td>\n",
       "      <td>220.646465</td>\n",
       "      <td>3002.426980</td>\n",
       "    </tr>\n",
       "    <tr>\n",
       "      <th>3</th>\n",
       "      <td>Champions</td>\n",
       "      <td>4.414557</td>\n",
       "      <td>5</td>\n",
       "      <td>5.000000</td>\n",
       "      <td>632</td>\n",
       "      <td>8.039557</td>\n",
       "      <td>273.354430</td>\n",
       "      <td>6964.077188</td>\n",
       "    </tr>\n",
       "    <tr>\n",
       "      <th>4</th>\n",
       "      <td>Hibernating</td>\n",
       "      <td>1.772152</td>\n",
       "      <td>1</td>\n",
       "      <td>1.407011</td>\n",
       "      <td>1027</td>\n",
       "      <td>207.059396</td>\n",
       "      <td>14.516066</td>\n",
       "      <td>461.186768</td>\n",
       "    </tr>\n",
       "    <tr>\n",
       "      <th>5</th>\n",
       "      <td>Loyal_Customers</td>\n",
       "      <td>4.135834</td>\n",
       "      <td>4</td>\n",
       "      <td>3.560155</td>\n",
       "      <td>773</td>\n",
       "      <td>38.401035</td>\n",
       "      <td>168.276843</td>\n",
       "      <td>2662.046864</td>\n",
       "    </tr>\n",
       "    <tr>\n",
       "      <th>6</th>\n",
       "      <td>Need_Attention</td>\n",
       "      <td>3.078313</td>\n",
       "      <td>3</td>\n",
       "      <td>3.000000</td>\n",
       "      <td>166</td>\n",
       "      <td>54.680723</td>\n",
       "      <td>45.271084</td>\n",
       "      <td>935.626627</td>\n",
       "    </tr>\n",
       "    <tr>\n",
       "      <th>7</th>\n",
       "      <td>New_Customers</td>\n",
       "      <td>1.954545</td>\n",
       "      <td>1</td>\n",
       "      <td>5.000000</td>\n",
       "      <td>66</td>\n",
       "      <td>8.757576</td>\n",
       "      <td>7.818182</td>\n",
       "      <td>482.087121</td>\n",
       "    </tr>\n",
       "    <tr>\n",
       "      <th>8</th>\n",
       "      <td>Potential_Loyalists</td>\n",
       "      <td>2.765504</td>\n",
       "      <td>3</td>\n",
       "      <td>4.403101</td>\n",
       "      <td>516</td>\n",
       "      <td>19.439922</td>\n",
       "      <td>37.203488</td>\n",
       "      <td>1024.276880</td>\n",
       "    </tr>\n",
       "    <tr>\n",
       "      <th>9</th>\n",
       "      <td>Promising</td>\n",
       "      <td>1.767857</td>\n",
       "      <td>1</td>\n",
       "      <td>4.000000</td>\n",
       "      <td>112</td>\n",
       "      <td>25.991071</td>\n",
       "      <td>8.616071</td>\n",
       "      <td>456.508214</td>\n",
       "    </tr>\n",
       "  </tbody>\n",
       "</table>\n",
       "</div>"
      ],
      "text/plain": [
       "               Segment  MonetaryScore  FrequencyScore  RecencyScore  \\\n",
       "0       About_to_Sleep       1.953488               2      3.000000   \n",
       "1              At_Risk       3.053726               3      1.611785   \n",
       "2           Cant_Loose       4.343434               5      1.777778   \n",
       "3            Champions       4.414557               5      5.000000   \n",
       "4          Hibernating       1.772152               1      1.407011   \n",
       "5      Loyal_Customers       4.135834               4      3.560155   \n",
       "6       Need_Attention       3.078313               3      3.000000   \n",
       "7        New_Customers       1.954545               1      5.000000   \n",
       "8  Potential_Loyalists       2.765504               3      4.403101   \n",
       "9            Promising       1.767857               1      4.000000   \n",
       "\n",
       "   Customer ID     Recency   Frequency     Monetary  \n",
       "0          344   54.543605   16.107558   447.839826  \n",
       "1          577  166.053726   59.564991  1180.625170  \n",
       "2           99  129.868687  220.646465  3002.426980  \n",
       "3          632    8.039557  273.354430  6964.077188  \n",
       "4         1027  207.059396   14.516066   461.186768  \n",
       "5          773   38.401035  168.276843  2662.046864  \n",
       "6          166   54.680723   45.271084   935.626627  \n",
       "7           66    8.757576    7.818182   482.087121  \n",
       "8          516   19.439922   37.203488  1024.276880  \n",
       "9          112   25.991071    8.616071   456.508214  "
      ]
     },
     "execution_count": 449,
     "metadata": {},
     "output_type": "execute_result"
    }
   ],
   "source": [
    " rfm.groupby(\"Segment\").agg({\"MonetaryScore\":\"mean\",\"FrequencyScore\":\"median\",\"RecencyScore\":\"mean\",\"Customer ID\":\"count\",\"Recency\":\"mean\",\"Frequency\":\"mean\", \"Monetary\":\"mean\"}).reset_index()\n"
   ]
  },
  {
   "cell_type": "code",
   "execution_count": 761,
   "metadata": {},
   "outputs": [],
   "source": [
    "# RFM_Segment tablosunu oluşturdum\n",
    "rfm[\"RecencyScore\"]=rfm[\"RecencyScore\"].astype(\"int\")\n",
    "rfm[\"MonetaryScore\"]=rfm[\"MonetaryScore\"].astype(\"int\")\n",
    "rfm[\"FrequencyScore\"]=rfm[\"FrequencyScore\"].astype(\"int\")\n",
    "\n",
    "rfm_segment = rfm.groupby(\"Segment\").agg({\"MonetaryScore\":\"mean\",\"FrequencyScore\":\"mean\",\"RecencyScore\":\"mean\",\"Customer ID\":\"count\",\"Recency\":\"mean\",\"Frequency\":\"mean\", \"Monetary\":\"mean\"}).reset_index()\n",
    "\n",
    "rfm_segment.columns=['Segment', 'MonetaryScore', 'FrequencyScore', 'RecencyScore',\n",
    "       'Number_of_Customer', 'Recency', 'Frequency', 'Monetary']\n",
    "\n",
    "rfm_segment[[\"MonetaryScore\",\"FrequencyScore\",\"RecencyScore\"]] = round(rfm_segment[[\"MonetaryScore\",\"FrequencyScore\",\"RecencyScore\"]] )\n",
    "\n",
    "\n",
    "rfm_segment = rfm_segment[['Segment','Number_of_Customer', 'RecencyScore','FrequencyScore', 'MonetaryScore', \n",
    "        'Recency', 'Frequency', 'Monetary']]"
   ]
  },
  {
   "cell_type": "code",
   "execution_count": 762,
   "metadata": {},
   "outputs": [
    {
     "data": {
      "text/html": [
       "<div>\n",
       "<style scoped>\n",
       "    .dataframe tbody tr th:only-of-type {\n",
       "        vertical-align: middle;\n",
       "    }\n",
       "\n",
       "    .dataframe tbody tr th {\n",
       "        vertical-align: top;\n",
       "    }\n",
       "\n",
       "    .dataframe thead th {\n",
       "        text-align: right;\n",
       "    }\n",
       "</style>\n",
       "<table border=\"1\" class=\"dataframe\">\n",
       "  <thead>\n",
       "    <tr style=\"text-align: right;\">\n",
       "      <th></th>\n",
       "      <th>Segment</th>\n",
       "      <th>Number_of_Customer</th>\n",
       "      <th>RecencyScore</th>\n",
       "      <th>FrequencyScore</th>\n",
       "      <th>MonetaryScore</th>\n",
       "      <th>Recency</th>\n",
       "      <th>Frequency</th>\n",
       "      <th>Monetary</th>\n",
       "    </tr>\n",
       "  </thead>\n",
       "  <tbody>\n",
       "    <tr>\n",
       "      <th>0</th>\n",
       "      <td>About_to_Sleep</td>\n",
       "      <td>344</td>\n",
       "      <td>3.0</td>\n",
       "      <td>2.0</td>\n",
       "      <td>2.0</td>\n",
       "      <td>54.543605</td>\n",
       "      <td>16.107558</td>\n",
       "      <td>447.839826</td>\n",
       "    </tr>\n",
       "    <tr>\n",
       "      <th>1</th>\n",
       "      <td>At_Risk</td>\n",
       "      <td>577</td>\n",
       "      <td>2.0</td>\n",
       "      <td>3.0</td>\n",
       "      <td>3.0</td>\n",
       "      <td>166.053726</td>\n",
       "      <td>59.564991</td>\n",
       "      <td>1180.625170</td>\n",
       "    </tr>\n",
       "    <tr>\n",
       "      <th>2</th>\n",
       "      <td>Cant_Loose</td>\n",
       "      <td>99</td>\n",
       "      <td>2.0</td>\n",
       "      <td>5.0</td>\n",
       "      <td>4.0</td>\n",
       "      <td>129.868687</td>\n",
       "      <td>220.646465</td>\n",
       "      <td>3002.426980</td>\n",
       "    </tr>\n",
       "    <tr>\n",
       "      <th>3</th>\n",
       "      <td>Champions</td>\n",
       "      <td>632</td>\n",
       "      <td>5.0</td>\n",
       "      <td>5.0</td>\n",
       "      <td>4.0</td>\n",
       "      <td>8.039557</td>\n",
       "      <td>273.354430</td>\n",
       "      <td>6964.077188</td>\n",
       "    </tr>\n",
       "    <tr>\n",
       "      <th>4</th>\n",
       "      <td>Hibernating</td>\n",
       "      <td>1027</td>\n",
       "      <td>1.0</td>\n",
       "      <td>1.0</td>\n",
       "      <td>2.0</td>\n",
       "      <td>207.059396</td>\n",
       "      <td>14.516066</td>\n",
       "      <td>461.186768</td>\n",
       "    </tr>\n",
       "    <tr>\n",
       "      <th>5</th>\n",
       "      <td>Loyal_Customers</td>\n",
       "      <td>773</td>\n",
       "      <td>4.0</td>\n",
       "      <td>4.0</td>\n",
       "      <td>4.0</td>\n",
       "      <td>38.401035</td>\n",
       "      <td>168.276843</td>\n",
       "      <td>2662.046864</td>\n",
       "    </tr>\n",
       "    <tr>\n",
       "      <th>6</th>\n",
       "      <td>Need_Attention</td>\n",
       "      <td>166</td>\n",
       "      <td>3.0</td>\n",
       "      <td>3.0</td>\n",
       "      <td>3.0</td>\n",
       "      <td>54.680723</td>\n",
       "      <td>45.271084</td>\n",
       "      <td>935.626627</td>\n",
       "    </tr>\n",
       "    <tr>\n",
       "      <th>7</th>\n",
       "      <td>New_Customers</td>\n",
       "      <td>66</td>\n",
       "      <td>5.0</td>\n",
       "      <td>1.0</td>\n",
       "      <td>2.0</td>\n",
       "      <td>8.757576</td>\n",
       "      <td>7.818182</td>\n",
       "      <td>482.087121</td>\n",
       "    </tr>\n",
       "    <tr>\n",
       "      <th>8</th>\n",
       "      <td>Potential_Loyalists</td>\n",
       "      <td>516</td>\n",
       "      <td>4.0</td>\n",
       "      <td>3.0</td>\n",
       "      <td>3.0</td>\n",
       "      <td>19.439922</td>\n",
       "      <td>37.203488</td>\n",
       "      <td>1024.276880</td>\n",
       "    </tr>\n",
       "    <tr>\n",
       "      <th>9</th>\n",
       "      <td>Promising</td>\n",
       "      <td>112</td>\n",
       "      <td>4.0</td>\n",
       "      <td>1.0</td>\n",
       "      <td>2.0</td>\n",
       "      <td>25.991071</td>\n",
       "      <td>8.616071</td>\n",
       "      <td>456.508214</td>\n",
       "    </tr>\n",
       "  </tbody>\n",
       "</table>\n",
       "</div>"
      ],
      "text/plain": [
       "               Segment  Number_of_Customer  RecencyScore  FrequencyScore  \\\n",
       "0       About_to_Sleep                 344           3.0             2.0   \n",
       "1              At_Risk                 577           2.0             3.0   \n",
       "2           Cant_Loose                  99           2.0             5.0   \n",
       "3            Champions                 632           5.0             5.0   \n",
       "4          Hibernating                1027           1.0             1.0   \n",
       "5      Loyal_Customers                 773           4.0             4.0   \n",
       "6       Need_Attention                 166           3.0             3.0   \n",
       "7        New_Customers                  66           5.0             1.0   \n",
       "8  Potential_Loyalists                 516           4.0             3.0   \n",
       "9            Promising                 112           4.0             1.0   \n",
       "\n",
       "   MonetaryScore     Recency   Frequency     Monetary  \n",
       "0            2.0   54.543605   16.107558   447.839826  \n",
       "1            3.0  166.053726   59.564991  1180.625170  \n",
       "2            4.0  129.868687  220.646465  3002.426980  \n",
       "3            4.0    8.039557  273.354430  6964.077188  \n",
       "4            2.0  207.059396   14.516066   461.186768  \n",
       "5            4.0   38.401035  168.276843  2662.046864  \n",
       "6            3.0   54.680723   45.271084   935.626627  \n",
       "7            2.0    8.757576    7.818182   482.087121  \n",
       "8            3.0   19.439922   37.203488  1024.276880  \n",
       "9            2.0   25.991071    8.616071   456.508214  "
      ]
     },
     "execution_count": 762,
     "metadata": {},
     "output_type": "execute_result"
    }
   ],
   "source": [
    "rfm_segment"
   ]
  },
  {
   "cell_type": "code",
   "execution_count": null,
   "metadata": {},
   "outputs": [],
   "source": []
  },
  {
   "cell_type": "code",
   "execution_count": 310,
   "metadata": {},
   "outputs": [
    {
     "data": {
      "image/png": "[encoded data removed]",
      "text/plain": [
       "<Figure size 504x360 with 1 Axes>"
      ]
     },
     "metadata": {
      "needs_background": "light"
     },
     "output_type": "display_data"
    },
    {
     "data": {
      "image/png": "[encoded data removed]",
      "text/plain": [
       "<Figure size 504x360 with 1 Axes>"
      ]
     },
     "metadata": {
      "needs_background": "light"
     },
     "output_type": "display_data"
    },
    {
     "data": {
      "image/png": "[encoded data removed]",
      "text/plain": [
       "<Figure size 504x360 with 1 Axes>"
      ]
     },
     "metadata": {
      "needs_background": "light"
     },
     "output_type": "display_data"
    }
   ],
   "source": [
    "# Segmentlere Göre Recency Frequency ve Monatary dağolımlarınıa bakalım\n",
    "cols =[\"Recency\",\"Frequency\",\"Monetary\"]\n",
    "for i in range(3):\n",
    "    plt.subplots( figsize=(7, 5))\n",
    "    sns.boxplot(x=\"Segment\",y= cols[i],data=rfm)\n",
    "    plt.xticks(rotation=90);\n",
    "    plt.show()"
   ]
  },
  {
   "cell_type": "code",
   "execution_count": 311,
   "metadata": {},
   "outputs": [
    {
     "data": {
      "text/html": [
       "<div>\n",
       "<style scoped>\n",
       "    .dataframe tbody tr th:only-of-type {\n",
       "        vertical-align: middle;\n",
       "    }\n",
       "\n",
       "    .dataframe tbody tr th {\n",
       "        vertical-align: top;\n",
       "    }\n",
       "\n",
       "    .dataframe thead th {\n",
       "        text-align: right;\n",
       "    }\n",
       "</style>\n",
       "<table border=\"1\" class=\"dataframe\">\n",
       "  <thead>\n",
       "    <tr style=\"text-align: right;\">\n",
       "      <th></th>\n",
       "      <th>Customer ID</th>\n",
       "      <th>Recency</th>\n",
       "      <th>Frequency</th>\n",
       "      <th>Monetary</th>\n",
       "      <th>RecencyScore</th>\n",
       "      <th>FrequencyScore</th>\n",
       "      <th>MonetaryScore</th>\n",
       "      <th>RFM_SCORE</th>\n",
       "      <th>Segment</th>\n",
       "    </tr>\n",
       "  </thead>\n",
       "  <tbody>\n",
       "    <tr>\n",
       "      <th>0</th>\n",
       "      <td>12346.0</td>\n",
       "      <td>166</td>\n",
       "      <td>33</td>\n",
       "      <td>372.86</td>\n",
       "      <td>2</td>\n",
       "      <td>3</td>\n",
       "      <td>2</td>\n",
       "      <td>232</td>\n",
       "      <td>At_Risk</td>\n",
       "    </tr>\n",
       "    <tr>\n",
       "      <th>1</th>\n",
       "      <td>12347.0</td>\n",
       "      <td>4</td>\n",
       "      <td>71</td>\n",
       "      <td>1323.32</td>\n",
       "      <td>5</td>\n",
       "      <td>4</td>\n",
       "      <td>4</td>\n",
       "      <td>544</td>\n",
       "      <td>Champions</td>\n",
       "    </tr>\n",
       "    <tr>\n",
       "      <th>2</th>\n",
       "      <td>12348.0</td>\n",
       "      <td>75</td>\n",
       "      <td>20</td>\n",
       "      <td>222.16</td>\n",
       "      <td>2</td>\n",
       "      <td>2</td>\n",
       "      <td>1</td>\n",
       "      <td>221</td>\n",
       "      <td>Hibernating</td>\n",
       "    </tr>\n",
       "    <tr>\n",
       "      <th>3</th>\n",
       "      <td>12349.0</td>\n",
       "      <td>44</td>\n",
       "      <td>102</td>\n",
       "      <td>2671.14</td>\n",
       "      <td>3</td>\n",
       "      <td>4</td>\n",
       "      <td>5</td>\n",
       "      <td>345</td>\n",
       "      <td>Loyal_Customers</td>\n",
       "    </tr>\n",
       "    <tr>\n",
       "      <th>4</th>\n",
       "      <td>12351.0</td>\n",
       "      <td>12</td>\n",
       "      <td>21</td>\n",
       "      <td>300.93</td>\n",
       "      <td>5</td>\n",
       "      <td>2</td>\n",
       "      <td>2</td>\n",
       "      <td>522</td>\n",
       "      <td>Potential_Loyalists</td>\n",
       "    </tr>\n",
       "  </tbody>\n",
       "</table>\n",
       "</div>"
      ],
      "text/plain": [
       "   Customer ID  Recency  Frequency  Monetary RecencyScore FrequencyScore  \\\n",
       "0      12346.0      166         33    372.86            2              3   \n",
       "1      12347.0        4         71   1323.32            5              4   \n",
       "2      12348.0       75         20    222.16            2              2   \n",
       "3      12349.0       44        102   2671.14            3              4   \n",
       "4      12351.0       12         21    300.93            5              2   \n",
       "\n",
       "  MonetaryScore RFM_SCORE              Segment  \n",
       "0             2       232              At_Risk  \n",
       "1             4       544            Champions  \n",
       "2             1       221          Hibernating  \n",
       "3             5       345      Loyal_Customers  \n",
       "4             2       522  Potential_Loyalists  "
      ]
     },
     "execution_count": 311,
     "metadata": {},
     "output_type": "execute_result"
    }
   ],
   "source": [
    "rfm.head()"
   ]
  },
  {
   "cell_type": "code",
   "execution_count": 769,
   "metadata": {},
   "outputs": [],
   "source": [
    "rfm_segment = rfm.groupby(\"Segment\").agg({\"Customer ID\":\"count\", \"Recency\":\"mean\", \"Frequency\":\"mean\", \"Monetary\":\"mean\"})\n",
    "rfm_segment.columns=['n_Customer', 'Recency', 'Frequency', 'Monetary']"
   ]
  },
  {
   "cell_type": "code",
   "execution_count": 775,
   "metadata": {},
   "outputs": [
    {
     "data": {
      "text/html": [
       "<div>\n",
       "<style scoped>\n",
       "    .dataframe tbody tr th:only-of-type {\n",
       "        vertical-align: middle;\n",
       "    }\n",
       "\n",
       "    .dataframe tbody tr th {\n",
       "        vertical-align: top;\n",
       "    }\n",
       "\n",
       "    .dataframe thead th {\n",
       "        text-align: right;\n",
       "    }\n",
       "</style>\n",
       "<table border=\"1\" class=\"dataframe\">\n",
       "  <thead>\n",
       "    <tr style=\"text-align: right;\">\n",
       "      <th></th>\n",
       "      <th>n_Customer</th>\n",
       "      <th>Recency</th>\n",
       "      <th>Frequency</th>\n",
       "      <th>Monetary</th>\n",
       "    </tr>\n",
       "    <tr>\n",
       "      <th>Segment</th>\n",
       "      <th></th>\n",
       "      <th></th>\n",
       "      <th></th>\n",
       "      <th></th>\n",
       "    </tr>\n",
       "  </thead>\n",
       "  <tbody>\n",
       "    <tr>\n",
       "      <th>About_to_Sleep</th>\n",
       "      <td>344</td>\n",
       "      <td>54.543605</td>\n",
       "      <td>16.107558</td>\n",
       "      <td>447.839826</td>\n",
       "    </tr>\n",
       "    <tr>\n",
       "      <th>At_Risk</th>\n",
       "      <td>577</td>\n",
       "      <td>166.053726</td>\n",
       "      <td>59.564991</td>\n",
       "      <td>1180.625170</td>\n",
       "    </tr>\n",
       "    <tr>\n",
       "      <th>Cant_Loose</th>\n",
       "      <td>99</td>\n",
       "      <td>129.868687</td>\n",
       "      <td>220.646465</td>\n",
       "      <td>3002.426980</td>\n",
       "    </tr>\n",
       "    <tr>\n",
       "      <th>Champions</th>\n",
       "      <td>632</td>\n",
       "      <td>8.039557</td>\n",
       "      <td>273.354430</td>\n",
       "      <td>6964.077188</td>\n",
       "    </tr>\n",
       "    <tr>\n",
       "      <th>Hibernating</th>\n",
       "      <td>1027</td>\n",
       "      <td>207.059396</td>\n",
       "      <td>14.516066</td>\n",
       "      <td>461.186768</td>\n",
       "    </tr>\n",
       "    <tr>\n",
       "      <th>Loyal_Customers</th>\n",
       "      <td>773</td>\n",
       "      <td>38.401035</td>\n",
       "      <td>168.276843</td>\n",
       "      <td>2662.046864</td>\n",
       "    </tr>\n",
       "    <tr>\n",
       "      <th>Need_Attention</th>\n",
       "      <td>166</td>\n",
       "      <td>54.680723</td>\n",
       "      <td>45.271084</td>\n",
       "      <td>935.626627</td>\n",
       "    </tr>\n",
       "    <tr>\n",
       "      <th>New_Customers</th>\n",
       "      <td>66</td>\n",
       "      <td>8.757576</td>\n",
       "      <td>7.818182</td>\n",
       "      <td>482.087121</td>\n",
       "    </tr>\n",
       "    <tr>\n",
       "      <th>Potential_Loyalists</th>\n",
       "      <td>516</td>\n",
       "      <td>19.439922</td>\n",
       "      <td>37.203488</td>\n",
       "      <td>1024.276880</td>\n",
       "    </tr>\n",
       "    <tr>\n",
       "      <th>Promising</th>\n",
       "      <td>112</td>\n",
       "      <td>25.991071</td>\n",
       "      <td>8.616071</td>\n",
       "      <td>456.508214</td>\n",
       "    </tr>\n",
       "  </tbody>\n",
       "</table>\n",
       "</div>"
      ],
      "text/plain": [
       "                     n_Customer     Recency   Frequency     Monetary\n",
       "Segment                                                             \n",
       "About_to_Sleep              344   54.543605   16.107558   447.839826\n",
       "At_Risk                     577  166.053726   59.564991  1180.625170\n",
       "Cant_Loose                   99  129.868687  220.646465  3002.426980\n",
       "Champions                   632    8.039557  273.354430  6964.077188\n",
       "Hibernating                1027  207.059396   14.516066   461.186768\n",
       "Loyal_Customers             773   38.401035  168.276843  2662.046864\n",
       "Need_Attention              166   54.680723   45.271084   935.626627\n",
       "New_Customers                66    8.757576    7.818182   482.087121\n",
       "Potential_Loyalists         516   19.439922   37.203488  1024.276880\n",
       "Promising                   112   25.991071    8.616071   456.508214"
      ]
     },
     "execution_count": 775,
     "metadata": {},
     "output_type": "execute_result"
    }
   ],
   "source": [
    "rfm_segment"
   ]
  },
  {
   "cell_type": "markdown",
   "metadata": {},
   "source": [
    "### **Alttaki RFM TAblosu ile Alttaki pointplot grafiğini beraber incelediğiizzde iki boyutlu RFM tablosunun yanında Monetary ortalama değerini gözlemleyebiliyoruz**"
   ]
  },
  {
   "cell_type": "code",
   "execution_count": 626,
   "metadata": {},
   "outputs": [
    {
     "data": {
      "image/png": "[encoded data removed]",
      "text/plain": [
       "<PIL.PngImagePlugin.PngImageFile image mode=RGBA size=644x341 at 0x1F71A0FD190>"
      ]
     },
     "metadata": {},
     "output_type": "display_data"
    },
    {
     "data": {
      "image/png": "[encoded data removed]",
      "text/plain": [
       "<Figure size 749.775x331.2 with 1 Axes>"
      ]
     },
     "metadata": {
      "needs_background": "light"
     },
     "output_type": "display_data"
    }
   ],
   "source": [
    "image_path = 'RFM Analizi Tablosu.png'\n",
    "display.display(Image.open(image_path))\n",
    "\n",
    "# Recency ve Frequency skorlarına göre monetary ortalaması\n",
    "# Yatayda Recency skor ve dikeyde de Frequency skorlara göre Monetary ortalamasını göstermek amaçlı çizdirdim\n",
    "sns.catplot(x=\"RecencyScore\", y=\"Monetary\",data=rfm, kind=\"point\", hue=\"FrequencyScore\",  order=[1,2,3,4,5],height=4.6, aspect=2)\n",
    "plt.show()"
   ]
  },
  {
   "cell_type": "markdown",
   "metadata": {},
   "source": [
    "#### **Üstteki grafiğe Baktığımızda Recency ve Frequency skorlara göre monetary ortalaması  değerinde skorların durumuna öre keskin bir farklılığın olmadığını gördüm. Ama Recency ve Frequency skorların 5,5 olduğu noktada monetary ortalaması aşırı yüksek iken diğer durumlarda birbirine yakın seyretmekte. Bu durum biraz monetary değerlerindeki aykırı yüksek değerlerden kaynaklandığını düşünüyorum. Bu durumu gözlemleme kiçin monetary skoru recency ve frequency skorlaa göre ayrı ayrı incelemek istedim. Alttaki çıktılarda iki grafik monetary skorun diğer skorlara göe incelenmesini göstermektedir.**"
   ]
  },
  {
   "cell_type": "code",
   "execution_count": 409,
   "metadata": {},
   "outputs": [
    {
     "data": {
      "text/plain": [
       "<seaborn.axisgrid.FacetGrid at 0x1f72739aca0>"
      ]
     },
     "execution_count": 409,
     "metadata": {},
     "output_type": "execute_result"
    },
    {
     "data": {
      "image/png": "[encoded data removed]",
      "text/plain": [
       "<Figure size 442.875x360 with 1 Axes>"
      ]
     },
     "metadata": {
      "needs_background": "light"
     },
     "output_type": "display_data"
    }
   ],
   "source": [
    "# Monetary skorun Recency skora göre incelenmesi\n",
    "sns.catplot(x=\"RecencyScore\", y=\"Monetary\",data=rfm, kind=\"point\", hue=\"MonetaryScore\",order=[1,2,3,4,5])"
   ]
  },
  {
   "cell_type": "code",
   "execution_count": 408,
   "metadata": {},
   "outputs": [
    {
     "data": {
      "text/plain": [
       "<seaborn.axisgrid.FacetGrid at 0x1f72698bdc0>"
      ]
     },
     "execution_count": 408,
     "metadata": {},
     "output_type": "execute_result"
    },
    {
     "data": {
      "image/png": "[encoded data removed]",
      "text/plain": [
       "<Figure size 442.875x360 with 1 Axes>"
      ]
     },
     "metadata": {
      "needs_background": "light"
     },
     "output_type": "display_data"
    }
   ],
   "source": [
    "# Monetary skorun Frequency skora göre incelenmesi\n",
    "sns.catplot(x=\"FrequencyScore\", y=\"Monetary\",data=rfm, kind=\"point\", hue=\"MonetaryScore\",order=[1,2,3,4,5])"
   ]
  },
  {
   "cell_type": "markdown",
   "metadata": {},
   "source": [
    "#### **Üstteki iki grafiğe bakrığımızda Recency skoru ve  frequency skorunun monetary skoaru 1 2 3 4 olan monetarylara  bir etkisinin olmadığını ama monetray skoru 5 olnalara bir etkisini olduğunu görebilmekteyiz.**"
   ]
  }
 ],
 "metadata": {
  "kernelspec": {
   "display_name": "Python 3",
   "language": "python",
   "name": "python3"
  },
  "language_info": {
   "codemirror_mode": {
    "name": "ipython",
    "version": 3
   },
   "file_extension": ".py",
   "mimetype": "text/x-python",
   "name": "python",
   "nbconvert_exporter": "python",
   "pygments_lexer": "ipython3",
   "version": "3.8.5"
  }
 },
 "nbformat": 4,
 "nbformat_minor": 4
}
