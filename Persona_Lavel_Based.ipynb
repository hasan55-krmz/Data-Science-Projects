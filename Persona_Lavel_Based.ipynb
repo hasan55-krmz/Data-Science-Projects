{
 "cells": [
  {
   "cell_type": "markdown",
   "metadata": {},
   "source": [
    "# Level Based Persona\n",
    "\n",
    "**Lavel Based Persona:** Seviye tabanlı Persona Tanımlama\n",
    "\n",
    "**Basit Segmentasyon**\n",
    "\n",
    "*Pazarlama dilinde persona kavram girişimin başarılı olabilmesi adına çeşitli kaynaklardan bilgi edinerek çıkarılan ideal müşteri profili olarak açıklanır. Türkçede kimlik kartı ya da kişilik kartı olarak da kullanılan persona pazarlama çalışmalarında başarıyı yakalamanın temellerinden biridir. Pazarlama faaliyetleri sırasında yapılan analizler ile elde edilen bulguların birleştirilmesi sonucunda ortaya konan müşteri profili tamamen hayali bir karakter oluşturma işlemidir.*\n",
    "\n",
    "\n",
    "Çalışmanın amacı: frimanın sahip olduğu müşterilerin bazı özelliklerini kullanarak ideal  müşteri(persona) tanımları yaparak tanımlanan yeni müşteri kavramına göre, müşterileri segmentlere ayırmaktır. Ve yeni gelen bir müşterinin hangi segmentte olabileceğini belirlemeye çalışmaktır.\n",
    "\n",
    "\n",
    "Elimizde müşterilerin kişisel bilgileirni barındıran users tablosu ve mişterilerin satın alma bililerini barındıran Purchase tablusu bulunmaktadır.\n",
    "### Users tablosu\n",
    "* **uid:** Müşterilerin idleri\n",
    "* **reg_date:** Müşterinin kayıt tarihi\n",
    "* **device:** Müşterinin kullandığı ürünün tipi\n",
    "* **gender:** Müşteirnin cnisiyeti\n",
    "* **country:** Müşteirnin ülkesi\n",
    "* **age:** Müşterinin yaşı\n",
    "\n",
    "### Purchase tablosu\n",
    "* **date:** Müşterinin satın alma yaptığı tarih\n",
    "* **uid:** Müşterilerin idleri\n",
    "* **price:** Müşterinin ödediği ücret"
   ]
  },
  {
   "cell_type": "code",
   "execution_count": null,
   "metadata": {},
   "outputs": [],
   "source": []
  },
  {
   "cell_type": "markdown",
   "metadata": {},
   "source": [
    "### Gerekli Kütüphaelerin eklenmesi ve Veri setlerinin okunması"
   ]
  },
  {
   "cell_type": "code",
   "execution_count": 216,
   "metadata": {},
   "outputs": [],
   "source": [
    "# Temel dataframe işlemleri\n",
    "import pandas as pd\n",
    "# Görselleştirme\n",
    "import seaborn as sns\n",
    "import matplotlib.pyplot as plt\n",
    "# Uyarlıarı göz ardı et\n",
    "import warnings\n",
    "warnings.filterwarnings(\"ignore\")"
   ]
  },
  {
   "cell_type": "code",
   "execution_count": 217,
   "metadata": {},
   "outputs": [],
   "source": [
    "users = pd.read_csv(\"users.csv\")\n",
    "purchases  = pd.read_csv(\"purchases.csv\")"
   ]
  },
  {
   "cell_type": "code",
   "execution_count": 218,
   "metadata": {},
   "outputs": [
    {
     "data": {
      "text/html": [
       "<div>\n",
       "<style scoped>\n",
       "    .dataframe tbody tr th:only-of-type {\n",
       "        vertical-align: middle;\n",
       "    }\n",
       "\n",
       "    .dataframe tbody tr th {\n",
       "        vertical-align: top;\n",
       "    }\n",
       "\n",
       "    .dataframe thead th {\n",
       "        text-align: right;\n",
       "    }\n",
       "</style>\n",
       "<table border=\"1\" class=\"dataframe\">\n",
       "  <thead>\n",
       "    <tr style=\"text-align: right;\">\n",
       "      <th></th>\n",
       "      <th>uid</th>\n",
       "      <th>reg_date</th>\n",
       "      <th>device</th>\n",
       "      <th>gender</th>\n",
       "      <th>country</th>\n",
       "      <th>age</th>\n",
       "    </tr>\n",
       "  </thead>\n",
       "  <tbody>\n",
       "    <tr>\n",
       "      <th>0</th>\n",
       "      <td>54030035</td>\n",
       "      <td>2017-06-29T00:00:00Z</td>\n",
       "      <td>and</td>\n",
       "      <td>M</td>\n",
       "      <td>USA</td>\n",
       "      <td>19</td>\n",
       "    </tr>\n",
       "    <tr>\n",
       "      <th>1</th>\n",
       "      <td>72574201</td>\n",
       "      <td>2018-03-05T00:00:00Z</td>\n",
       "      <td>iOS</td>\n",
       "      <td>F</td>\n",
       "      <td>TUR</td>\n",
       "      <td>22</td>\n",
       "    </tr>\n",
       "    <tr>\n",
       "      <th>2</th>\n",
       "      <td>64187558</td>\n",
       "      <td>2016-02-07T00:00:00Z</td>\n",
       "      <td>iOS</td>\n",
       "      <td>M</td>\n",
       "      <td>USA</td>\n",
       "      <td>16</td>\n",
       "    </tr>\n",
       "    <tr>\n",
       "      <th>3</th>\n",
       "      <td>92513925</td>\n",
       "      <td>2017-05-25T00:00:00Z</td>\n",
       "      <td>and</td>\n",
       "      <td>M</td>\n",
       "      <td>BRA</td>\n",
       "      <td>41</td>\n",
       "    </tr>\n",
       "    <tr>\n",
       "      <th>4</th>\n",
       "      <td>99231338</td>\n",
       "      <td>2017-03-26T00:00:00Z</td>\n",
       "      <td>iOS</td>\n",
       "      <td>M</td>\n",
       "      <td>FRA</td>\n",
       "      <td>59</td>\n",
       "    </tr>\n",
       "  </tbody>\n",
       "</table>\n",
       "</div>"
      ],
      "text/plain": [
       "        uid              reg_date device gender country  age\n",
       "0  54030035  2017-06-29T00:00:00Z    and      M     USA   19\n",
       "1  72574201  2018-03-05T00:00:00Z    iOS      F     TUR   22\n",
       "2  64187558  2016-02-07T00:00:00Z    iOS      M     USA   16\n",
       "3  92513925  2017-05-25T00:00:00Z    and      M     BRA   41\n",
       "4  99231338  2017-03-26T00:00:00Z    iOS      M     FRA   59"
      ]
     },
     "execution_count": 218,
     "metadata": {},
     "output_type": "execute_result"
    }
   ],
   "source": [
    "users.head()"
   ]
  },
  {
   "cell_type": "code",
   "execution_count": 219,
   "metadata": {},
   "outputs": [
    {
     "data": {
      "text/html": [
       "<div>\n",
       "<style scoped>\n",
       "    .dataframe tbody tr th:only-of-type {\n",
       "        vertical-align: middle;\n",
       "    }\n",
       "\n",
       "    .dataframe tbody tr th {\n",
       "        vertical-align: top;\n",
       "    }\n",
       "\n",
       "    .dataframe thead th {\n",
       "        text-align: right;\n",
       "    }\n",
       "</style>\n",
       "<table border=\"1\" class=\"dataframe\">\n",
       "  <thead>\n",
       "    <tr style=\"text-align: right;\">\n",
       "      <th></th>\n",
       "      <th>date</th>\n",
       "      <th>uid</th>\n",
       "      <th>price</th>\n",
       "    </tr>\n",
       "  </thead>\n",
       "  <tbody>\n",
       "    <tr>\n",
       "      <th>0</th>\n",
       "      <td>2017-07-10</td>\n",
       "      <td>41195147</td>\n",
       "      <td>499</td>\n",
       "    </tr>\n",
       "    <tr>\n",
       "      <th>1</th>\n",
       "      <td>2017-07-15</td>\n",
       "      <td>41195147</td>\n",
       "      <td>499</td>\n",
       "    </tr>\n",
       "    <tr>\n",
       "      <th>2</th>\n",
       "      <td>2017-11-12</td>\n",
       "      <td>41195147</td>\n",
       "      <td>599</td>\n",
       "    </tr>\n",
       "    <tr>\n",
       "      <th>3</th>\n",
       "      <td>2017-09-26</td>\n",
       "      <td>91591874</td>\n",
       "      <td>299</td>\n",
       "    </tr>\n",
       "    <tr>\n",
       "      <th>4</th>\n",
       "      <td>2017-12-01</td>\n",
       "      <td>91591874</td>\n",
       "      <td>599</td>\n",
       "    </tr>\n",
       "  </tbody>\n",
       "</table>\n",
       "</div>"
      ],
      "text/plain": [
       "         date       uid  price\n",
       "0  2017-07-10  41195147    499\n",
       "1  2017-07-15  41195147    499\n",
       "2  2017-11-12  41195147    599\n",
       "3  2017-09-26  91591874    299\n",
       "4  2017-12-01  91591874    599"
      ]
     },
     "execution_count": 219,
     "metadata": {},
     "output_type": "execute_result"
    }
   ],
   "source": [
    "purchases.head()"
   ]
  },
  {
   "cell_type": "code",
   "execution_count": 220,
   "metadata": {},
   "outputs": [
    {
     "name": "stdout",
     "output_type": "stream",
     "text": [
      "(10000, 6)\n",
      "(9006, 3)\n"
     ]
    }
   ],
   "source": [
    "# Firmanın kayıtlı 10000 tane müşerisi vardır\n",
    "# Toplamda eldeki veri setinde 9006 adet satış gerçekleşmiştir.\n",
    "print(users.shape)\n",
    "print(purchases.shape)"
   ]
  },
  {
   "cell_type": "code",
   "execution_count": 221,
   "metadata": {},
   "outputs": [
    {
     "data": {
      "text/plain": [
       "67972857    28\n",
       "41217161    28\n",
       "82914310    26\n",
       "83611817    25\n",
       "44628001    25\n",
       "            ..\n",
       "41045336     1\n",
       "23543063     1\n",
       "97470516     1\n",
       "20737349     1\n",
       "50813295     1\n",
       "Name: uid, Length: 1322, dtype: int64"
      ]
     },
     "execution_count": 221,
     "metadata": {},
     "output_type": "execute_result"
    }
   ],
   "source": [
    "# Kaç farklı müşteirnin işlem yaptığına bakalım\n",
    "purchases[\"uid\"].nunique() # 1332\n",
    "purchases[\"uid\"].value_counts()"
   ]
  },
  {
   "cell_type": "markdown",
   "metadata": {},
   "source": [
    "**9006 adet işlemi uniq müşteri sayısının 1332 olduğunu görmekteyiz. Yani bazı müşteriler birden fazla işlem yapmıştır. Örneğin üstteki çıktıya baktığımıda hangi müşterilerin kaç kez saın alma yaptığını görebilmekteyiz. Mesela 67972857 id li müşteri 28 kez işlem yapmıştır.**"
   ]
  },
  {
   "cell_type": "code",
   "execution_count": null,
   "metadata": {},
   "outputs": [],
   "source": []
  },
  {
   "cell_type": "markdown",
   "metadata": {},
   "source": [
    "## Satış ve Kullanıcı (Purchase ve Users ) tablolarının birleştirilmesi ve Analiz Edilmesi\n",
    "\n",
    "* Satış verileri ile kullnaıcı verileri birleştirilerek kullanıcların satış durumlarına göre segmentlere ayırma işlem için gerekli işlemleri yapmış oluyoruz\n",
    "* Birleştirme işlemini satın alma yapmış müşterilere göre yapmaktayız. Çünkü segmentasyonu satış verilrine göre yapacağız\n",
    "* Users veri setinde 10000 gözlem var. Bu da demek oluyor ki firmanın 10000 müşterisi vardır. Ve puchase veri setinde 9006 gözlem vardır. Bu da 9006 adet satın alma yapılddığını gösteriyor. Dolayısı ile iki veri setini Purchase tablosuna göre birleştireceğim\n",
    "* Elde ettiğim veriyi görselleştirme ve tnımlayıcı istatistiklerle  inceleyeceğim"
   ]
  },
  {
   "cell_type": "code",
   "execution_count": 222,
   "metadata": {},
   "outputs": [
    {
     "data": {
      "text/plain": [
       "(9006, 8)"
      ]
     },
     "execution_count": 222,
     "metadata": {},
     "output_type": "execute_result"
    }
   ],
   "source": [
    "# Tablları birleştirme\n",
    "df = purchases.merge(users, how=\"inner\", on=\"uid\")\n",
    "df.shape"
   ]
  },
  {
   "cell_type": "code",
   "execution_count": 223,
   "metadata": {},
   "outputs": [
    {
     "name": "stdout",
     "output_type": "stream",
     "text": [
      "<class 'pandas.core.frame.DataFrame'>\n",
      "Int64Index: 9006 entries, 0 to 9005\n",
      "Data columns (total 8 columns):\n",
      " #   Column    Non-Null Count  Dtype \n",
      "---  ------    --------------  ----- \n",
      " 0   date      9006 non-null   object\n",
      " 1   uid       9006 non-null   int64 \n",
      " 2   price     9006 non-null   int64 \n",
      " 3   reg_date  9006 non-null   object\n",
      " 4   device    9006 non-null   object\n",
      " 5   gender    9006 non-null   object\n",
      " 6   country   9006 non-null   object\n",
      " 7   age       9006 non-null   int64 \n",
      "dtypes: int64(3), object(5)\n",
      "memory usage: 633.2+ KB\n"
     ]
    }
   ],
   "source": [
    "df.info()"
   ]
  },
  {
   "cell_type": "code",
   "execution_count": 224,
   "metadata": {},
   "outputs": [],
   "source": [
    "# Yaş değişkenini kategorilere ayıralaım,  \n",
    "df[\"Age_CAT\"]=pd.cut(df[\"age\"], bins =[0,18,24,30,51,df[\"age\"].max()],labels=[\"0_18\",\"19_24\",\"25_30\",\"31_50\",\"51+\"])"
   ]
  },
  {
   "cell_type": "code",
   "execution_count": 225,
   "metadata": {},
   "outputs": [
    {
     "data": {
      "image/png": "[encoded data removed]",
      "text/plain": [
       "<Figure size 1368x360 with 4 Axes>"
      ]
     },
     "metadata": {
      "needs_background": "light"
     },
     "output_type": "display_data"
    }
   ],
   "source": [
    "#Kategoriklerin incelenmesi\n",
    "fig, axes = plt.subplots(1, 4, figsize=(19, 5))\n",
    "cat_var =[\"country\",\"device\",\"gender\",\"Age_CAT\"]\n",
    "for i in range(4):\n",
    "     sns.countplot(ax=axes[i],data=df, x= cat_var[i])\n"
   ]
  },
  {
   "cell_type": "code",
   "execution_count": 226,
   "metadata": {},
   "outputs": [
    {
     "data": {
      "text/html": [
       "<div>\n",
       "<style scoped>\n",
       "    .dataframe tbody tr th:only-of-type {\n",
       "        vertical-align: middle;\n",
       "    }\n",
       "\n",
       "    .dataframe tbody tr th {\n",
       "        vertical-align: top;\n",
       "    }\n",
       "\n",
       "    .dataframe thead th {\n",
       "        text-align: right;\n",
       "    }\n",
       "</style>\n",
       "<table border=\"1\" class=\"dataframe\">\n",
       "  <thead>\n",
       "    <tr style=\"text-align: right;\">\n",
       "      <th></th>\n",
       "      <th>count</th>\n",
       "      <th>mean</th>\n",
       "      <th>std</th>\n",
       "      <th>min</th>\n",
       "      <th>25%</th>\n",
       "      <th>50%</th>\n",
       "      <th>75%</th>\n",
       "      <th>max</th>\n",
       "    </tr>\n",
       "  </thead>\n",
       "  <tbody>\n",
       "    <tr>\n",
       "      <th>age</th>\n",
       "      <td>9006.0</td>\n",
       "      <td>23.922274</td>\n",
       "      <td>9.044646</td>\n",
       "      <td>15.0</td>\n",
       "      <td>17.0</td>\n",
       "      <td>21.0</td>\n",
       "      <td>28.0</td>\n",
       "      <td>75.0</td>\n",
       "    </tr>\n",
       "    <tr>\n",
       "      <th>price</th>\n",
       "      <td>9006.0</td>\n",
       "      <td>406.772596</td>\n",
       "      <td>187.918230</td>\n",
       "      <td>99.0</td>\n",
       "      <td>299.0</td>\n",
       "      <td>299.0</td>\n",
       "      <td>499.0</td>\n",
       "      <td>899.0</td>\n",
       "    </tr>\n",
       "  </tbody>\n",
       "</table>\n",
       "</div>"
      ],
      "text/plain": [
       "        count        mean         std   min    25%    50%    75%    max\n",
       "age    9006.0   23.922274    9.044646  15.0   17.0   21.0   28.0   75.0\n",
       "price  9006.0  406.772596  187.918230  99.0  299.0  299.0  499.0  899.0"
      ]
     },
     "execution_count": 226,
     "metadata": {},
     "output_type": "execute_result"
    }
   ],
   "source": [
    "df[[\"age\",\"price\"]].describe().T"
   ]
  },
  {
   "cell_type": "code",
   "execution_count": 227,
   "metadata": {},
   "outputs": [
    {
     "data": {
      "image/png": "[encoded data removed]",
      "text/plain": [
       "<Figure size 1296x720 with 10 Axes>"
      ]
     },
     "metadata": {
      "needs_background": "light"
     },
     "output_type": "display_data"
    }
   ],
   "source": [
    "# Yaş ve Price değişkenlerinin kategoriklere göre boxplotları\n",
    "fig, axes = plt.subplots(2, 5, figsize=(18, 10))\n",
    "cat_var =[\"country\",\"device\",\"gender\",\"Age_CAT\"]\n",
    "num_var =[\"price\",\"age\"]\n",
    "for i in range(2):\n",
    "    for k in range(4):\n",
    "        sns.boxplot(ax=axes[i,k+1],data=df, x= cat_var[k], y=num_var[i])\n",
    "    sns.boxplot(ax=axes[i,0], data=df, y=num_var[i], color=\"g\")\n",
    "  \n"
   ]
  },
  {
   "cell_type": "markdown",
   "metadata": {},
   "source": [
    "**Grafilera bakığımızda, price değişkeni ülkelere , dvicelere ve cinsiyet ve yaş kategorileri değişkenine göre farklılıklar göstermektedir Bu bizim için persona tanımlarken büyük ölçüde yol gösterici olmaktadır**"
   ]
  },
  {
   "cell_type": "markdown",
   "metadata": {},
   "source": [
    "## Kategorik Kırılımlara Göre Price'ın incelenmesi ve Personaların tanımlanması\n",
    "\n",
    "**Fiyatı ülkelerin cihazların ve cinsiyetin ve yaşın kırılımında incelemeye çalışalım**"
   ]
  },
  {
   "cell_type": "markdown",
   "metadata": {},
   "source": [
    "#### ADIM1\n",
    "**Veriyi Ülkelere göre kırıp price değişkeninin ortalamasına bakalım**"
   ]
  },
  {
   "cell_type": "code",
   "execution_count": 228,
   "metadata": {},
   "outputs": [
    {
     "data": {
      "text/html": [
       "<div>\n",
       "<style scoped>\n",
       "    .dataframe tbody tr th:only-of-type {\n",
       "        vertical-align: middle;\n",
       "    }\n",
       "\n",
       "    .dataframe tbody tr th {\n",
       "        vertical-align: top;\n",
       "    }\n",
       "\n",
       "    .dataframe thead tr th {\n",
       "        text-align: left;\n",
       "    }\n",
       "\n",
       "    .dataframe thead tr:last-of-type th {\n",
       "        text-align: right;\n",
       "    }\n",
       "</style>\n",
       "<table border=\"1\" class=\"dataframe\">\n",
       "  <thead>\n",
       "    <tr>\n",
       "      <th></th>\n",
       "      <th colspan=\"2\" halign=\"left\">price</th>\n",
       "    </tr>\n",
       "    <tr>\n",
       "      <th></th>\n",
       "      <th>mean</th>\n",
       "      <th>count</th>\n",
       "    </tr>\n",
       "    <tr>\n",
       "      <th>country</th>\n",
       "      <th></th>\n",
       "      <th></th>\n",
       "    </tr>\n",
       "  </thead>\n",
       "  <tbody>\n",
       "    <tr>\n",
       "      <th>BRA</th>\n",
       "      <td>409.838901</td>\n",
       "      <td>2694</td>\n",
       "    </tr>\n",
       "    <tr>\n",
       "      <th>CAN</th>\n",
       "      <td>398.248120</td>\n",
       "      <td>399</td>\n",
       "    </tr>\n",
       "    <tr>\n",
       "      <th>DEU</th>\n",
       "      <td>409.054645</td>\n",
       "      <td>915</td>\n",
       "    </tr>\n",
       "    <tr>\n",
       "      <th>FRA</th>\n",
       "      <td>401.757353</td>\n",
       "      <td>544</td>\n",
       "    </tr>\n",
       "    <tr>\n",
       "      <th>TUR</th>\n",
       "      <td>415.417910</td>\n",
       "      <td>804</td>\n",
       "    </tr>\n",
       "    <tr>\n",
       "      <th>USA</th>\n",
       "      <td>403.712329</td>\n",
       "      <td>3650</td>\n",
       "    </tr>\n",
       "  </tbody>\n",
       "</table>\n",
       "</div>"
      ],
      "text/plain": [
       "              price      \n",
       "               mean count\n",
       "country                  \n",
       "BRA      409.838901  2694\n",
       "CAN      398.248120   399\n",
       "DEU      409.054645   915\n",
       "FRA      401.757353   544\n",
       "TUR      415.417910   804\n",
       "USA      403.712329  3650"
      ]
     },
     "execution_count": 228,
     "metadata": {},
     "output_type": "execute_result"
    }
   ],
   "source": [
    "df.groupby([\"country\"]).agg({\"price\":[\"mean\",\"count\"]})"
   ]
  },
  {
   "cell_type": "markdown",
   "metadata": {},
   "source": [
    "#### ADIM2\n",
    "**Veriyi Ülkeler + Cihazlara göre kırıp price değişkeninin ortalamasına bakalım**"
   ]
  },
  {
   "cell_type": "code",
   "execution_count": 229,
   "metadata": {},
   "outputs": [
    {
     "data": {
      "text/html": [
       "<div>\n",
       "<style scoped>\n",
       "    .dataframe tbody tr th:only-of-type {\n",
       "        vertical-align: middle;\n",
       "    }\n",
       "\n",
       "    .dataframe tbody tr th {\n",
       "        vertical-align: top;\n",
       "    }\n",
       "\n",
       "    .dataframe thead tr th {\n",
       "        text-align: left;\n",
       "    }\n",
       "\n",
       "    .dataframe thead tr:last-of-type th {\n",
       "        text-align: right;\n",
       "    }\n",
       "</style>\n",
       "<table border=\"1\" class=\"dataframe\">\n",
       "  <thead>\n",
       "    <tr>\n",
       "      <th></th>\n",
       "      <th></th>\n",
       "      <th colspan=\"2\" halign=\"left\">price</th>\n",
       "    </tr>\n",
       "    <tr>\n",
       "      <th></th>\n",
       "      <th></th>\n",
       "      <th>mean</th>\n",
       "      <th>count</th>\n",
       "    </tr>\n",
       "    <tr>\n",
       "      <th>country</th>\n",
       "      <th>device</th>\n",
       "      <th></th>\n",
       "      <th></th>\n",
       "    </tr>\n",
       "  </thead>\n",
       "  <tbody>\n",
       "    <tr>\n",
       "      <th rowspan=\"2\" valign=\"top\">BRA</th>\n",
       "      <th>and</th>\n",
       "      <td>412.985594</td>\n",
       "      <td>1666</td>\n",
       "    </tr>\n",
       "    <tr>\n",
       "      <th>iOS</th>\n",
       "      <td>404.739300</td>\n",
       "      <td>1028</td>\n",
       "    </tr>\n",
       "    <tr>\n",
       "      <th rowspan=\"2\" valign=\"top\">CAN</th>\n",
       "      <th>and</th>\n",
       "      <td>406.826087</td>\n",
       "      <td>230</td>\n",
       "    </tr>\n",
       "    <tr>\n",
       "      <th>iOS</th>\n",
       "      <td>386.573964</td>\n",
       "      <td>169</td>\n",
       "    </tr>\n",
       "    <tr>\n",
       "      <th rowspan=\"2\" valign=\"top\">DEU</th>\n",
       "      <th>and</th>\n",
       "      <td>402.474903</td>\n",
       "      <td>518</td>\n",
       "    </tr>\n",
       "    <tr>\n",
       "      <th>iOS</th>\n",
       "      <td>417.639798</td>\n",
       "      <td>397</td>\n",
       "    </tr>\n",
       "    <tr>\n",
       "      <th rowspan=\"2\" valign=\"top\">FRA</th>\n",
       "      <th>and</th>\n",
       "      <td>418.377163</td>\n",
       "      <td>289</td>\n",
       "    </tr>\n",
       "    <tr>\n",
       "      <th>iOS</th>\n",
       "      <td>382.921569</td>\n",
       "      <td>255</td>\n",
       "    </tr>\n",
       "    <tr>\n",
       "      <th rowspan=\"2\" valign=\"top\">TUR</th>\n",
       "      <th>and</th>\n",
       "      <td>433.913793</td>\n",
       "      <td>464</td>\n",
       "    </tr>\n",
       "    <tr>\n",
       "      <th>iOS</th>\n",
       "      <td>390.176471</td>\n",
       "      <td>340</td>\n",
       "    </tr>\n",
       "    <tr>\n",
       "      <th rowspan=\"2\" valign=\"top\">USA</th>\n",
       "      <th>and</th>\n",
       "      <td>399.000000</td>\n",
       "      <td>2178</td>\n",
       "    </tr>\n",
       "    <tr>\n",
       "      <th>iOS</th>\n",
       "      <td>410.684783</td>\n",
       "      <td>1472</td>\n",
       "    </tr>\n",
       "  </tbody>\n",
       "</table>\n",
       "</div>"
      ],
      "text/plain": [
       "                     price      \n",
       "                      mean count\n",
       "country device                  \n",
       "BRA     and     412.985594  1666\n",
       "        iOS     404.739300  1028\n",
       "CAN     and     406.826087   230\n",
       "        iOS     386.573964   169\n",
       "DEU     and     402.474903   518\n",
       "        iOS     417.639798   397\n",
       "FRA     and     418.377163   289\n",
       "        iOS     382.921569   255\n",
       "TUR     and     433.913793   464\n",
       "        iOS     390.176471   340\n",
       "USA     and     399.000000  2178\n",
       "        iOS     410.684783  1472"
      ]
     },
     "execution_count": 229,
     "metadata": {},
     "output_type": "execute_result"
    }
   ],
   "source": [
    "df.groupby([\"country\",\"device\"]).agg({\"price\":[\"mean\",\"count\"]})\n"
   ]
  },
  {
   "cell_type": "markdown",
   "metadata": {},
   "source": [
    "#### ADIM3\n",
    "**Veriyi Ülkeler + Cihazlar + Cinsiyete göre kırıp price değişkeninin ortalamasına bakalım**"
   ]
  },
  {
   "cell_type": "code",
   "execution_count": 230,
   "metadata": {},
   "outputs": [
    {
     "data": {
      "text/html": [
       "<div>\n",
       "<style scoped>\n",
       "    .dataframe tbody tr th:only-of-type {\n",
       "        vertical-align: middle;\n",
       "    }\n",
       "\n",
       "    .dataframe tbody tr th {\n",
       "        vertical-align: top;\n",
       "    }\n",
       "\n",
       "    .dataframe thead tr th {\n",
       "        text-align: left;\n",
       "    }\n",
       "\n",
       "    .dataframe thead tr:last-of-type th {\n",
       "        text-align: right;\n",
       "    }\n",
       "</style>\n",
       "<table border=\"1\" class=\"dataframe\">\n",
       "  <thead>\n",
       "    <tr>\n",
       "      <th></th>\n",
       "      <th></th>\n",
       "      <th></th>\n",
       "      <th colspan=\"2\" halign=\"left\">price</th>\n",
       "    </tr>\n",
       "    <tr>\n",
       "      <th></th>\n",
       "      <th></th>\n",
       "      <th></th>\n",
       "      <th>mean</th>\n",
       "      <th>count</th>\n",
       "    </tr>\n",
       "    <tr>\n",
       "      <th>country</th>\n",
       "      <th>device</th>\n",
       "      <th>gender</th>\n",
       "      <th></th>\n",
       "      <th></th>\n",
       "    </tr>\n",
       "  </thead>\n",
       "  <tbody>\n",
       "    <tr>\n",
       "      <th rowspan=\"4\" valign=\"top\">BRA</th>\n",
       "      <th rowspan=\"2\" valign=\"top\">and</th>\n",
       "      <th>F</th>\n",
       "      <td>410.503417</td>\n",
       "      <td>878</td>\n",
       "    </tr>\n",
       "    <tr>\n",
       "      <th>M</th>\n",
       "      <td>415.751269</td>\n",
       "      <td>788</td>\n",
       "    </tr>\n",
       "    <tr>\n",
       "      <th rowspan=\"2\" valign=\"top\">iOS</th>\n",
       "      <th>F</th>\n",
       "      <td>402.455285</td>\n",
       "      <td>492</td>\n",
       "    </tr>\n",
       "    <tr>\n",
       "      <th>M</th>\n",
       "      <td>406.835821</td>\n",
       "      <td>536</td>\n",
       "    </tr>\n",
       "    <tr>\n",
       "      <th rowspan=\"4\" valign=\"top\">CAN</th>\n",
       "      <th rowspan=\"2\" valign=\"top\">and</th>\n",
       "      <th>F</th>\n",
       "      <td>384.507246</td>\n",
       "      <td>138</td>\n",
       "    </tr>\n",
       "    <tr>\n",
       "      <th>M</th>\n",
       "      <td>440.304348</td>\n",
       "      <td>92</td>\n",
       "    </tr>\n",
       "    <tr>\n",
       "      <th rowspan=\"2\" valign=\"top\">iOS</th>\n",
       "      <th>F</th>\n",
       "      <td>380.081081</td>\n",
       "      <td>74</td>\n",
       "    </tr>\n",
       "    <tr>\n",
       "      <th>M</th>\n",
       "      <td>391.631579</td>\n",
       "      <td>95</td>\n",
       "    </tr>\n",
       "    <tr>\n",
       "      <th rowspan=\"4\" valign=\"top\">DEU</th>\n",
       "      <th rowspan=\"2\" valign=\"top\">and</th>\n",
       "      <th>F</th>\n",
       "      <td>393.237288</td>\n",
       "      <td>295</td>\n",
       "    </tr>\n",
       "    <tr>\n",
       "      <th>M</th>\n",
       "      <td>414.695067</td>\n",
       "      <td>223</td>\n",
       "    </tr>\n",
       "    <tr>\n",
       "      <th rowspan=\"2\" valign=\"top\">iOS</th>\n",
       "      <th>F</th>\n",
       "      <td>421.377622</td>\n",
       "      <td>286</td>\n",
       "    </tr>\n",
       "    <tr>\n",
       "      <th>M</th>\n",
       "      <td>408.009009</td>\n",
       "      <td>111</td>\n",
       "    </tr>\n",
       "    <tr>\n",
       "      <th rowspan=\"4\" valign=\"top\">FRA</th>\n",
       "      <th rowspan=\"2\" valign=\"top\">and</th>\n",
       "      <th>F</th>\n",
       "      <td>424.308642</td>\n",
       "      <td>162</td>\n",
       "    </tr>\n",
       "    <tr>\n",
       "      <th>M</th>\n",
       "      <td>410.811024</td>\n",
       "      <td>127</td>\n",
       "    </tr>\n",
       "    <tr>\n",
       "      <th rowspan=\"2\" valign=\"top\">iOS</th>\n",
       "      <th>F</th>\n",
       "      <td>365.393443</td>\n",
       "      <td>122</td>\n",
       "    </tr>\n",
       "    <tr>\n",
       "      <th>M</th>\n",
       "      <td>399.000000</td>\n",
       "      <td>133</td>\n",
       "    </tr>\n",
       "    <tr>\n",
       "      <th rowspan=\"4\" valign=\"top\">TUR</th>\n",
       "      <th rowspan=\"2\" valign=\"top\">and</th>\n",
       "      <th>F</th>\n",
       "      <td>411.734082</td>\n",
       "      <td>267</td>\n",
       "    </tr>\n",
       "    <tr>\n",
       "      <th>M</th>\n",
       "      <td>463.974619</td>\n",
       "      <td>197</td>\n",
       "    </tr>\n",
       "    <tr>\n",
       "      <th rowspan=\"2\" valign=\"top\">iOS</th>\n",
       "      <th>F</th>\n",
       "      <td>399.473934</td>\n",
       "      <td>211</td>\n",
       "    </tr>\n",
       "    <tr>\n",
       "      <th>M</th>\n",
       "      <td>374.968992</td>\n",
       "      <td>129</td>\n",
       "    </tr>\n",
       "    <tr>\n",
       "      <th rowspan=\"4\" valign=\"top\">USA</th>\n",
       "      <th rowspan=\"2\" valign=\"top\">and</th>\n",
       "      <th>F</th>\n",
       "      <td>390.541353</td>\n",
       "      <td>1064</td>\n",
       "    </tr>\n",
       "    <tr>\n",
       "      <th>M</th>\n",
       "      <td>407.078995</td>\n",
       "      <td>1114</td>\n",
       "    </tr>\n",
       "    <tr>\n",
       "      <th rowspan=\"2\" valign=\"top\">iOS</th>\n",
       "      <th>F</th>\n",
       "      <td>409.099751</td>\n",
       "      <td>802</td>\n",
       "    </tr>\n",
       "    <tr>\n",
       "      <th>M</th>\n",
       "      <td>412.582090</td>\n",
       "      <td>670</td>\n",
       "    </tr>\n",
       "  </tbody>\n",
       "</table>\n",
       "</div>"
      ],
      "text/plain": [
       "                            price      \n",
       "                             mean count\n",
       "country device gender                  \n",
       "BRA     and    F       410.503417   878\n",
       "               M       415.751269   788\n",
       "        iOS    F       402.455285   492\n",
       "               M       406.835821   536\n",
       "CAN     and    F       384.507246   138\n",
       "               M       440.304348    92\n",
       "        iOS    F       380.081081    74\n",
       "               M       391.631579    95\n",
       "DEU     and    F       393.237288   295\n",
       "               M       414.695067   223\n",
       "        iOS    F       421.377622   286\n",
       "               M       408.009009   111\n",
       "FRA     and    F       424.308642   162\n",
       "               M       410.811024   127\n",
       "        iOS    F       365.393443   122\n",
       "               M       399.000000   133\n",
       "TUR     and    F       411.734082   267\n",
       "               M       463.974619   197\n",
       "        iOS    F       399.473934   211\n",
       "               M       374.968992   129\n",
       "USA     and    F       390.541353  1064\n",
       "               M       407.078995  1114\n",
       "        iOS    F       409.099751   802\n",
       "               M       412.582090   670"
      ]
     },
     "execution_count": 230,
     "metadata": {},
     "output_type": "execute_result"
    }
   ],
   "source": [
    "df.groupby([\"country\",\"device\",\"gender\"]).agg({\"price\":[\"mean\",\"count\"]}).head(50)\n"
   ]
  },
  {
   "cell_type": "markdown",
   "metadata": {},
   "source": [
    "#### ADIM4\n",
    "**Veriyi Ülkeler + Cihazlar + Cinsiyete + Yaş Kategorsine göre kırıp price değişkeninin ortalamasına bakalım**"
   ]
  },
  {
   "cell_type": "code",
   "execution_count": 231,
   "metadata": {},
   "outputs": [
    {
     "data": {
      "text/html": [
       "<div>\n",
       "<style scoped>\n",
       "    .dataframe tbody tr th:only-of-type {\n",
       "        vertical-align: middle;\n",
       "    }\n",
       "\n",
       "    .dataframe tbody tr th {\n",
       "        vertical-align: top;\n",
       "    }\n",
       "\n",
       "    .dataframe thead tr th {\n",
       "        text-align: left;\n",
       "    }\n",
       "\n",
       "    .dataframe thead tr:last-of-type th {\n",
       "        text-align: right;\n",
       "    }\n",
       "</style>\n",
       "<table border=\"1\" class=\"dataframe\">\n",
       "  <thead>\n",
       "    <tr>\n",
       "      <th></th>\n",
       "      <th></th>\n",
       "      <th></th>\n",
       "      <th></th>\n",
       "      <th colspan=\"2\" halign=\"left\">price</th>\n",
       "    </tr>\n",
       "    <tr>\n",
       "      <th></th>\n",
       "      <th></th>\n",
       "      <th></th>\n",
       "      <th></th>\n",
       "      <th>mean</th>\n",
       "      <th>count</th>\n",
       "    </tr>\n",
       "    <tr>\n",
       "      <th>country</th>\n",
       "      <th>device</th>\n",
       "      <th>gender</th>\n",
       "      <th>Age_CAT</th>\n",
       "      <th></th>\n",
       "      <th></th>\n",
       "    </tr>\n",
       "  </thead>\n",
       "  <tbody>\n",
       "    <tr>\n",
       "      <th>CAN</th>\n",
       "      <th>and</th>\n",
       "      <th>M</th>\n",
       "      <th>0_18</th>\n",
       "      <td>499.000000</td>\n",
       "      <td>20</td>\n",
       "    </tr>\n",
       "    <tr>\n",
       "      <th>TUR</th>\n",
       "      <th>and</th>\n",
       "      <th>M</th>\n",
       "      <th>0_18</th>\n",
       "      <td>484.185185</td>\n",
       "      <td>54</td>\n",
       "    </tr>\n",
       "    <tr>\n",
       "      <th>CAN</th>\n",
       "      <th>and</th>\n",
       "      <th>M</th>\n",
       "      <th>25_30</th>\n",
       "      <td>474.000000</td>\n",
       "      <td>8</td>\n",
       "    </tr>\n",
       "    <tr>\n",
       "      <th>USA</th>\n",
       "      <th>and</th>\n",
       "      <th>F</th>\n",
       "      <th>51+</th>\n",
       "      <td>474.000000</td>\n",
       "      <td>4</td>\n",
       "    </tr>\n",
       "    <tr>\n",
       "      <th rowspan=\"4\" valign=\"top\">FRA</th>\n",
       "      <th rowspan=\"3\" valign=\"top\">and</th>\n",
       "      <th rowspan=\"3\" valign=\"top\">F</th>\n",
       "      <th>31_50</th>\n",
       "      <td>472.333333</td>\n",
       "      <td>15</td>\n",
       "    </tr>\n",
       "    <tr>\n",
       "      <th>...</th>\n",
       "      <td>...</td>\n",
       "      <td>...</td>\n",
       "    </tr>\n",
       "    <tr>\n",
       "      <th>51+</th>\n",
       "      <td>NaN</td>\n",
       "      <td>0</td>\n",
       "    </tr>\n",
       "    <tr>\n",
       "      <th>iOS</th>\n",
       "      <th>F</th>\n",
       "      <th>51+</th>\n",
       "      <td>NaN</td>\n",
       "      <td>0</td>\n",
       "    </tr>\n",
       "    <tr>\n",
       "      <th rowspan=\"3\" valign=\"top\">TUR</th>\n",
       "      <th>and</th>\n",
       "      <th>M</th>\n",
       "      <th>51+</th>\n",
       "      <td>NaN</td>\n",
       "      <td>0</td>\n",
       "    </tr>\n",
       "    <tr>\n",
       "      <th rowspan=\"2\" valign=\"top\">iOS</th>\n",
       "      <th>F</th>\n",
       "      <th>51+</th>\n",
       "      <td>NaN</td>\n",
       "      <td>0</td>\n",
       "    </tr>\n",
       "    <tr>\n",
       "      <th>M</th>\n",
       "      <th>51+</th>\n",
       "      <td>NaN</td>\n",
       "      <td>0</td>\n",
       "    </tr>\n",
       "  </tbody>\n",
       "</table>\n",
       "<p>120 rows × 2 columns</p>\n",
       "</div>"
      ],
      "text/plain": [
       "                                    price      \n",
       "                                     mean count\n",
       "country device gender Age_CAT                  \n",
       "CAN     and    M      0_18     499.000000    20\n",
       "TUR     and    M      0_18     484.185185    54\n",
       "CAN     and    M      25_30    474.000000     8\n",
       "USA     and    F      51+      474.000000     4\n",
       "FRA     and    F      31_50    472.333333    15\n",
       "...                                   ...   ...\n",
       "                      51+             NaN     0\n",
       "        iOS    F      51+             NaN     0\n",
       "TUR     and    M      51+             NaN     0\n",
       "        iOS    F      51+             NaN     0\n",
       "               M      51+             NaN     0\n",
       "\n",
       "[120 rows x 2 columns]"
      ]
     },
     "execution_count": 231,
     "metadata": {},
     "output_type": "execute_result"
    }
   ],
   "source": [
    "df.groupby([\"country\",\"device\",\"gender\",\"Age_CAT\"]).agg({\"price\":[\"mean\",\"count\"]}).sort_values((\"price\",\"mean\"), ascending=False)"
   ]
  },
  {
   "cell_type": "markdown",
   "metadata": {},
   "source": [
    "**Veriyi ülke, cihaz, cinsiyet ve yaş kırılımında derleyerek 9006 adet alışveriş işleminden  nihayetinde 120 adet persona ortaya çıkarmış olduk. Bunu tam olarak oluşturmak için şimdi işlemlere devam edelim. yapılan kırılımlar sonucu oluşan veryi   fiyata göre sıralayalım ve kaydedelim**"
   ]
  },
  {
   "cell_type": "code",
   "execution_count": 232,
   "metadata": {},
   "outputs": [],
   "source": [
    "agg_df = df.groupby([\"country\",\"device\",\"gender\",\"Age_CAT\"]).agg({\"price\":\"mean\"}).sort_values(\"price\", ascending=False)"
   ]
  },
  {
   "cell_type": "code",
   "execution_count": 233,
   "metadata": {},
   "outputs": [
    {
     "data": {
      "text/html": [
       "<div>\n",
       "<style scoped>\n",
       "    .dataframe tbody tr th:only-of-type {\n",
       "        vertical-align: middle;\n",
       "    }\n",
       "\n",
       "    .dataframe tbody tr th {\n",
       "        vertical-align: top;\n",
       "    }\n",
       "\n",
       "    .dataframe thead th {\n",
       "        text-align: right;\n",
       "    }\n",
       "</style>\n",
       "<table border=\"1\" class=\"dataframe\">\n",
       "  <thead>\n",
       "    <tr style=\"text-align: right;\">\n",
       "      <th></th>\n",
       "      <th></th>\n",
       "      <th></th>\n",
       "      <th></th>\n",
       "      <th>price</th>\n",
       "    </tr>\n",
       "    <tr>\n",
       "      <th>country</th>\n",
       "      <th>device</th>\n",
       "      <th>gender</th>\n",
       "      <th>Age_CAT</th>\n",
       "      <th></th>\n",
       "    </tr>\n",
       "  </thead>\n",
       "  <tbody>\n",
       "    <tr>\n",
       "      <th>CAN</th>\n",
       "      <th>and</th>\n",
       "      <th>M</th>\n",
       "      <th>0_18</th>\n",
       "      <td>499.000000</td>\n",
       "    </tr>\n",
       "    <tr>\n",
       "      <th>TUR</th>\n",
       "      <th>and</th>\n",
       "      <th>M</th>\n",
       "      <th>0_18</th>\n",
       "      <td>484.185185</td>\n",
       "    </tr>\n",
       "    <tr>\n",
       "      <th>CAN</th>\n",
       "      <th>and</th>\n",
       "      <th>M</th>\n",
       "      <th>25_30</th>\n",
       "      <td>474.000000</td>\n",
       "    </tr>\n",
       "    <tr>\n",
       "      <th>USA</th>\n",
       "      <th>and</th>\n",
       "      <th>F</th>\n",
       "      <th>51+</th>\n",
       "      <td>474.000000</td>\n",
       "    </tr>\n",
       "    <tr>\n",
       "      <th>FRA</th>\n",
       "      <th>and</th>\n",
       "      <th>F</th>\n",
       "      <th>31_50</th>\n",
       "      <td>472.333333</td>\n",
       "    </tr>\n",
       "  </tbody>\n",
       "</table>\n",
       "</div>"
      ],
      "text/plain": [
       "                                    price\n",
       "country device gender Age_CAT            \n",
       "CAN     and    M      0_18     499.000000\n",
       "TUR     and    M      0_18     484.185185\n",
       "CAN     and    M      25_30    474.000000\n",
       "USA     and    F      51+      474.000000\n",
       "FRA     and    F      31_50    472.333333"
      ]
     },
     "execution_count": 233,
     "metadata": {},
     "output_type": "execute_result"
    }
   ],
   "source": [
    "agg_df.head()"
   ]
  },
  {
   "cell_type": "code",
   "execution_count": 234,
   "metadata": {},
   "outputs": [
    {
     "data": {
      "text/html": [
       "<div>\n",
       "<style scoped>\n",
       "    .dataframe tbody tr th:only-of-type {\n",
       "        vertical-align: middle;\n",
       "    }\n",
       "\n",
       "    .dataframe tbody tr th {\n",
       "        vertical-align: top;\n",
       "    }\n",
       "\n",
       "    .dataframe thead th {\n",
       "        text-align: right;\n",
       "    }\n",
       "</style>\n",
       "<table border=\"1\" class=\"dataframe\">\n",
       "  <thead>\n",
       "    <tr style=\"text-align: right;\">\n",
       "      <th></th>\n",
       "      <th>country</th>\n",
       "      <th>device</th>\n",
       "      <th>gender</th>\n",
       "      <th>Age_CAT</th>\n",
       "      <th>price</th>\n",
       "    </tr>\n",
       "  </thead>\n",
       "  <tbody>\n",
       "    <tr>\n",
       "      <th>0</th>\n",
       "      <td>CAN</td>\n",
       "      <td>and</td>\n",
       "      <td>M</td>\n",
       "      <td>0_18</td>\n",
       "      <td>499.000000</td>\n",
       "    </tr>\n",
       "    <tr>\n",
       "      <th>1</th>\n",
       "      <td>TUR</td>\n",
       "      <td>and</td>\n",
       "      <td>M</td>\n",
       "      <td>0_18</td>\n",
       "      <td>484.185185</td>\n",
       "    </tr>\n",
       "    <tr>\n",
       "      <th>2</th>\n",
       "      <td>CAN</td>\n",
       "      <td>and</td>\n",
       "      <td>M</td>\n",
       "      <td>25_30</td>\n",
       "      <td>474.000000</td>\n",
       "    </tr>\n",
       "    <tr>\n",
       "      <th>3</th>\n",
       "      <td>USA</td>\n",
       "      <td>and</td>\n",
       "      <td>F</td>\n",
       "      <td>51+</td>\n",
       "      <td>474.000000</td>\n",
       "    </tr>\n",
       "    <tr>\n",
       "      <th>4</th>\n",
       "      <td>FRA</td>\n",
       "      <td>and</td>\n",
       "      <td>F</td>\n",
       "      <td>31_50</td>\n",
       "      <td>472.333333</td>\n",
       "    </tr>\n",
       "  </tbody>\n",
       "</table>\n",
       "</div>"
      ],
      "text/plain": [
       "  country device gender Age_CAT       price\n",
       "0     CAN    and      M    0_18  499.000000\n",
       "1     TUR    and      M    0_18  484.185185\n",
       "2     CAN    and      M   25_30  474.000000\n",
       "3     USA    and      F     51+  474.000000\n",
       "4     FRA    and      F   31_50  472.333333"
      ]
     },
     "execution_count": 234,
     "metadata": {},
     "output_type": "execute_result"
    }
   ],
   "source": [
    "# oluşan personalar için artık bir indeks atadım\n",
    "agg_df.reset_index(inplace =True)\n",
    "agg_df.head()"
   ]
  },
  {
   "cell_type": "markdown",
   "metadata": {},
   "source": [
    "**Elde edilen veriye şimdi bakalım. Nihayetinde, Ülkeler(6)-->Cihaz(2)-->Cinsiyert(2)-->YaşKategorsi(5) olacak şekilde veride personalara erişmişt olduk** "
   ]
  },
  {
   "cell_type": "markdown",
   "metadata": {},
   "source": [
    "### Persona İsimlerini Oluşturma ve Son halini kaydetme"
   ]
  },
  {
   "cell_type": "code",
   "execution_count": 235,
   "metadata": {},
   "outputs": [
    {
     "data": {
      "text/html": [
       "<div>\n",
       "<style scoped>\n",
       "    .dataframe tbody tr th:only-of-type {\n",
       "        vertical-align: middle;\n",
       "    }\n",
       "\n",
       "    .dataframe tbody tr th {\n",
       "        vertical-align: top;\n",
       "    }\n",
       "\n",
       "    .dataframe thead th {\n",
       "        text-align: right;\n",
       "    }\n",
       "</style>\n",
       "<table border=\"1\" class=\"dataframe\">\n",
       "  <thead>\n",
       "    <tr style=\"text-align: right;\">\n",
       "      <th></th>\n",
       "      <th>country</th>\n",
       "      <th>device</th>\n",
       "      <th>gender</th>\n",
       "      <th>Age_CAT</th>\n",
       "      <th>price</th>\n",
       "      <th>customer_lavel_based</th>\n",
       "    </tr>\n",
       "  </thead>\n",
       "  <tbody>\n",
       "    <tr>\n",
       "      <th>0</th>\n",
       "      <td>CAN</td>\n",
       "      <td>and</td>\n",
       "      <td>M</td>\n",
       "      <td>0_18</td>\n",
       "      <td>499.000000</td>\n",
       "      <td>CAN_AND_M_0_18</td>\n",
       "    </tr>\n",
       "    <tr>\n",
       "      <th>1</th>\n",
       "      <td>TUR</td>\n",
       "      <td>and</td>\n",
       "      <td>M</td>\n",
       "      <td>0_18</td>\n",
       "      <td>484.185185</td>\n",
       "      <td>TUR_AND_M_0_18</td>\n",
       "    </tr>\n",
       "    <tr>\n",
       "      <th>2</th>\n",
       "      <td>CAN</td>\n",
       "      <td>and</td>\n",
       "      <td>M</td>\n",
       "      <td>25_30</td>\n",
       "      <td>474.000000</td>\n",
       "      <td>CAN_AND_M_25_30</td>\n",
       "    </tr>\n",
       "    <tr>\n",
       "      <th>3</th>\n",
       "      <td>USA</td>\n",
       "      <td>and</td>\n",
       "      <td>F</td>\n",
       "      <td>51+</td>\n",
       "      <td>474.000000</td>\n",
       "      <td>USA_AND_F_51+</td>\n",
       "    </tr>\n",
       "    <tr>\n",
       "      <th>4</th>\n",
       "      <td>FRA</td>\n",
       "      <td>and</td>\n",
       "      <td>F</td>\n",
       "      <td>31_50</td>\n",
       "      <td>472.333333</td>\n",
       "      <td>FRA_AND_F_31_50</td>\n",
       "    </tr>\n",
       "  </tbody>\n",
       "</table>\n",
       "</div>"
      ],
      "text/plain": [
       "  country device gender Age_CAT       price customer_lavel_based\n",
       "0     CAN    and      M    0_18  499.000000       CAN_AND_M_0_18\n",
       "1     TUR    and      M    0_18  484.185185       TUR_AND_M_0_18\n",
       "2     CAN    and      M   25_30  474.000000      CAN_AND_M_25_30\n",
       "3     USA    and      F     51+  474.000000        USA_AND_F_51+\n",
       "4     FRA    and      F   31_50  472.333333      FRA_AND_F_31_50"
      ]
     },
     "execution_count": 235,
     "metadata": {},
     "output_type": "execute_result"
    }
   ],
   "source": [
    "# Kırılımları tanımlayacak şekilde her bir personaya isim oluşturma\n",
    "agg_df[\"customer_lavel_based\"] = [row[0]+\"_\"+row[1].upper()+\"_\"+row[2]+\"_\"+row[3] for row in agg_df.values]\n",
    "agg_df.head()"
   ]
  },
  {
   "cell_type": "code",
   "execution_count": 236,
   "metadata": {},
   "outputs": [
    {
     "data": {
      "text/plain": [
       "<seaborn.axisgrid.FacetGrid at 0x1ba5ef7c2b0>"
      ]
     },
     "execution_count": 236,
     "metadata": {},
     "output_type": "execute_result"
    },
    {
     "data": {
      "image/png": "[encoded data removed]",
      "text/plain": [
       "<Figure size 404.625x360 with 1 Axes>"
      ]
     },
     "metadata": {
      "needs_background": "light"
     },
     "output_type": "display_data"
    }
   ],
   "source": [
    "sns.relplot(agg_df.index,agg_df[\"price\"], hue=agg_df[\"gender\"])"
   ]
  },
  {
   "cell_type": "code",
   "execution_count": 237,
   "metadata": {},
   "outputs": [
    {
     "data": {
      "text/html": [
       "<div>\n",
       "<style scoped>\n",
       "    .dataframe tbody tr th:only-of-type {\n",
       "        vertical-align: middle;\n",
       "    }\n",
       "\n",
       "    .dataframe tbody tr th {\n",
       "        vertical-align: top;\n",
       "    }\n",
       "\n",
       "    .dataframe thead th {\n",
       "        text-align: right;\n",
       "    }\n",
       "</style>\n",
       "<table border=\"1\" class=\"dataframe\">\n",
       "  <thead>\n",
       "    <tr style=\"text-align: right;\">\n",
       "      <th></th>\n",
       "      <th>customer_lavel_based</th>\n",
       "      <th>price</th>\n",
       "    </tr>\n",
       "  </thead>\n",
       "  <tbody>\n",
       "    <tr>\n",
       "      <th>0</th>\n",
       "      <td>CAN_AND_M_0_18</td>\n",
       "      <td>499.000000</td>\n",
       "    </tr>\n",
       "    <tr>\n",
       "      <th>1</th>\n",
       "      <td>TUR_AND_M_0_18</td>\n",
       "      <td>484.185185</td>\n",
       "    </tr>\n",
       "    <tr>\n",
       "      <th>2</th>\n",
       "      <td>CAN_AND_M_25_30</td>\n",
       "      <td>474.000000</td>\n",
       "    </tr>\n",
       "    <tr>\n",
       "      <th>3</th>\n",
       "      <td>USA_AND_F_51+</td>\n",
       "      <td>474.000000</td>\n",
       "    </tr>\n",
       "    <tr>\n",
       "      <th>4</th>\n",
       "      <td>FRA_AND_F_31_50</td>\n",
       "      <td>472.333333</td>\n",
       "    </tr>\n",
       "  </tbody>\n",
       "</table>\n",
       "</div>"
      ],
      "text/plain": [
       "  customer_lavel_based       price\n",
       "0       CAN_AND_M_0_18  499.000000\n",
       "1       TUR_AND_M_0_18  484.185185\n",
       "2      CAN_AND_M_25_30  474.000000\n",
       "3        USA_AND_F_51+  474.000000\n",
       "4      FRA_AND_F_31_50  472.333333"
      ]
     },
     "execution_count": 237,
     "metadata": {},
     "output_type": "execute_result"
    }
   ],
   "source": [
    "# Persona isimleri ve fiyatlrı barındıran son halini kaydediyoruz.\n",
    "agg_df.dropna(inplace=True)\n",
    "persona_df = agg_df[[\"customer_lavel_based\",\"price\"]]\n",
    "persona_df.head()"
   ]
  },
  {
   "cell_type": "code",
   "execution_count": 238,
   "metadata": {},
   "outputs": [
    {
     "data": {
      "text/html": [
       "<div>\n",
       "<style scoped>\n",
       "    .dataframe tbody tr th:only-of-type {\n",
       "        vertical-align: middle;\n",
       "    }\n",
       "\n",
       "    .dataframe tbody tr th {\n",
       "        vertical-align: top;\n",
       "    }\n",
       "\n",
       "    .dataframe thead th {\n",
       "        text-align: right;\n",
       "    }\n",
       "</style>\n",
       "<table border=\"1\" class=\"dataframe\">\n",
       "  <thead>\n",
       "    <tr style=\"text-align: right;\">\n",
       "      <th></th>\n",
       "      <th>price</th>\n",
       "    </tr>\n",
       "  </thead>\n",
       "  <tbody>\n",
       "    <tr>\n",
       "      <th>count</th>\n",
       "      <td>109.000000</td>\n",
       "    </tr>\n",
       "    <tr>\n",
       "      <th>mean</th>\n",
       "      <td>403.105165</td>\n",
       "    </tr>\n",
       "    <tr>\n",
       "      <th>std</th>\n",
       "      <td>38.632112</td>\n",
       "    </tr>\n",
       "    <tr>\n",
       "      <th>min</th>\n",
       "      <td>249.000000</td>\n",
       "    </tr>\n",
       "    <tr>\n",
       "      <th>25%</th>\n",
       "      <td>385.363636</td>\n",
       "    </tr>\n",
       "    <tr>\n",
       "      <th>50%</th>\n",
       "      <td>404.925926</td>\n",
       "    </tr>\n",
       "    <tr>\n",
       "      <th>75%</th>\n",
       "      <td>421.727273</td>\n",
       "    </tr>\n",
       "    <tr>\n",
       "      <th>max</th>\n",
       "      <td>499.000000</td>\n",
       "    </tr>\n",
       "  </tbody>\n",
       "</table>\n",
       "</div>"
      ],
      "text/plain": [
       "            price\n",
       "count  109.000000\n",
       "mean   403.105165\n",
       "std     38.632112\n",
       "min    249.000000\n",
       "25%    385.363636\n",
       "50%    404.925926\n",
       "75%    421.727273\n",
       "max    499.000000"
      ]
     },
     "execution_count": 238,
     "metadata": {},
     "output_type": "execute_result"
    }
   ],
   "source": [
    "persona_df.describe()"
   ]
  },
  {
   "cell_type": "code",
   "execution_count": 239,
   "metadata": {},
   "outputs": [
    {
     "data": {
      "text/plain": [
       "<seaborn.axisgrid.FacetGrid at 0x1ba5f5f7af0>"
      ]
     },
     "execution_count": 239,
     "metadata": {},
     "output_type": "execute_result"
    },
    {
     "data": {
      "image/png": "[encoded data removed]",
      "text/plain": [
       "<Figure size 360x360 with 1 Axes>"
      ]
     },
     "metadata": {
      "needs_background": "light"
     },
     "output_type": "display_data"
    }
   ],
   "source": [
    "# Fiyatın personalara göre dağılımı\n",
    "sns.relplot(persona_df.index,persona_df[\"price\"])"
   ]
  },
  {
   "cell_type": "markdown",
   "metadata": {},
   "source": [
    "## Personaları Fiyatlara Göre Segmentlere Ayırma\n",
    "**Bu Aşamada Fiyat aralıklarına göre her bir tanımlanan yeni müşteriyi(Persona) segmentlere atayacağız. Fiyat arağını 4e bölerek en iyi fiyat aralığına A segmenti en düşük fiyat aralığına ise D segmenti atayazağız.**"
   ]
  },
  {
   "cell_type": "code",
   "execution_count": 240,
   "metadata": {},
   "outputs": [
    {
     "data": {
      "text/plain": [
       "array([[<AxesSubplot:title={'center':'price'}>]], dtype=object)"
      ]
     },
     "execution_count": 240,
     "metadata": {},
     "output_type": "execute_result"
    },
    {
     "data": {
      "image/png": "[encoded data removed]",
      "text/plain": [
       "<Figure size 432x288 with 1 Axes>"
      ]
     },
     "metadata": {
      "needs_background": "light"
     },
     "output_type": "display_data"
    }
   ],
   "source": [
    "# Personaların Dağılımına bakalım\n",
    "persona_df.hist()"
   ]
  },
  {
   "cell_type": "markdown",
   "metadata": {},
   "source": [
    "**Histograma baktığımıda normal dağılıma yakın davrandığını görüyorum. Ama biraz büyük değerlerin frekansının yüksek olduğunu görüyproum bu sebeple manule olarak 249-350,350-400,400-450 ve 450-500 arasında segmentlere ayıracağım**"
   ]
  },
  {
   "cell_type": "code",
   "execution_count": 241,
   "metadata": {},
   "outputs": [],
   "source": [
    "persona_df[\"Segment\"] = pd.cut(persona_df[\"price\"], bins=[persona_df[\"price\"].min()-1,350,400,450,persona_df[\"price\"].max()], labels=[\"D\",\"C\",\"B\",\"A\"])"
   ]
  },
  {
   "cell_type": "code",
   "execution_count": 242,
   "metadata": {},
   "outputs": [
    {
     "data": {
      "text/html": [
       "<div>\n",
       "<style scoped>\n",
       "    .dataframe tbody tr th:only-of-type {\n",
       "        vertical-align: middle;\n",
       "    }\n",
       "\n",
       "    .dataframe tbody tr th {\n",
       "        vertical-align: top;\n",
       "    }\n",
       "\n",
       "    .dataframe thead th {\n",
       "        text-align: right;\n",
       "    }\n",
       "</style>\n",
       "<table border=\"1\" class=\"dataframe\">\n",
       "  <thead>\n",
       "    <tr style=\"text-align: right;\">\n",
       "      <th></th>\n",
       "      <th>customer_lavel_based</th>\n",
       "      <th>price</th>\n",
       "      <th>Segment</th>\n",
       "    </tr>\n",
       "  </thead>\n",
       "  <tbody>\n",
       "    <tr>\n",
       "      <th>0</th>\n",
       "      <td>CAN_AND_M_0_18</td>\n",
       "      <td>499.000000</td>\n",
       "      <td>A</td>\n",
       "    </tr>\n",
       "    <tr>\n",
       "      <th>1</th>\n",
       "      <td>TUR_AND_M_0_18</td>\n",
       "      <td>484.185185</td>\n",
       "      <td>A</td>\n",
       "    </tr>\n",
       "    <tr>\n",
       "      <th>2</th>\n",
       "      <td>CAN_AND_M_25_30</td>\n",
       "      <td>474.000000</td>\n",
       "      <td>A</td>\n",
       "    </tr>\n",
       "    <tr>\n",
       "      <th>3</th>\n",
       "      <td>USA_AND_F_51+</td>\n",
       "      <td>474.000000</td>\n",
       "      <td>A</td>\n",
       "    </tr>\n",
       "    <tr>\n",
       "      <th>4</th>\n",
       "      <td>FRA_AND_F_31_50</td>\n",
       "      <td>472.333333</td>\n",
       "      <td>A</td>\n",
       "    </tr>\n",
       "  </tbody>\n",
       "</table>\n",
       "</div>"
      ],
      "text/plain": [
       "  customer_lavel_based       price Segment\n",
       "0       CAN_AND_M_0_18  499.000000       A\n",
       "1       TUR_AND_M_0_18  484.185185       A\n",
       "2      CAN_AND_M_25_30  474.000000       A\n",
       "3        USA_AND_F_51+  474.000000       A\n",
       "4      FRA_AND_F_31_50  472.333333       A"
      ]
     },
     "execution_count": 242,
     "metadata": {},
     "output_type": "execute_result"
    }
   ],
   "source": [
    "persona_df.head()"
   ]
  },
  {
   "cell_type": "code",
   "execution_count": 243,
   "metadata": {},
   "outputs": [
    {
     "data": {
      "text/plain": [
       "<seaborn.axisgrid.FacetGrid at 0x1ba5f071400>"
      ]
     },
     "execution_count": 243,
     "metadata": {},
     "output_type": "execute_result"
    },
    {
     "data": {
      "image/png": "[encoded data removed]",
      "text/plain": [
       "<Figure size 412.75x360 with 1 Axes>"
      ]
     },
     "metadata": {
      "needs_background": "light"
     },
     "output_type": "display_data"
    }
   ],
   "source": [
    "sns.relplot(persona_df.index,\"price\", data =persona_df, hue=\"Segment\")"
   ]
  },
  {
   "cell_type": "code",
   "execution_count": 244,
   "metadata": {},
   "outputs": [
    {
     "data": {
      "text/plain": [
       "<AxesSubplot:xlabel='Segment', ylabel='count'>"
      ]
     },
     "execution_count": 244,
     "metadata": {},
     "output_type": "execute_result"
    },
    {
     "data": {
      "image/png": "[encoded data removed]",
      "text/plain": [
       "<Figure size 432x288 with 1 Axes>"
      ]
     },
     "metadata": {
      "needs_background": "light"
     },
     "output_type": "display_data"
    }
   ],
   "source": [
    "sns.countplot(persona_df[\"Segment\"])"
   ]
  },
  {
   "cell_type": "markdown",
   "metadata": {},
   "source": [
    "# **Sonuç Olarak: Müşterilerin satın alma bilgilerinden yararlanarak, müşterileri ülke+cihaz+cinsiyet+yaş kategorosi krılımında gruplayarak yeni bir persona tanımlamış olduk. Böylelikle yeni gelen bir müşterinin bu kategorilerine bakarak ortalama bir price tahmininde bulunabileceğim ve müşteriyi bir segmente koyabileceğim**"
   ]
  },
  {
   "cell_type": "code",
   "execution_count": null,
   "metadata": {},
   "outputs": [],
   "source": []
  },
  {
   "cell_type": "markdown",
   "metadata": {},
   "source": [
    "**Bir örnek ile bunu pekiştilerim. Örneğin Türkiyeden, android kullanıcısı 27 yaşında bir bayanın *(TUR_AND_F_25_30)* ortalama ne kadar para bırakacağına bakacak olursak;**"
   ]
  },
  {
   "cell_type": "code",
   "execution_count": 245,
   "metadata": {},
   "outputs": [
    {
     "data": {
      "text/html": [
       "<div>\n",
       "<style scoped>\n",
       "    .dataframe tbody tr th:only-of-type {\n",
       "        vertical-align: middle;\n",
       "    }\n",
       "\n",
       "    .dataframe tbody tr th {\n",
       "        vertical-align: top;\n",
       "    }\n",
       "\n",
       "    .dataframe thead th {\n",
       "        text-align: right;\n",
       "    }\n",
       "</style>\n",
       "<table border=\"1\" class=\"dataframe\">\n",
       "  <thead>\n",
       "    <tr style=\"text-align: right;\">\n",
       "      <th></th>\n",
       "      <th>customer_lavel_based</th>\n",
       "      <th>price</th>\n",
       "      <th>Segment</th>\n",
       "    </tr>\n",
       "  </thead>\n",
       "  <tbody>\n",
       "    <tr>\n",
       "      <th>34</th>\n",
       "      <td>TUR_AND_F_25_30</td>\n",
       "      <td>416.391304</td>\n",
       "      <td>B</td>\n",
       "    </tr>\n",
       "  </tbody>\n",
       "</table>\n",
       "</div>"
      ],
      "text/plain": [
       "   customer_lavel_based       price Segment\n",
       "34      TUR_AND_F_25_30  416.391304       B"
      ]
     },
     "execution_count": 245,
     "metadata": {},
     "output_type": "execute_result"
    }
   ],
   "source": [
    "persona_df[persona_df[\"customer_lavel_based\"]==\"TUR_AND_F_25_30\"]"
   ]
  },
  {
   "cell_type": "markdown",
   "metadata": {},
   "source": [
    "# **Görüldüğü üzere özellikleri söylenen müşteri ortalama 416 birim para bırakması bekleniyor ve B segmentine bulunuyor. İş kararıyla segmentler bazdında bir aksiyon kararı belrilenmiş olsaydı, gerekli aksiyonu alırdık**"
   ]
  },
  {
   "cell_type": "code",
   "execution_count": null,
   "metadata": {},
   "outputs": [],
   "source": []
  }
 ],
 "metadata": {
  "kernelspec": {
   "display_name": "Python 3",
   "language": "python",
   "name": "python3"
  },
  "language_info": {
   "codemirror_mode": {
    "name": "ipython",
    "version": 3
   },
   "file_extension": ".py",
   "mimetype": "text/x-python",
   "name": "python",
   "nbconvert_exporter": "python",
   "pygments_lexer": "ipython3",
   "version": "3.8.5"
  }
 },
 "nbformat": 4,
 "nbformat_minor": 4
}
